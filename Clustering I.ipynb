{
 "cells": [
  {
   "cell_type": "markdown",
   "metadata": {},
   "source": [
    "# Reconocimiento de patrones: Identificación de grupos o Clustering\n",
    "### Ramón Soto C. [(rsotoc@moviquest.com)](mailto:rsotoc@moviquest.com/)\n",
    "![ ](images/blank.png)\n",
    "![agents](images/binary_data_under_a_magnifying.jpg)\n",
    "[ver en nbviewer](http://nbviewer.ipython.org/github/rsotoc/pattern-recognition/blob/master/Clustering%20I.ipynb)"
   ]
  },
  {
   "cell_type": "markdown",
   "metadata": {},
   "source": [
    "## Definición\n",
    "\n",
    "Una estrategia natural de reconocimiento de patrones que parece obvia es la clasificación, un proceso que consiste en asignar los objetos de interés a **clases** de objetos. Una técnica muy importante para realizar esta tarea es la *identificación de grupos*, mejor conocida \"*clustering*\".\n",
    "\n",
    "El clustering consiste en agrupar objetos en grupos de tal manera que los objetos pertenecientes a un grupo (o \"*cluster*\") son más semejantes entre sí que a otros objetos no pertenecientes al grupo.\n",
    "\n",
    "![](images/clusters_aficionados.jpg)\n",
    "![ ](images/blank.png)\n",
    "\n",
    "La semejanza se define a través de diversos rasgos, algunos de los cuales pueden ser de carácter semántico; En la imagen a continuación, por ejemplo, pueden distinguirse dos grupos principales de fans: los \"*amarillos*\" que junto con los \"*azules*\" forman el grupo de \"*fans brasileños*\" en oposición al grupo de fans \"*verdes*\" y fans \"*rojos*\" que conforman el grupo de \"*fans mexicanos*\".\n",
    "\n",
    "El agrupamiento es una habilidad natural de los seres vivos. Las relaciones de semejanza nos permiten identificar grupos incluso como si fueran objetos inexistentes:\n",
    "\n",
    "![](images/law-of-proximity.png)\n",
    "![ ](images/blank.png)\n",
    "![](images/Pattern1.jpg)\n",
    "![ ](images/blank.png)\n",
    "![](images/mmillerimplied.png)\n",
    "![ ](images/blank.png)\n",
    "![](images/gestalt_proximity_dalmation_by_gderanidaye.png)\n",
    "![ ](images/blank.png)\n",
    "![](images/What-Lies-Within-by-um0p3pisdn.png)\n",
    "![ ](images/blank.png)\n"
   ]
  },
  {
   "cell_type": "markdown",
   "metadata": {},
   "source": [
    "## Medidas de semejanza\n",
    "\n",
    "La base del agrupamiento es la determinación de la semejanza entre objetos.\n",
    "\n",
    "![](images/people-groups.jpg)\n",
    "![ ](images/blank.png)\n",
    "\n",
    "La semejanza es un juicio subjetivo mediante el cual las personas describen su percepción de cercanía o parecido entre dos objetos. El objetivo del reconocimiento de patrones es sistematizar la medición de esta evaluación.\n",
    "\n",
    "La teoría de la Gestalt reconoce varios principios en base a los cuales se puede explicar la percepción. Entre estos principios podemos distinguir los de \"proximidad\" y \"similitud\". \n",
    "\n",
    "![](images/Gestalt_grouping.jpg)\n",
    "![ ](images/blank.png)\n",
    "\n",
    "La \"proximidad\" se puede medir de manera directa a través de medidas de distancia. La \"similitud\", por su parte, es un concepto más difícil de generalizar: la similitud entre objetos puede definirse a través de diferentes características. \n",
    "\n",
    "![](images/similarity.png)"
   ]
  },
  {
   "cell_type": "markdown",
   "metadata": {},
   "source": [
    "Las técnicas de reconocimiento de patrones miden la similitud en términos de la proximidad entre puntos de un espacio teórico. Este espacio se construye utilizando los rasgos que describen a un objeto como coordenadas, como en el siguiente ejemplo:\n",
    "\n",
    "[![ ](images/FeatureSpace small.png)](images/FeatureSpace.png)\n",
    "![ ](images/blank.png)"
   ]
  },
  {
   "cell_type": "markdown",
   "metadata": {},
   "source": [
    "La forma más común de medir la proximidad entre dos puntos es a través de la distancia. Existen diversas funciones de distancia, siendo algunas de ellas las siguientes:\n",
    "\n",
    "* **Distancia euclidiana**. La forma más común para medir la distancia es la llamada distancia euclidiana. Corresponde a la distancia en línea recta desde un punto al otro\n",
    "\n",
    "![](images/euclidean.png)\n",
    "![ ](images/blank.png)\n",
    "\n",
    "En general, si p = (p<sub>1</sub>, p<sub>2</sub>, ..., p<sub>*n*</sub>) y q = (q<sub>1</sub>, q<sub>2</sub>, ..., q<sub>*n*</sub>) son dos puntos en un espacio de *n* características, la distancia euclidiana entre p y q es \n",
    "\n",
    "![](images/euclideanEq.png)\n",
    "![ ](images/blank.png)\n",
    "\n",
    "Por ejemplo, en Python, utilizando el paquete [*scipy.spatial.distance*](http://docs.scipy.org/doc/scipy/reference/generated/scipy.spatial.distance.pdist.html#scipy.spatial.distance.pdist):"
   ]
  },
  {
   "cell_type": "code",
   "execution_count": 1,
   "metadata": {
    "collapsed": true
   },
   "outputs": [],
   "source": [
    "from scipy.spatial import distance"
   ]
  },
  {
   "cell_type": "code",
   "execution_count": 2,
   "metadata": {
    "collapsed": false
   },
   "outputs": [
    {
     "name": "stdout",
     "output_type": "stream",
     "text": [
      "La distancia entre el punto (1, 2, 3) y el punto (4, 5, 6) es: 5.19615242271\n"
     ]
    }
   ],
   "source": [
    "a = (1,2,3)\n",
    "b = (4,5,6)\n",
    "\n",
    "print('La distancia entre el punto {} y el punto {} es:'.format(a,b), distance.euclidean(a,b))"
   ]
  },
  {
   "cell_type": "markdown",
   "metadata": {},
   "source": [
    "O, utilizando conjuntos de datos:"
   ]
  },
  {
   "cell_type": "code",
   "execution_count": 3,
   "metadata": {
    "collapsed": true
   },
   "outputs": [],
   "source": [
    "import numpy as np\n",
    "import pandas as pd\n",
    "import os\n",
    "import matplotlib.pyplot as plt\n",
    "%matplotlib inline  \n",
    "\n",
    "import warnings # current version of seaborn generates a bunch of warnings that we'll ignore\n",
    "warnings.filterwarnings(\"ignore\")\n",
    "\n",
    "os.chdir('Data sets/Pima Indian Data Set')"
   ]
  },
  {
   "cell_type": "code",
   "execution_count": 4,
   "metadata": {
    "collapsed": false
   },
   "outputs": [
    {
     "name": "stdout",
     "output_type": "stream",
     "text": [
      "    emb  gl2h  pad  ept  is2h   imc    fpd  edad  class\n",
      "0     6   148   72   35     0  33.6  0.627    50      1\n",
      "1     1    85   66   29     0  26.6  0.351    31      0\n",
      "2     8   183   64    0     0  23.3  0.672    32      1\n",
      "3     1    89   66   23    94  28.1  0.167    21      0\n",
      "4     0   137   40   35   168  43.1  2.288    33      1\n",
      "5     5   116   74    0     0  25.6  0.201    30      0\n",
      "6     3    78   50   32    88  31.0  0.248    26      1\n",
      "7    10   115    0    0     0  35.3  0.134    29      0\n",
      "8     2   197   70   45   543  30.5  0.158    53      1\n",
      "9     8   125   96    0     0   0.0  0.232    54      1\n",
      "10    4   110   92    0     0  37.6  0.191    30      0\n",
      "11   10   168   74    0     0  38.0  0.537    34      1\n",
      "12   10   139   80    0     0  27.1  1.441    57      0\n",
      "13    1   189   60   23   846  30.1  0.398    59      1\n",
      "14    5   166   72   19   175  25.8  0.587    51      1\n",
      "15    7   100    0    0     0  30.0  0.484    32      1\n",
      "16    0   118   84   47   230  45.8  0.551    31      1\n",
      "17    7   107   74    0     0  29.6  0.254    31      1\n",
      "18    1   103   30   38    83  43.3  0.183    33      0\n",
      "19    1   115   70   30    96  34.6  0.529    32      1\n",
      "\n",
      "La matriz de distancias euclidianas para los datos de diabetes es:\n",
      " [  66.91095707   54.29633528  115.73444431  172.58913326   52.14577141\n",
      "  117.17040429   89.2139734   545.3336868    58.98403195   59.07783083\n",
      "   43.82200475   38.45663267  847.23273216  176.82715176   95.13664094\n",
      "  233.73884097   57.3422979   105.33891558  103.36348293  102.52313417\n",
      "   94.8171074   178.66729407   43.40532801   90.04093852   79.10586002\n",
      "  555.12723519   68.02627552   47.67625824   89.5265022    68.63991623\n",
      "  852.87821652  194.26707311   73.97011349  234.53716123   37.88151804\n",
      "   94.19616884  100.99025539  135.64400107  180.55650488   67.88602095\n",
      "  141.80786218   94.22467535  545.55944149   73.58725161   79.61608733\n",
      "   23.43305838   53.26379034  846.83015716  178.08777955  105.02821213\n",
      "  245.57130256   76.92765903  127.82894477  122.28127595   94.7391083\n",
      "  101.29783392   23.07415353  120.80497129  463.46171372  116.14479853\n",
      "  103.25817438  126.56676855  115.93370121  759.59795508  116.03648736\n",
      "  118.3372743   143.70955938   99.45982892   47.04296181   30.15594542\n",
      "  177.17676363  100.9879775   178.08840422  381.82757483  187.33882976\n",
      "  181.50109479  178.03391812  178.84830838  681.01510416   53.11481339\n",
      "  180.67336388   79.36817479  178.1695461    92.17630403   81.67217446\n",
      "  104.10649456   74.81373195  551.37465652   42.5013054    22.47220728\n",
      "   53.85046793   36.3701471   850.08722424  184.20691897   75.89756313\n",
      "  235.89862759   10.14902995  103.80891255  101.16870852  112.75860498\n",
      "  471.68342996  121.9139051   107.78480064  132.68791777  120.0692852\n",
      "  766.91579231  128.92693637  108.65107315  152.96447891  101.13337746\n",
      "   35.93458258   43.47457833  556.02341729  105.79272      92.36500013\n",
      "   91.20555032   88.48134407  852.25002769  198.4224161    16.4988636\n",
      "  249.77874987   74.74292207   97.66269708  122.91316457  551.09096842\n",
      "  552.73086678  546.08826543  548.11696388  304.12862016  370.27054169\n",
      "  558.25563703  324.24102832  552.72038068  471.85892026  455.2108826\n",
      "   47.41056508   64.66137197   34.66802101  850.06884283  184.1921986\n",
      "  105.95311937  240.81682201   47.05486674  124.65509376  112.34877929\n",
      "   61.16600131   43.14872536  851.12707209  187.36167382   92.92925185\n",
      "  235.20707812   20.19910812  110.79932339  103.18970028   39.07207719\n",
      "  847.14250827  177.36076934  100.88113208  240.58021572   61.72228195\n",
      "  120.85203894  114.18213549  848.08082625  178.44724519   92.54904564\n",
      "  238.1039313    41.87671154  114.23669535  107.49921741  671.58657351\n",
      "  853.54028458  621.83640406  850.87324011  769.11721228  754.23754028\n",
      "  202.25887029   84.1546273   186.78744842  123.31023159   97.06411986\n",
      "  250.57662399   74.33850214   97.24700819  123.68573897  235.88456543\n",
      "  157.61784615  136.29908468  102.53631084  101.28215847   45.330009  ]\n"
     ]
    }
   ],
   "source": [
    "df = pd.read_csv(\"pima-indians-diabetes.data-small-orig\", \n",
    "                 names = ['emb', 'gl2h', 'pad', 'ept', 'is2h', 'imc', 'fpd', 'edad', 'class'])\n",
    "\n",
    "print(df)\n",
    "print('\\nLa matriz de distancias euclidianas para los datos de diabetes es:\\n', distance.pdist(df, 'euclidean'))"
   ]
  },
  {
   "cell_type": "markdown",
   "metadata": {},
   "source": [
    "<hr style=\"border-width: 3px;\">\n",
    "\n",
    "### Tarea 3\n",
    "\n",
    "* ... \n",
    "\n",
    "**Fecha de entrega**: Martes 29 de agosto.\n"
   ]
  },
  {
   "cell_type": "code",
   "execution_count": null,
   "metadata": {
    "collapsed": true
   },
   "outputs": [],
   "source": []
  }
 ],
 "metadata": {
  "celltoolbar": "Raw Cell Format",
  "kernelspec": {
   "display_name": "Python 3",
   "language": "python",
   "name": "python3"
  },
  "language_info": {
   "codemirror_mode": {
    "name": "ipython",
    "version": 3
   },
   "file_extension": ".py",
   "mimetype": "text/x-python",
   "name": "python",
   "nbconvert_exporter": "python",
   "pygments_lexer": "ipython3",
   "version": "3.5.1"
  }
 },
 "nbformat": 4,
 "nbformat_minor": 0
}
