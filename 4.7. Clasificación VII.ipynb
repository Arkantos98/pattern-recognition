{
 "cells": [
  {
   "cell_type": "markdown",
   "metadata": {},
   "source": [
    "# Reconocimiento de patrones: Clasificación\n",
    "### Ramón Soto C. [(rsotoc@moviquest.com)](mailto:rsotoc@moviquest.com/)\n",
    "![ ](images/blank.png)\n",
    "![agents](images/binary_data_under_a_magnifying.jpg)\n",
    "[ver en nbviewer](http://nbviewer.ipython.org/github/rsotoc/pattern-recognition/blob/master/Clasificación%20V.ipynb)"
   ]
  },
  {
   "cell_type": "markdown",
   "metadata": {},
   "source": [
    "## Técnicas de clasificación: Reconocimiento sintáctico\n",
    "\n",
    "\n",
    "### Reconocimiento estructural de patrones\n",
    "\n",
    "El **reconocimiento de patrones estructural** hace énfasis en la integración de patrones simples para conformar patrones complejos. En este enfoque, un patrón es descrito mediante una estructura jerárquica de componentes, como en el caso de la estructura sintáctica de los lenguajes formales:\n",
    "\n",
    "![](images/structural.jpg)<br>\n",
    "\n",
    "Existen dos formas principales de reconocimiento estructural de patrones: la **estructura de pareo** (*matching structure*) y el **análisis sintáctico**. El método de apareamiento consiste básicamente en *aparear* los elementos a clasificar con *moldes* conocidos. En muchos casos, este método puede expresarse de manera sintáctica. \n",
    "\n",
    "![](images/matching.jpg)\n",
    "\n",
    "El enfoque sintáctico, por su parte, realiza el reconocimiento de patrones a partir de una determinada *sintaxis*, lo que permite utilizar las herramientas de la teoría formal de lenguajes. \n",
    "\n",
    "### Gramáticas formales\n",
    "\n",
    "Una gramática (formal) se define como la tupla\n",
    "\n",
    "$$G = (N,\\Sigma,P,S)$$\n",
    "\n",
    "donde\n",
    "\n",
    "* $N$ es un conjunto finito de símbolos  no-terminales (variables a substituir)\n",
    "* $\\Sigma$ es un conjunto finito de símbolos terminales llamado el *alfabeto* o *vocabulario*\n",
    "* $S\\in N$ es el *símbolo inicial*, es decir el símbolo no terminal desde donde se inicia la construcción de una *'frase'*\n",
    "* $P$ es un conjunto finito de *reglas de producción*, es decir, reglas que definen cómo pueden irse reemplazando los símbolos no-terminales, desde el símbolo inicial, hasta tener una frase terminada.\n",
    "\n",
    "La forma de las reglas de producción determinan el tipo de gramática y el correspondiente autómata. \n",
    "\n",
    "Cada gramática está asociado a un tipo de *autómata* que sería, en realidad, el responsable de reconocer los patrones generables por la gramática correspondiente.\n",
    "\n",
    "Un lenguaje, es un conjunto de secuencias o cadenas sobre $\\Sigma$: $L(G) \\subseteq \\Sigma^*$. Cuando se aplica la teoría de gramáticas formales al lenguaje natural, el vocabulario es usualmente un conjunto de letras, signos, palabras, morfemas o sonidos.\n",
    "\n",
    "Los tipos principales de autómata están definidos mediante la jerarquía de Chomsky:\n",
    "\n",
    "Gramática | Lenguaje | Autómata\n",
    "-| \n",
    "Tipo 0 | Recursivamente enumerable |\tMáquina de Turing\n",
    "Tipo 1 | Dependiente del contexto | Autómata linealmente acotado\n",
    "Tipo 2 | Independiente del contexto | Autómata de pila\n",
    "Tipo 3 | Regular | Autómata finito"
   ]
  },
  {
   "cell_type": "markdown",
   "metadata": {},
   "source": [
    "#### Gramáticas no lingüísticas\n",
    "\n",
    "Aunque la formulación de gramáticas proviene del contexto lingüístico, es posible desarrollar gramáticas para representar patrones en otros contextos. Consideremos por ejemplo la siguiente gramática regular:\n",
    "\n",
    "![](images/syntactic_1.png)<br>\n",
    "\n",
    "En esta gramática, los elementos del alfabeto son segmentos de rectángulos. A partir de las reglas en $P$ podemos construir rectángulos como los siguientes:<br>\n",
    "\n",
    "![](images/syntactic_2.png)\n",
    "\n",
    "Dada esta gramática podemos construir un autómata finito capaz de reconocer rectángulos en una imagen. \n",
    "\n",
    "Un problema que ha llamado intensamente la atención de la industria es el reconocimiento automático de placas vehiculares. Este es un problema relativamente simple de resolver en ambientes controlados, sin embargo, es un problema complicado cauando deben reconocerse placas de diferentes tipos en un contexto abierto, posiblemente con visibiidad limitada:\n",
    "\n",
    "![](images/plates.jpg)\n",
    "\n",
    "Un paso importante en la resolución de este problema es identificar la *estructura* en los componentes de una placa: Una placa de auto es un rectángulo (el símbolo inicial $S$):\n",
    "\n",
    "![](images/plates_1.jpg)\n",
    "\n",
    "Pero no cualquier rectángulo \"*genera*\" una placa:\n",
    "\n",
    "![](images/plates_2.jpg)\n",
    "\n",
    "\n",
    "\n",
    "Una etapa posterior incluiría evaluar las posibles producciones a partir del rectángulo, capaces de conducir a la generación de una placa válida:\n",
    "\n",
    "![](images/plates_3.jpg)"
   ]
  },
  {
   "cell_type": "markdown",
   "metadata": {},
   "source": [
    "### Procesamiento de lenguaje natural\n",
    "\n",
    "#### Gramáticas libres de contexto\n",
    "\n",
    "La ubicación de los lenguajes naturales en la jerarquía de Chomsky (o qué tanto pueden ser representados en ella) es un tema de discusión abierto. El uso de los diferentes tipos de gramáticas para análisis de lenguajes naturales ha sido limitado, siendo las gramáticas más utilizadas las gramáticas libres de contexto.\n",
    "\n",
    "Considérese la siguiente gramática:"
   ]
  },
  {
   "cell_type": "code",
   "execution_count": 1,
   "metadata": {
    "collapsed": false
   },
   "outputs": [
    {
     "name": "stdout",
     "output_type": "stream",
     "text": [
      "Grammar with 26 productions (start state = S)\n",
      "    S -> NP VP\n",
      "    NP -> Det N\n",
      "    NP -> NP PP\n",
      "    NP -> N\n",
      "    VP -> V NP\n",
      "    VP -> VP PP\n",
      "    VP -> V\n",
      "    PP -> P NP\n",
      "    PP -> P\n",
      "    Det -> 'el'\n",
      "    Det -> 'los'\n",
      "    Det -> 'la'\n",
      "    N -> 'hombre'\n",
      "    N -> 'parque'\n",
      "    N -> 'perro'\n",
      "    N -> 'amigos'\n",
      "    N -> 'cafe'\n",
      "    N -> 'leche'\n",
      "    V -> 'duerme'\n",
      "    V -> 'mira'\n",
      "    V -> 'toma'\n",
      "    V -> 'camina'\n",
      "    V -> 'toman'\n",
      "    P -> 'en'\n",
      "    P -> 'con'\n",
      "    P -> 'solo'\n"
     ]
    }
   ],
   "source": [
    "import nltk\n",
    "from nltk.parse.generate import generate\n",
    "from nltk import CFG\n",
    "from IPython.display import Image, display  \n",
    "\n",
    "grammar = nltk.CFG.fromstring(\"\"\"\n",
    "    S -> NP VP\n",
    "    NP -> Det N | NP PP | N\n",
    "    VP -> V NP | VP PP | V\n",
    "    PP -> P NP | P\n",
    "    Det -> 'el' | 'los' | 'la'\n",
    "    N -> 'hombre' | 'parque' | 'perro' | 'amigos' | 'cafe' | 'leche'\n",
    "    V -> 'duerme' | 'mira' | 'toma' | 'camina' | 'toman'\n",
    "    P -> 'en' | 'con' |'solo'\n",
    "    \"\"\")\n",
    "\n",
    "parser = nltk.ChartParser(grammar)\n",
    "print(grammar)"
   ]
  },
  {
   "cell_type": "markdown",
   "metadata": {},
   "source": [
    "Esta gramática permite generar frases como $\\textrm{\"el perro duerme\"}$, cuyo árbol de generación por $G$\n",
    "es:"
   ]
  },
  {
   "cell_type": "code",
   "execution_count": 4,
   "metadata": {
    "collapsed": false
   },
   "outputs": [
    {
     "name": "stdout",
     "output_type": "stream",
     "text": [
      "Árbol de generación de la cadena \"el perro duerme\"\n"
     ]
    },
    {
     "data": {
      "image/png": "[encoded data removed]",
      "text/plain": [
       "Tree('S', [Tree('NP', [Tree('Det', ['el']), Tree('N', ['perro'])]), Tree('VP', [Tree('V', ['duerme'])])])"
      ]
     },
     "metadata": {},
     "output_type": "display_data"
    }
   ],
   "source": [
    "X = \"el perro duerme\"\n",
    "print(\"Árbol de generación de la cadena \\\"{}\\\"\".format(X))\n",
    "for tree in parser.parse(X.split()):\n",
    "    display(tree) # tree.draw() arroja una ventana emergente"
   ]
  },
  {
   "cell_type": "markdown",
   "metadata": {},
   "source": [
    "o $\\textrm{\"los amigos toman cafe\"}$"
   ]
  },
  {
   "cell_type": "code",
   "execution_count": 5,
   "metadata": {
    "collapsed": false
   },
   "outputs": [
    {
     "name": "stdout",
     "output_type": "stream",
     "text": [
      "Generación de la cadena \"los amigos toman cafe\"\n"
     ]
    },
    {
     "data": {
      "image/png": "[encoded data removed]",
      "text/plain": [
       "Tree('S', [Tree('NP', [Tree('Det', ['los']), Tree('N', ['amigos'])]), Tree('VP', [Tree('V', ['toman']), Tree('NP', [Tree('N', ['cafe'])])])])"
      ]
     },
     "metadata": {},
     "output_type": "display_data"
    }
   ],
   "source": [
    "X = \"los amigos toman cafe\"\n",
    "print(\"Generación de la cadena \\\"{}\\\"\".format(X))\n",
    "for tree in parser.parse(X.split()):\n",
    "    display(tree)    "
   ]
  },
  {
   "cell_type": "markdown",
   "metadata": {},
   "source": [
    "o $\\textrm{\"el perro duerme en el parque\"}$"
   ]
  },
  {
   "cell_type": "code",
   "execution_count": 6,
   "metadata": {
    "collapsed": false
   },
   "outputs": [
    {
     "name": "stdout",
     "output_type": "stream",
     "text": [
      "Generación de la cadena \"el perro duerme en el parque\"\n"
     ]
    },
    {
     "data": {
      "image/png": "[encoded data removed]",
      "text/plain": [
       "Tree('S', [Tree('NP', [Tree('Det', ['el']), Tree('N', ['perro'])]), Tree('VP', [Tree('VP', [Tree('V', ['duerme'])]), Tree('PP', [Tree('P', ['en']), Tree('NP', [Tree('Det', ['el']), Tree('N', ['parque'])])])])])"
      ]
     },
     "metadata": {},
     "output_type": "display_data"
    }
   ],
   "source": [
    "X = \"el perro duerme en el parque\"\n",
    "print(\"Generación de la cadena \\\"{}\\\"\".format(X))\n",
    "for tree in parser.parse(X.split()):\n",
    "    display(tree)    "
   ]
  },
  {
   "cell_type": "markdown",
   "metadata": {},
   "source": [
    "Y muchas otras frases:"
   ]
  },
  {
   "cell_type": "code",
   "execution_count": 7,
   "metadata": {
    "collapsed": false
   },
   "outputs": [
    {
     "name": "stdout",
     "output_type": "stream",
     "text": [
      "el hombre duerme el hombre\n",
      "el hombre duerme el parque\n",
      "el hombre duerme el perro\n",
      "el hombre duerme el amigos\n",
      "el hombre duerme el cafe\n",
      "el hombre duerme el leche\n",
      "el hombre duerme los hombre\n",
      "el hombre duerme los parque\n",
      "el hombre duerme los perro\n",
      "el hombre duerme los amigos\n",
      "el hombre duerme los cafe\n",
      "el hombre duerme los leche\n",
      "el hombre duerme la hombre\n",
      "el hombre duerme la parque\n",
      "el hombre duerme la perro\n",
      "el hombre duerme la amigos\n",
      "el hombre duerme la cafe\n",
      "el hombre duerme la leche\n",
      "el hombre duerme el hombre en el hombre\n",
      "el hombre duerme el hombre en el parque\n",
      "el hombre duerme el hombre en el perro\n",
      "el hombre duerme el hombre en el amigos\n",
      "el hombre duerme el hombre en el cafe\n",
      "el hombre duerme el hombre en el leche\n",
      "el hombre duerme el hombre en los hombre\n",
      "el hombre duerme el hombre en los parque\n",
      "el hombre duerme el hombre en los perro\n",
      "el hombre duerme el hombre en los amigos\n",
      "el hombre duerme el hombre en los cafe\n",
      "el hombre duerme el hombre en los leche\n"
     ]
    }
   ],
   "source": [
    "sent_to_print = 30\n",
    "frases = generate(grammar)\n",
    "\n",
    "for sentence in generate(grammar, n=sent_to_print):\n",
    "    print(' '.join(sentence))"
   ]
  },
  {
   "cell_type": "markdown",
   "metadata": {},
   "source": [
    "Muchas de esta frases, aunque son sintácticamente correctas, no tienen un significado \"correcto\". \n",
    "\n",
    "Las gramáticas libres de contexto (y los correspondientes autómatas finitos / de pila) ofrecen un mecanismo poderoso para la generación (y reconocimiento) de patrones, particularmente útiles en el reconocimiento de patrones en lenguajes, por ejemplo para la implementación de compiladores (específicamente en la etapa de *parsing* o análisis sintáctico).\n",
    "\n",
    "#### Gramáticas sensibles al contexto\n",
    "\n",
    "Las gramáticas sensibles al contexto ofrecen una mayor capacidad de discriminación al establecer condiciones de contexto para la aplicación de reglas. Las reglas, en este caso, contienen cadenas en ambos lados, del tipo $\\alpha\\textrm{A}\\beta \\to \\alpha \\gamma \\beta$ donde $\\textrm{A} \\in N$, $\\alpha, \\beta \\in (N \\cup \\Sigma)^*$ y $\\gamma \\in (N \\cup \\Sigma)^+$. En la siguiente versión modificada de nuestra gramática, hemos reemplazado la regla $\\textrm{NP} \\to \\textrm{N}$ por las reglas $\\textrm{'la' NP} \\to \\textrm{NF}$ y $\\textrm{'la' NP} \\to \\textrm{NF}$ y hemos distinguido entre nombres femenino ($\\textrm{NF}$) y masculino ($\\textrm{NM}$). \n",
    "\n",
    "    P = {\n",
    "        S -> NP VP\n",
    "        NP -> Det N\n",
    "        NP -> NP PP\n",
    "        'la' NP -> NF\n",
    "        'el' NP -> NM\n",
    "        VP -> V NP\n",
    "        VP -> VP PP\n",
    "        VP -> V\n",
    "        PP -> P NP\n",
    "        PP -> P\n",
    "        Det -> 'el'\n",
    "        Det -> 'los'\n",
    "        Det -> 'la'S -> NP VP\n",
    "        NM -> 'hombre'\n",
    "        NM -> 'parque'\n",
    "        NM -> 'perro'\n",
    "        NM -> 'amigos'\n",
    "        NM -> 'cafe'\n",
    "        NF -> 'leche'\n",
    "        V -> 'duerme'\n",
    "        V -> 'mira'\n",
    "        V -> 'toma'\n",
    "        V -> 'camina'\n",
    "        V -> 'toman'\n",
    "        P -> 'en'\n",
    "        P -> 'con'\n",
    "        P -> 'solo'\n",
    "    }\n",
    "    \n",
    "Estos cambios evitarían la generación de frases como \"el hombre duerme <u>la hombre</u>\", \"el hombre duerme <u>la parque</u>\", \"el hombre duerme <u>la perro</u>\", \"el hombre duerme <u>la cafe</u>\" y \"el hombre duerme el hombre en <u>el leche</u>\". Sin embargo, tratar de reflejar el contexto en frases generadas en un lenguaje natural mediante reglas rebasa la capacidad de las gramáticas convencionales. Considérese el siguiente ejemplo clásico en un diálogo de *Groucho Marx* (*Animal Crackers*, 1930):\n",
    "\n",
    "> *One morning I shot an elephant in my pajamas. <br>\n",
    "> How he got in my pajamas, I don't know.* ![](images/groucho.jpg)\n",
    "\n",
    "Aunque la situación es utilizada como broma, particularmente al ser forzada por Groucho Marx, la estructura es sintácticamente correcta, lo cual es claro si modificamos ligeramente la cita, de la siguiente manera:\n",
    "\n",
    "> I shot an elephant in my yard.\n",
    "\n",
    "Una gramática (de juguete) capaz de generar estas frases sería:"
   ]
  },
  {
   "cell_type": "code",
   "execution_count": 8,
   "metadata": {
    "collapsed": false
   },
   "outputs": [
    {
     "name": "stdout",
     "output_type": "stream",
     "text": [
      "Grammar with 15 productions (start state = S)\n",
      "    S -> NP VP\n",
      "    PP -> P NP\n",
      "    NP -> Det N\n",
      "    NP -> Det N PP\n",
      "    NP -> 'I'\n",
      "    VP -> V NP\n",
      "    VP -> VP PP\n",
      "    Det -> 'an'\n",
      "    Det -> 'my'\n",
      "    N -> 'elephant'\n",
      "    N -> 'pajamas'\n",
      "    N -> 'yard'\n",
      "    V -> 'shot'\n",
      "    P -> 'con'\n",
      "    P -> 'in'\n"
     ]
    }
   ],
   "source": [
    "groucho_grammar = nltk.CFG.fromstring(\"\"\"\n",
    "    S -> NP VP\n",
    "    PP -> P NP \n",
    "    NP -> Det N | Det N PP | 'I'\n",
    "    VP -> V NP | VP PP \n",
    "    Det -> 'an' | 'my'\n",
    "    N -> 'elephant' | 'pajamas' | 'yard'\n",
    "    V -> 'shot'\n",
    "    P -> 'con' | 'in'\n",
    "    \"\"\")\n",
    "\n",
    "print(groucho_grammar)"
   ]
  },
  {
   "cell_type": "markdown",
   "metadata": {},
   "source": [
    "Esta gramática genera dos árboles en cada caso. Así para la frase \"*I shot an elephant in my yard*\", los árboles de generación serían:\n",
    "\n",
    "![](images/groucho_elephant.png)\n",
    "\n",
    "El árbol de la izquierda tiene al mismo nivel el verbo ('*shot*') y la preposición ('*in*'); describe la realización de la acción en un sitio \"SHOT ... IN...\": \"*Le disparé a un elefante cuando yo estaba en mi patio*\". El árbol de la derecha pone a la misma altura el objeto nominal ('*an elephant*') y a la frase preposicional ('*in my yard*'): \"*Le disparé a un elefante que estaba en mi patio*\". Ambas frases son sintácticamente y semánticamente correctas.\n",
    "\n",
    "Los árboles de generación para la frase original, \"*I shot an elephant in my pajamas*\", son:"
   ]
  },
  {
   "cell_type": "code",
   "execution_count": 9,
   "metadata": {
    "collapsed": false
   },
   "outputs": [
    {
     "data": {
      "image/png": "[encoded data removed]",
      "text/plain": [
       "Tree('S', [Tree('NP', ['I']), Tree('VP', [Tree('VP', [Tree('V', ['shot']), Tree('NP', [Tree('Det', ['an']), Tree('N', ['elephant'])])]), Tree('PP', [Tree('P', ['in']), Tree('NP', [Tree('Det', ['my']), Tree('N', ['pajamas'])])])])])"
      ]
     },
     "metadata": {},
     "output_type": "display_data"
    },
    {
     "data": {
      "image/png": "[encoded data removed]",
      "text/plain": [
       "Tree('S', [Tree('NP', ['I']), Tree('VP', [Tree('V', ['shot']), Tree('NP', [Tree('Det', ['an']), Tree('N', ['elephant']), Tree('PP', [Tree('P', ['in']), Tree('NP', [Tree('Det', ['my']), Tree('N', ['pajamas'])])])])])])"
      ]
     },
     "metadata": {},
     "output_type": "display_data"
    }
   ],
   "source": [
    "string = \"I shot an elephant in my pajamas\"\n",
    "\n",
    "groucho_parser = nltk.ChartParser(groucho_grammar)\n",
    "for tree in groucho_parser.parse(string.split()):\n",
    "    display(tree)"
   ]
  },
  {
   "cell_type": "markdown",
   "metadata": {},
   "source": [
    "En la gramática de prueba, la frase $\\textrm{\"el hombre con el perro camina en el parque con amigos\"}$ también tiene asociados dos árboles de generación:"
   ]
  },
  {
   "cell_type": "code",
   "execution_count": 2,
   "metadata": {
    "collapsed": false
   },
   "outputs": [
    {
     "name": "stdout",
     "output_type": "stream",
     "text": [
      "Generación de la cadena \"el hombre camina en el parque con amigos\"\n"
     ]
    },
    {
     "data": {
      "image/png": "[encoded data removed]",
      "text/plain": [
       "Tree('S', [Tree('NP', [Tree('Det', ['el']), Tree('N', ['hombre'])]), Tree('VP', [Tree('VP', [Tree('VP', [Tree('V', ['camina'])]), Tree('PP', [Tree('P', ['en']), Tree('NP', [Tree('Det', ['el']), Tree('N', ['parque'])])])]), Tree('PP', [Tree('P', ['con']), Tree('NP', [Tree('N', ['amigos'])])])])])"
      ]
     },
     "metadata": {},
     "output_type": "display_data"
    },
    {
     "data": {
      "image/png": "[encoded data removed]",
      "text/plain": [
       "Tree('S', [Tree('NP', [Tree('Det', ['el']), Tree('N', ['hombre'])]), Tree('VP', [Tree('VP', [Tree('V', ['camina'])]), Tree('PP', [Tree('P', ['en']), Tree('NP', [Tree('NP', [Tree('Det', ['el']), Tree('N', ['parque'])]), Tree('PP', [Tree('P', ['con']), Tree('NP', [Tree('N', ['amigos'])])])])])])])"
      ]
     },
     "metadata": {},
     "output_type": "display_data"
    }
   ],
   "source": [
    "X = \"el hombre camina en el parque con amigos\"\n",
    "print(\"Generación de la cadena \\\"{}\\\"\".format(X))\n",
    "for tree in parser.parse(X.split()):\n",
    "    display(tree)    "
   ]
  },
  {
   "cell_type": "markdown",
   "metadata": {},
   "source": [
    "Aunque las gramáticas sensibles al contexto ofrecen una manera elegante y natural de extender las gramáticas regulares para tomar en consideración el contexto en una producción, en la práctica son de poca utilidad para lidiar con problemas de lenguaje natural. Entre las limitaciones de las gramáticas sensibles al contexto destaca su complejidad computacional, particularmente su caracter [PSPACE-complete](https://en.wikipedia.org/wiki/PSPACE-complete) (también, es notable la rapidez con que una gramática sensible al contexto se vuelve difícil de describir y la tasa en que aumenta la cantidad de reglas conforme se agregan características del contexto). Por ello, se han propuesto otras formas de gramáticas que, sin poseer el poder de una gramática sensible al contexto, son capaces de describir elementos del contexto en una frase. Destacan entre tales gramáticas las gramáticas probabilísticas.\n",
    "\n",
    "\n",
    "### Naturaleza probabilística del lenguaje natural\n",
    "\n",
    "Una característica de los lenguajes naturales es que las frases que los componen no tienen una distribución uniforme. Por el contrario, existen construcciones que son más comunes que otras. De esta manera, aunque las frases $f_1 = \\textrm{\"el perro camina\"}$ y $f_2 = \\textrm{\"el perro vuela\"}$ son ambas correctas sintácticamente, es más probable encontrar la frase $f_1$ que la frase $f_2$ en un texto arbitrario. \n",
    "\n",
    "Esta característica estadística es modelada mediante las llamadas \"*gramáticas libres de contexto probabilísticas*\". Una **Gramática libre de contexto probabilística** (o estocástica) es una **Gramática libre de contexto** cuyas reglas de producción tienen asignadas probabilidades de aplicación, de manera que la suma de probabilidades para todas las reglas que expanden el mismo símbolo no terminal es uno. Considérese la siguiente variante de nuestra gramática ejemplo\n",
    "\n",
    "![](images/pcfg.png)\n",
    "\n",
    "Estas reglas generan un lenguaje centrado en el tema de $\\textrm{\"hombre o perro\"}$ en el $\\textrm{\"parque\"}$.\n",
    "\n",
    "Aunque las gramáticas libres de contexto probabilísticas resultan más adecuadas para generar y reconocer lenguajes naturales que las gramáticas no probabilísticas, aún carecen del poder para capturar las dependencias típicas de los lenguajes naturales. Sin embargo, estas gramáticas ofrecen un avance y nuevas ideas de cómo abordar el problema de identificación del contexto en una frase.\n",
    "\n",
    "### N-gramas y el enfoque probabilístico\n",
    "\n",
    "En la película \"*Take The Money And Run*\", Virgil Starkwell (Woody Allen) intenta asaltar un banco y entrega al cajero una nota con el mensaje \"*Please put fifty thousand dollars into this bag and act natural as I am pointing a gun at you*\" que es leída por los empleados del banco como \"*Please put fifty thousand dollars into this bag and ABT natural as I am pointing a GUB at you*\". \n",
    "\n",
    "[![](images/i_have_a_gub.jpg)](https://www.youtube.com/watch?v=pEm0zi8QrpA)\n",
    "\n",
    "Sin embargo, es obvio que la frase \"*I am pointing a GUN at you*\" es más probable que la frase \"*I am pointing a GUB at you*\", por lo que en la vida real no nos cuesta trabajo reconocer la frase correcta. Para modelar esta capacidad de predecir la ocurrencia de una palabra en una frase se utilizan **Modelos de lenguajes** que asignan probabilidades a las secuencias de palabras que pueden conformar un texto. \n",
    "\n",
    "El modelo más simple es el **Modelo de N-Gramas**\". Este modelo asume que la probabiliad de ocurrencia de una palabra está determinada por las palabras recientes; lo que se conoce como la **suposición de Markov**. De manera que para el cálculo de estas probabilidades basta contabilizar la ocurrencia de secuencias de palabras de longitud definida. Un **$N$-Grama** es una secuencia de $N$ palabras. Así, por ejemplo, un 2-grama (o bigrama) es una secuencia de 2 palabras, como \"*el hombre*\", \"*hombre camina*\", \"*camina en*\", \"*en el*\", \"*el parque*\". Un 3-grama (trigrama) es una secuencia de tres palabras, como \"*el hombre camina*\", \"*hombre camina en*\", \"*camina en el*\", \"*en el parque*\". "
   ]
  },
  {
   "cell_type": "code",
   "execution_count": 11,
   "metadata": {
    "collapsed": false
   },
   "outputs": [
    {
     "name": "stdout",
     "output_type": "stream",
     "text": [
      "[('los', 'amigos'), ('amigos', 'toman'), ('toman', 'cafe'), ('cafe', '.'), ('.', 'el'), ('el', 'perro'), ('perro', 'duerme'), ('duerme', 'en'), ('en', 'el'), ('el', 'parque'), ('parque', '.'), ('.', 'el'), ('el', 'hombre'), ('hombre', 'con'), ('con', 'el'), ('el', 'perro'), ('perro', 'camina'), ('camina', 'en'), ('en', 'el'), ('el', 'parque'), ('parque', 'con'), ('con', 'amigos'), ('amigos', '.')]\n",
      "Counter({('.', 'el'): 2, ('el', 'perro'): 2, ('en', 'el'): 2, ('el', 'parque'): 2, ('los', 'amigos'): 1, ('amigos', 'toman'): 1, ('toman', 'cafe'): 1, ('cafe', '.'): 1, ('perro', 'duerme'): 1, ('duerme', 'en'): 1, ('parque', '.'): 1, ('el', 'hombre'): 1, ('hombre', 'con'): 1, ('con', 'el'): 1, ('perro', 'camina'): 1, ('camina', 'en'): 1, ('parque', 'con'): 1, ('con', 'amigos'): 1, ('amigos', '.'): 1})\n"
     ]
    }
   ],
   "source": [
    "from nltk import word_tokenize\n",
    "from nltk.util import ngrams\n",
    "from collections import Counter\n",
    "\n",
    "text = \"los amigos toman cafe. el perro duerme en el parque. el hombre con el perro \\\n",
    "camina en el parque con amigos.\"\n",
    "\n",
    "token = nltk.word_tokenize(text)\n",
    "bigrams = ngrams(token,2)\n",
    "trigrams = ngrams(token,3)\n",
    "fourgrams = ngrams(token,4)\n",
    "fivegrams = ngrams(token,5)\n",
    "\n",
    "bigrams_list = list(bigrams)\n",
    "counter_bigrams = Counter(bigrams_list)\n",
    "\n",
    "print (bigrams_list)\n",
    "print (counter_bigrams)"
   ]
  },
  {
   "cell_type": "markdown",
   "metadata": {},
   "source": [
    "A continuación calculamos los bi-gramas para la colección de revisiones de películas, 1) utilizando los textos completos (<code>movies_reviews[\"bigrams\"]</code>) y 2) eliminando las palabras vacías (<code>movies_reviews[\"bigrams_sw\"]</code>)."
   ]
  },
  {
   "cell_type": "code",
   "execution_count": 12,
   "metadata": {
    "collapsed": false
   },
   "outputs": [
    {
     "data": {
      "text/html": [
       "<div>\n",
       "<table border=\"1\" class=\"dataframe\">\n",
       "  <thead>\n",
       "    <tr style=\"text-align: right;\">\n",
       "      <th></th>\n",
       "      <th>id</th>\n",
       "      <th>sentiment</th>\n",
       "      <th>review</th>\n",
       "      <th>words</th>\n",
       "      <th>bigrams</th>\n",
       "      <th>bigrams_sw</th>\n",
       "    </tr>\n",
       "  </thead>\n",
       "  <tbody>\n",
       "    <tr>\n",
       "      <th>0</th>\n",
       "      <td>5814_8</td>\n",
       "      <td>1</td>\n",
       "      <td>with all this stuff going down at the moment w...</td>\n",
       "      <td>[stuff, going, moment, mj, started, listening,...</td>\n",
       "      <td>[(with, all), (all, this), (this, stuff), (stu...</td>\n",
       "      <td>[(stuff, going), (going, moment), (moment, mj)...</td>\n",
       "    </tr>\n",
       "    <tr>\n",
       "      <th>1</th>\n",
       "      <td>2381_9</td>\n",
       "      <td>1</td>\n",
       "      <td>the classic war of the worlds   by timothy hi...</td>\n",
       "      <td>[classic, war, worlds, timothy, hines, enterta...</td>\n",
       "      <td>[(the, classic), (classic, war), (war, of), (o...</td>\n",
       "      <td>[(classic, war), (war, worlds), (worlds, timot...</td>\n",
       "    </tr>\n",
       "    <tr>\n",
       "      <th>2</th>\n",
       "      <td>7759_3</td>\n",
       "      <td>0</td>\n",
       "      <td>the film starts with a manager  nicholas bell ...</td>\n",
       "      <td>[film, starts, manager, nicholas, bell, giving...</td>\n",
       "      <td>[(the, film), (film, starts), (starts, with), ...</td>\n",
       "      <td>[(film, starts), (starts, manager), (manager, ...</td>\n",
       "    </tr>\n",
       "    <tr>\n",
       "      <th>3</th>\n",
       "      <td>3630_4</td>\n",
       "      <td>0</td>\n",
       "      <td>it must be assumed that those who praised this...</td>\n",
       "      <td>[must, assumed, praised, film, greatest, filme...</td>\n",
       "      <td>[(it, must), (must, be), (be, assumed), (assum...</td>\n",
       "      <td>[(must, assumed), (assumed, praised), (praised...</td>\n",
       "    </tr>\n",
       "    <tr>\n",
       "      <th>4</th>\n",
       "      <td>9495_8</td>\n",
       "      <td>1</td>\n",
       "      <td>superbly trashy and wondrously unpretentious  ...</td>\n",
       "      <td>[superbly, trashy, wondrously, unpretentious, ...</td>\n",
       "      <td>[(superbly, trashy), (trashy, and), (and, wond...</td>\n",
       "      <td>[(superbly, trashy), (trashy, wondrously), (wo...</td>\n",
       "    </tr>\n",
       "  </tbody>\n",
       "</table>\n",
       "</div>"
      ],
      "text/plain": [
       "       id  sentiment                                             review  \\\n",
       "0  5814_8          1  with all this stuff going down at the moment w...   \n",
       "1  2381_9          1   the classic war of the worlds   by timothy hi...   \n",
       "2  7759_3          0  the film starts with a manager  nicholas bell ...   \n",
       "3  3630_4          0  it must be assumed that those who praised this...   \n",
       "4  9495_8          1  superbly trashy and wondrously unpretentious  ...   \n",
       "\n",
       "                                               words  \\\n",
       "0  [stuff, going, moment, mj, started, listening,...   \n",
       "1  [classic, war, worlds, timothy, hines, enterta...   \n",
       "2  [film, starts, manager, nicholas, bell, giving...   \n",
       "3  [must, assumed, praised, film, greatest, filme...   \n",
       "4  [superbly, trashy, wondrously, unpretentious, ...   \n",
       "\n",
       "                                             bigrams  \\\n",
       "0  [(with, all), (all, this), (this, stuff), (stu...   \n",
       "1  [(the, classic), (classic, war), (war, of), (o...   \n",
       "2  [(the, film), (film, starts), (starts, with), ...   \n",
       "3  [(it, must), (must, be), (be, assumed), (assum...   \n",
       "4  [(superbly, trashy), (trashy, and), (and, wond...   \n",
       "\n",
       "                                          bigrams_sw  \n",
       "0  [(stuff, going), (going, moment), (moment, mj)...  \n",
       "1  [(classic, war), (war, worlds), (worlds, timot...  \n",
       "2  [(film, starts), (starts, manager), (manager, ...  \n",
       "3  [(must, assumed), (assumed, praised), (praised...  \n",
       "4  [(superbly, trashy), (trashy, wondrously), (wo...  "
      ]
     },
     "metadata": {},
     "output_type": "display_data"
    }
   ],
   "source": [
    "import numpy as np\n",
    "import pandas as pd\n",
    "from sklearn.naive_bayes import BernoulliNB, MultinomialNB\n",
    "from nltk.corpus import stopwords \n",
    "from bs4 import BeautifulSoup\n",
    "import os\n",
    "import re\n",
    "from IPython.display import display, HTML\n",
    "\n",
    "os.chdir('Data sets/Movies Reviews')\n",
    "movies_reviews = pd.read_csv(\"labeledTrainData.tsv\", sep='\\t')\n",
    "\n",
    "# Limpiar los documentos. Conservar sólo plabras (alfabéticas) y pasar a minúsculas\n",
    "movies_reviews.review = list(map(lambda row: re.sub(\"[^a-zA-Z]\", \" \", \n",
    "                                BeautifulSoup(row, \"lxml\").get_text().lower()), \n",
    "                                 movies_reviews.review))\n",
    "\n",
    "# Agregar una columna con la conversión de mensajes a listas de palabras\n",
    "# Se eliminan las palabras vacías\n",
    "stops = set(stopwords.words(\"english\"))                  \n",
    "\n",
    "movies_reviews[\"words\"] = list(map(lambda row: [w for w in row.split() if not w in stops], \n",
    "                                   movies_reviews.review))\n",
    "\n",
    "movies_reviews[\"bigrams\"] = list(map(lambda row: list(ngrams(word_tokenize(row),2)), \n",
    "                                   movies_reviews.review))\n",
    "\n",
    "movies_reviews[\"bigrams_sw\"] = list(map(lambda row: list(ngrams(row,2)), \n",
    "                                   movies_reviews.words))\n",
    "\n",
    "\n",
    "display(movies_reviews.head())"
   ]
  },
  {
   "cell_type": "code",
   "execution_count": 13,
   "metadata": {
    "collapsed": true
   },
   "outputs": [],
   "source": [
    "# Generar un arreglo con los valores de clasificación\n",
    "Sentiments = np.array([int(x) for x in movies_reviews.sentiment])"
   ]
  },
  {
   "cell_type": "markdown",
   "metadata": {},
   "source": [
    "A continuación, creamos una \"Bolsa de palabras\" con las palabras más frecuentes (limitamos la bolsa a las 4000 palabras más frecuentes) y mantenemos la frecuencia de cada palabra en la bolsa."
   ]
  },
  {
   "cell_type": "code",
   "execution_count": 14,
   "metadata": {
    "collapsed": false
   },
   "outputs": [
    {
     "name": "stdout",
     "output_type": "stream",
     "text": [
      "50 palabras más populares:\n",
      " [('movie', 44031), ('film', 40147), ('one', 26788), ('like', 20274), ('good', 15140), ('time', 12724), ('even', 12646), ('would', 12436), ('story', 11983), ('really', 11736), ('see', 11475), ('well', 10662), ('much', 9765), ('get', 9310), ('bad', 9301), ('people', 9285), ('also', 9156), ('first', 9061), ('great', 9058), ('made', 8362), ('way', 8026), ('make', 8023), ('could', 7922), ('movies', 7663), ('think', 7296), ('characters', 7154), ('character', 7023), ('watch', 6973), ('two', 6906), ('films', 6887), ('seen', 6679), ('many', 6675), ('life', 6628), ('plot', 6585), ('acting', 6490), ('never', 6484), ('love', 6454), ('little', 6435), ('best', 6416), ('show', 6295), ('know', 6166), ('ever', 5995), ('man', 5982), ('better', 5737), ('end', 5648), ('still', 5623), ('say', 5395), ('scene', 5378), ('scenes', 5207), ('go', 5157)]\n"
     ]
    }
   ],
   "source": [
    "# Construcción de la Bolsa de palabras. Se seleccionan las 4000 palabras más frecuentes\n",
    "all_words = nltk.FreqDist(w.lower() for wl in movies_reviews.words for w in wl)\n",
    "print(\"50 palabras más populares:\\n\", all_words.most_common(50))"
   ]
  },
  {
   "cell_type": "markdown",
   "metadata": {},
   "source": [
    "De manera semejante, construimos \"Bolsas de ngramas\" con dos elecciones: 1) bigramas en el texto completo y 2) bigramas en el texto sin palabras vacías:"
   ]
  },
  {
   "cell_type": "code",
   "execution_count": 15,
   "metadata": {
    "collapsed": false
   },
   "outputs": [
    {
     "name": "stdout",
     "output_type": "stream",
     "text": [
      "50 elementos más populares en la Bolsa de bigramas en texto completo:\n",
      " [(('of', 'the'), 39208), (('in', 'the'), 25352), (('it', 's'), 17274), (('this', 'movie'), 15721), (('the', 'film'), 13574), (('and', 'the'), 13347), (('is', 'a'), 13129), (('to', 'the'), 12011), (('the', 'movie'), 11892), (('to', 'be'), 11878), (('this', 'film'), 10933), (('it', 'is'), 10128), (('this', 'is'), 9470), (('on', 'the'), 9012), (('in', 'a'), 8918), (('it', 'was'), 8534), (('don', 't'), 8505), (('one', 'of'), 8092), (('for', 'the'), 8017), (('with', 'the'), 7899), (('of', 'a'), 7840), (('is', 'the'), 7007), (('if', 'you'), 6899), (('as', 'a'), 6859), (('at', 'the'), 6830), (('from', 'the'), 6196), (('in', 'this'), 6195), (('with', 'a'), 6078), (('as', 'the'), 5933), (('the', 'story'), 5361), (('i', 'was'), 5341), (('and', 'i'), 5313), (('that', 'the'), 5222), (('to', 'see'), 5166), (('out', 'of'), 5144), (('by', 'the'), 4877), (('i', 'm'), 4794), (('movie', 'is'), 4658), (('the', 'first'), 4625), (('was', 'a'), 4602), (('for', 'a'), 4595), (('doesn', 't'), 4550), (('i', 'have'), 4539), (('all', 'the'), 4488), (('there', 'is'), 4425), (('didn', 't'), 4337), (('have', 'been'), 4307), (('of', 'this'), 4270), (('and', 'a'), 4184), (('film', 'is'), 4126)]\n",
      "\n",
      "50 elementos más populares en la Bolsa de bigramas sin palabras vacías:\n",
      " [(('ever', 'seen'), 1319), (('special', 'effects'), 1114), (('even', 'though'), 1043), (('one', 'best'), 919), (('low', 'budget'), 880), (('year', 'old'), 878), (('looks', 'like'), 838), (('waste', 'time'), 789), (('see', 'movie'), 772), (('much', 'better'), 746), (('new', 'york'), 743), (('first', 'time'), 731), (('good', 'movie'), 719), (('watch', 'movie'), 654), (('sci', 'fi'), 652), (('years', 'ago'), 631), (('movie', 'ever'), 629), (('real', 'life'), 617), (('look', 'like'), 610), (('pretty', 'much'), 577), (('ever', 'made'), 567), (('main', 'character'), 554), (('pretty', 'good'), 552), (('high', 'school'), 548), (('well', 'done'), 516), (('watching', 'movie'), 515), (('bad', 'movie'), 512), (('movie', 'one'), 510), (('one', 'worst'), 500), (('one', 'thing'), 497), (('movie', 'really'), 491), (('saw', 'movie'), 486), (('movie', 'like'), 484), (('want', 'see'), 484), (('horror', 'movie'), 467), (('movie', 'would'), 465), (('see', 'film'), 463), (('really', 'good'), 456), (('horror', 'film'), 452), (('years', 'later'), 451), (('movies', 'like'), 449), (('many', 'people'), 446), (('movie', 'made'), 444), (('long', 'time'), 443), (('great', 'movie'), 443), (('must', 'see'), 439), (('good', 'film'), 434), (('film', 'one'), 424), (('really', 'bad'), 417), (('like', 'movie'), 416)]\n"
     ]
    }
   ],
   "source": [
    "# Construcción de la Bolsa de bigramas globales.\n",
    "all_bigrams = nltk.FreqDist(w for wl in movies_reviews.bigrams for w in wl)\n",
    "print(\"50 elementos más populares en la Bolsa de bigramas en texto completo:\\n\", \n",
    "      all_bigrams.most_common(50))\n",
    "\n",
    "# Construcción de la Bolsa de bigramas, eliminando previamente las palabras vacías.\n",
    "all_bigrams_sw = nltk.FreqDist(w for wl in movies_reviews.bigrams_sw for w in wl)\n",
    "print(\"\\n50 elementos más populares en la Bolsa de bigramas sin palabras vacías:\\n\", \n",
    "      all_bigrams_sw.most_common(50))"
   ]
  },
  {
   "cell_type": "markdown",
   "metadata": {},
   "source": [
    "A continuación descartamos las frecuencias de palabras y bigramas (no se requieren):"
   ]
  },
  {
   "cell_type": "code",
   "execution_count": 16,
   "metadata": {
    "collapsed": true
   },
   "outputs": [],
   "source": [
    "word_features = [ w for (w,f) in all_words.most_common(4000)]\n",
    "\n",
    "bigrams_features = [ w for (w,f) in all_bigrams.most_common(4000)]\n",
    "\n",
    "bigrams_sw_features = [ w for (w,f) in all_bigrams_sw.most_common(4000)]"
   ]
  },
  {
   "cell_type": "markdown",
   "metadata": {},
   "source": [
    "Estas bolsas constituyen el prototipo del vector de características:\n",
    "\n",
    "![ ](images/bag-of-words-bernoulli.png)"
   ]
  },
  {
   "cell_type": "markdown",
   "metadata": {},
   "source": [
    "## Clasificación mediante bolsa de palabras/ngramas\n",
    "\n",
    "Todos los textos, en este caso de revisiones de películas, serán codificados mediante vectores basados en este prototipo. \n",
    "\n",
    "Posteriormente utilizaremos estos vectores de características para clasificar las revisiones mediante un clasificador bayesiano ingenuo con modelo de Bernoulli:"
   ]
  },
  {
   "cell_type": "code",
   "execution_count": 18,
   "metadata": {
    "collapsed": false
   },
   "outputs": [],
   "source": [
    "#Regresa el vector de características de un documento\n",
    "def document_features(document, global_features): \n",
    "    document_words = set(document) \n",
    "    features = []\n",
    "    for word in global_features:\n",
    "        if (word in document_words) :\n",
    "            features.append(1)\n",
    "        else :\n",
    "            features.append(0)\n",
    "    return features\n",
    "\n",
    "# Vectores de características de la colección de documentos\n",
    "featuresets_words = [\n",
    "    document_features(d, word_features) for d in movies_reviews[\"words\"]]\n",
    "featuresets_bigrams = [\n",
    "    document_features(d, bigrams_features) for d in movies_reviews[\"bigrams\"]]\n",
    "featuresets_bigrams_sw = [\n",
    "    document_features(d, bigrams_sw_features) for d in movies_reviews[\"bigrams_sw\"]]"
   ]
  },
  {
   "cell_type": "code",
   "execution_count": 19,
   "metadata": {
    "collapsed": false
   },
   "outputs": [
    {
     "name": "stdout",
     "output_type": "stream",
     "text": [
      "Puntos mal clasificados en el conjunto de entrenamiento: 2771 de 20000 (13.855%)\n",
      "\n",
      "Puntos mal clasificados en el conjunto de prueba: 717 de 5000 (14.34%)\n",
      "\n"
     ]
    }
   ],
   "source": [
    "from sklearn.model_selection import train_test_split\n",
    "from sklearn.naive_bayes import BernoulliNB, MultinomialNB\n",
    "\n",
    "# Dividir datos en dos conjuntos: entrenamiento y prueba\n",
    "words_train, words_test, wy_train, wy_test = train_test_split(\n",
    "    featuresets_words, Sentiments, test_size=0.2)\n",
    "\n",
    "# Entrenamiento de un clasificador Bernouilli Bayes ingenuo\n",
    "#clfB = BernoulliNB(alpha=1.0, class_prior=None, fit_prior=False)\n",
    "clfBw = BernoulliNB()\n",
    "clfBw.fit(words_train, wy_train)\n",
    "\n",
    "# Pruebas del clasificador\n",
    "predictions_train_words = clfBw.predict(words_train)\n",
    "fails_train_words = np.sum(wy_train != predictions_train_words)\n",
    "print(\"Puntos mal clasificados en el conjunto de entrenamiento: {} de {} ({}%)\\n\"\n",
    "      .format(fails_train_words, len(words_train), 100*fails_train_words/len(words_train)))\n",
    "predictions_test_words = clfBw.predict(words_test)\n",
    "fails_test_words = np.sum(wy_test != predictions_test_words)\n",
    "print(\"Puntos mal clasificados en el conjunto de prueba: {} de {} ({}%)\\n\"\n",
    "      .format(fails_test_words, len(words_test), 100*fails_test_words/len(words_test)))"
   ]
  },
  {
   "cell_type": "markdown",
   "metadata": {},
   "source": [
    "A continuación realizamos la clasificación de revisiones de películas utilizando como base la bolsa de bigramas de texto completo:"
   ]
  },
  {
   "cell_type": "code",
   "execution_count": 20,
   "metadata": {
    "collapsed": false
   },
   "outputs": [
    {
     "name": "stdout",
     "output_type": "stream",
     "text": [
      "Puntos mal clasificados en el conjunto de entrenamiento: 3354 de 20000 (16.77%)\n",
      "\n",
      "Puntos mal clasificados en el conjunto de prueba: 920 de 5000 (18.4%)\n",
      "\n"
     ]
    }
   ],
   "source": [
    "bigrams_train, bigrams_test, biy_train, biy_test = train_test_split(\n",
    "    featuresets_bigrams, Sentiments, test_size=0.2)\n",
    "\n",
    "# Entrenamiento de un clasificador Bernouilli Bayes ingenuo\n",
    "#clfB = BernoulliNB(alpha=1.0, class_prior=None, fit_prior=False)\n",
    "clfBbi = BernoulliNB()\n",
    "clfBbi.fit(bigrams_train, biy_train)\n",
    "\n",
    "# Pruebas del clasificador\n",
    "predictions_train_bigrams = clfBbi.predict(bigrams_train)\n",
    "fails_train_bigrams = np.sum(biy_train != predictions_train_bigrams)\n",
    "print(\"Puntos mal clasificados en el conjunto de entrenamiento: {} de {} ({}%)\\n\"\n",
    "      .format(fails_train_bigrams, len(bigrams_train), \n",
    "              100*fails_train_bigrams/len(bigrams_train)))\n",
    "predictions_test_bigrams = clfBbi.predict(bigrams_test)\n",
    "fails_test_bigrams = np.sum(biy_test != predictions_test_bigrams)\n",
    "print(\"Puntos mal clasificados en el conjunto de prueba: {} de {} ({}%)\\n\"\n",
    "      .format(fails_test_bigrams, len(bigrams_test), \n",
    "              100*fails_test_bigrams/len(bigrams_test)))"
   ]
  },
  {
   "cell_type": "markdown",
   "metadata": {},
   "source": [
    "Y finalmente, la clasificación de los mismos datos utilizando la bolsa de bigramas sin palabras vacías:"
   ]
  },
  {
   "cell_type": "code",
   "execution_count": 21,
   "metadata": {
    "collapsed": false
   },
   "outputs": [
    {
     "name": "stdout",
     "output_type": "stream",
     "text": [
      "Puntos mal clasificados en el conjunto de entrenamiento: 3349 de 20000 (16.745%)\n",
      "\n",
      "Puntos mal clasificados en el conjunto de prueba: 986 de 5000 (19.72%)\n",
      "\n"
     ]
    }
   ],
   "source": [
    "# Dividir datos en dos conjuntos: entrenamiento y prueba\n",
    "bigrams_sw_train, bigrams_sw_test, biswy_train, biswy_test = train_test_split(\n",
    "    featuresets_bigrams_sw, Sentiments, test_size=0.2)\n",
    "\n",
    "# Entrenamiento de un clasificador Bernouilli Bayes ingenuo\n",
    "#clfB = BernoulliNB(alpha=1.0, class_prior=None, fit_prior=False)\n",
    "clfBbisw = BernoulliNB()\n",
    "clfBbisw.fit(bigrams_sw_train, biswy_train)\n",
    "\n",
    "# Pruebas del clasificador\n",
    "predictions_train_bigrams_sw = clfBbisw.predict(bigrams_sw_train)\n",
    "fails_train_bigrams_sw = np.sum(biswy_train != predictions_train_bigrams_sw)\n",
    "print(\"Puntos mal clasificados en el conjunto de entrenamiento: {} de {} ({}%)\\n\"\n",
    "      .format(fails_train_bigrams_sw, len(bigrams_sw_train), 100*fails_train_bigrams_sw/len(bigrams_sw_train)))\n",
    "predictions_test_bigrams_sw = clfBbisw.predict(bigrams_sw_test)\n",
    "fails_test_bigrams_sw = np.sum(biswy_test != predictions_test_bigrams_sw)\n",
    "print(\"Puntos mal clasificados en el conjunto de prueba: {} de {} ({}%)\\n\"\n",
    "      .format(fails_test_bigrams_sw, len(bigrams_sw_test), 100*fails_test_bigrams_sw/len(bigrams_sw_test)))"
   ]
  },
  {
   "cell_type": "markdown",
   "metadata": {},
   "source": [
    "Los resultados no son alentadores: el uso de bigramas utilizando texto completo son peores que los obtenidos con palabras individuales y los resultados obtenidos al eliminar las palabras vacías es aún peor. Este resultado contradictorio puede explicarse al analizar los vectores de características resultantes. \n",
    "\n",
    "Recordemos que los vectores de características con las elecciones que hemos hecho tienen una longitud de 4000. Dado que estamos empleando una distribución de Bernoulli, el vector de características presenta un 1 si la palabra correspondiente está presente en el texto y un 0 en caso contrario. A continuación presentamos el promedio de atributos presentes en cada vector de características en la colección de revisiones de películas, utilizando palabras, bigramas en texto completo (B1) y bigramas sin considerar palabras vacías (B2), presentes en la colección de vectores: "
   ]
  },
  {
   "cell_type": "code",
   "execution_count": 35,
   "metadata": {
    "collapsed": false
   },
   "outputs": [
    {
     "name": "stdout",
     "output_type": "stream",
     "text": [
      "Promedio de atributos utilizando palabras:  40\n",
      "Promedio de atributos utilizando bigramas tipo B1:  45\n",
      "Promedio de atributos utilizando bigramas tipo B2:  7\n"
     ]
    }
   ],
   "source": [
    "print(\"Promedio de atributos utilizando palabras: \", int(sum(x > 0 for x in featuresets_words[i] \n",
    "          for i in range(len(featuresets_words)))/len(featuresets_words)))\n",
    "print(\"Promedio de atributos utilizando bigramas tipo B1: \", int(sum(x > 0 for x in featuresets_bigrams[i] \n",
    "          for i in range(len(featuresets_bigrams)))/len(featuresets_bigrams)))\n",
    "print(\"Promedio de atributos utilizando bigramas tipo B2: \", int(sum(x > 0 for x in featuresets_bigrams_sw[i] \n",
    "          for i in range(len(featuresets_bigrams_sw)))/len(featuresets_bigrams_sw)))"
   ]
  },
  {
   "cell_type": "markdown",
   "metadata": {},
   "source": [
    "El éxito del aprendizaje automático consiste en encontrar suficientes ejemplos de una misma clase que compartan suficienres características para poder identificar el patrón que identifica a la clase:\n",
    "\n",
    "![](images/classes.jpg)\n",
    "\n",
    "Sin embargo, de acuerdo con los resultados en el conteo de atributos utilizados por las revisiones de películas, cada vector de características basado en palabras utiliza en promedio sólo el 1% de posibles atributos; La probabilidad de que diferentes vectores compartan suficientes atributos como para poder generalizar los modelos de clase, es muy baja. \n",
    "\n",
    "Los vectores de características basados en bigramas tipo B1 (sin eliminar palabras vacías) utilizan ligeramente más atributos, pero la inclusión de palabras vacías parece reducir la capacidad de aprendizaje (toda vez que las palabras vacías típicamente no aportan capacidad discriminante).\n",
    "\n",
    "Al eliminar las palabras vacías, se espera incluir sólo palabras altamente discriminantes, sin embargo, ahora el promedio de atributos utilizados se reduce a un 0.17%.\n",
    "\n",
    "En este problema, dada la baja probabilidad de coincidencias, se requieren más ejemplos para poder generalizar un modelo.\n",
    "\n",
    "Otra estrategia útil es crear una bolsa de palabras vacías propia, adecuada al contexto, en lugar de utilizar una bolsa de palabras vacías general. A continuación presentamos un análisis de palabras más frecuentes en la colección de revisiones de películas."
   ]
  },
  {
   "cell_type": "code",
   "execution_count": 36,
   "metadata": {
    "collapsed": false
   },
   "outputs": [
    {
     "name": "stdout",
     "output_type": "stream",
     "text": [
      "30 palabras más populares:\n",
      " [('the', 336653), ('and', 164113), ('a', 163138), ('of', 145855), ('to', 135705), ('is', 107318), ('it', 96445), ('in', 93960), ('i', 87645), ('this', 75968), ('that', 73276), ('s', 66086), ('was', 48198), ('as', 46937), ('for', 44335), ('with', 44121), ('movie', 44031), ('but', 42615), ('film', 40147), ('t', 34402), ('you', 34261), ('on', 34202), ('not', 30629), ('he', 30144), ('are', 29432), ('his', 29369), ('have', 27726), ('be', 26953), ('one', 26788), ('all', 23976)]\n"
     ]
    }
   ],
   "source": [
    "movies_reviews = pd.read_csv(\"labeledTrainData.tsv\", sep='\\t')\n",
    "\n",
    "# Limpiar los documentos. Conservar sólo plabras (alfabéticas) y pasar a minúsculas\n",
    "movies_reviews.review = list(map(lambda row: re.sub(\"[^a-zA-Z]\", \" \", \n",
    "                                BeautifulSoup(row, \"lxml\").get_text().lower()), \n",
    "                                 movies_reviews.review))\n",
    "\n",
    "# Agregar una columna con la conversión de mensajes a listas de palabras\n",
    "# Sin eliminar las palabras vacías\n",
    "movies_reviews[\"words\"] = list(map(lambda row: row.split(), movies_reviews.review))\n",
    "\n",
    "most_common_words = nltk.FreqDist(w for wl in movies_reviews.words for w in wl)\n",
    "print(\"50 palabras más populares:\\n\", most_common_words.most_common(50))"
   ]
  },
  {
   "cell_type": "markdown",
   "metadata": {},
   "source": [
    "'movie' es la primera palabra de interés y tiene una frecuencia de 44031... sin embargo, después de esta palabra y de 'film' con 40147 apariciones, aparecen otras palabras que pueden calificarse como vacías. El trabajo de depurar una bolsa de palabras vaciías, así como de construir una bolsa de palabras o n-gramas puede requerir de mucho esfuerzo. \n"
   ]
  }
 ],
 "metadata": {
  "celltoolbar": "Raw Cell Format",
  "kernelspec": {
   "display_name": "Python 3",
   "language": "python",
   "name": "python3"
  },
  "language_info": {
   "codemirror_mode": {
    "name": "ipython",
    "version": 3
   },
   "file_extension": ".py",
   "mimetype": "text/x-python",
   "name": "python",
   "nbconvert_exporter": "python",
   "pygments_lexer": "ipython3",
   "version": "3.6.0"
  }
 },
 "nbformat": 4,
 "nbformat_minor": 0
}
