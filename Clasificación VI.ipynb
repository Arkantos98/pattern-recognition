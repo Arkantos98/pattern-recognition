{
 "cells": [
  {
   "cell_type": "markdown",
   "metadata": {},
   "source": [
    "# Reconocimiento de patrones: Clasificación\n",
    "### Ramón Soto C. [(rsotoc@moviquest.com)](mailto:rsotoc@moviquest.com/)\n",
    "![ ](images/blank.png)\n",
    "![agents](images/binary_data_under_a_magnifying.jpg)\n",
    "[ver en nbviewer](http://nbviewer.ipython.org/github/rsotoc/pattern-recognition/blob/master/Clasificación%20V.ipynb)"
   ]
  },
  {
   "cell_type": "markdown",
   "metadata": {},
   "source": [
    "## Técnicas de clasificación: Reconocimiento sintáctico\n",
    "\n",
    "\n",
    "### Reconocimiento estructural de patrones\n",
    "\n",
    "El **reconocimiento de patrones estructural** hace énfasis en la integración de patrones simples para conformar patrones complejos. En este enfoque, un patrón es descrito mediante una estructura jerárquica de componentes, como en el caso de la estructura sintáctica de los lenguajes formales:\n",
    "\n",
    "![](images/structural.jpg)<br>\n",
    "\n",
    "Existen dos formas principales de reconocimiento estructural de patrones: la **estructura de pareo** (*matching structure*) y el **análisis sintáctico**. El método de apareamiento consiste básicamente en *aparear* los elementos a clasificar con *moldes* conocidos. En muchos casos, este método puede expresarse de manera sintáctica. \n",
    "\n",
    "![](images/matching.jpg)\n",
    "\n",
    "El enfoque sintáctico, por su parte, realiza el reconocimiento de patrones a partir de una determinada *sintaxis*, lo que permite utilizar las herramientas de la teoría formal de lenguajes. \n",
    "\n",
    "### Gramáticas formales\n",
    "\n",
    "Una gramática (formal) se define como la tupla\n",
    "\n",
    "$$G = (N,\\Sigma,P,S)$$\n",
    "\n",
    "donde\n",
    "\n",
    "* $N$ es un conjunto finito de símbolos  no-terminales (variables a substituir)\n",
    "* $\\Sigma$ es un conjunto finito de símbolos terminales llamado el *alfabeto* o *vocabulario*\n",
    "* $S\\in N$ es el *símbolo inicial*, es decir el símbolo no terminal desde donde se inicia la construcción de una *'frase'*\n",
    "* $P$ es un conjunto finito de *reglas de producción*, es decir, reglas que definen cómo pueden irse reemplazando los símbolos no-terminales, desde el símbolo inicial, hasta tener una frase terminada.\n",
    "\n",
    "La forma de las reglas de producción determinan el tipo de gramática y el correspondiente autómata. \n",
    "\n",
    "Cada gramática está asociado a un tipo de *autómata* que sería, en realidad, el responsable de reconocer los patrones generables por la gramática correspondiente.\n",
    "\n",
    "Un lenguaje, es un conjunto de secuencias o cadenas sobre $\\Sigma$: $L(G) \\subseteq \\Sigma^*$. Cuando se aplica la teoría de gramáticas formales al lenguaje natural, el vocabulario es usualmente un conjunto de letras, signos, palabras, morfemas o sonidos.\n",
    "\n",
    "Los tipos principales de autómata están definidos mediante la jerarquía de Chomsky:\n",
    "\n",
    "Gramática | Lenguaje | Autómata\n",
    "-| \n",
    "Tipo 0 | Recursivamente enumerable |\tMáquina de Turing\n",
    "Tipo 1 | Dependiente del contexto | Autómata linealmente acotado\n",
    "Tipo 2 | Independiente del contexto | Autómata de pila\n",
    "Tipo 3 | Regular | Autómata finito"
   ]
  },
  {
   "cell_type": "markdown",
   "metadata": {},
   "source": [
    "#### Gramáticas no lingüísticas\n",
    "\n",
    "Aunque la formulación de gramáticas proviene del contexto lingüístico, es posible desarrollar gramáticas para representar patrones en otros contextos. Consideremos por ejemplo la siguiente gramática regular:\n",
    "\n",
    "![](images/syntactic_1.png)<br>\n",
    "\n",
    "En esta gramática, los elementos del alfabeto son segmentos de rectángulos. A partir de las reglas en $P$ podemos construir rectángulos como los siguientes:<br>\n",
    "\n",
    "![](images/syntactic_2.png)\n",
    "\n",
    "Dada esta gramática podemos construir un autómata finito capaz de reconocer rectángulos en una imagen. \n",
    "\n",
    "Un problema que ha llamado intensamente la atención de la industria es el reconocimiento automático de placas vehiculares. Este es un problema relativamente simple de resolver en ambientes controlados, sin embargo, es un problema complicado cauando deben reconocerse placas de diferentes tipos en un contexto abierto, posiblemente con visibiidad limitada:\n",
    "\n",
    "![](images/plates.jpg)\n",
    "\n",
    "Un paso importante en la resolución de este problema es identificar la *estructura* en los componentes de una placa: Una placa de auto es un rectángulo (el símbolo inicial $S$):\n",
    "\n",
    "![](images/plates_1.jpg)\n",
    "\n",
    "Pero no cualquier rectángulo \"*genera*\" una placa:\n",
    "\n",
    "![](images/plates_2.jpg)\n",
    "\n",
    "\n",
    "\n",
    "Una etapa posterior incluiría evaluar las posibles producciones a partir del rectángulo, capaces de conducir a la generación de una placa válida:\n",
    "\n",
    "![](images/plates_3.jpg)"
   ]
  },
  {
   "cell_type": "markdown",
   "metadata": {},
   "source": [
    "### Procesamiento de lenguaje natural\n",
    "\n",
    "#### Gramáticas libres de contexto\n",
    "\n",
    "La ubicación de los lenguajes naturales en la jerarquía de Chomsky (o qué tanto pueden ser representados en ella) es un tema de discusión abierto. El uso de los diferentes tipos de gramáticas para análisis de lenguajes naturales ha sido limitado, siendo las gramáticas más utilizadas las gramáticas libres de contexto.\n",
    "\n",
    "Considérese la siguiente gramática:"
   ]
  },
  {
   "cell_type": "code",
   "execution_count": 1,
   "metadata": {
    "collapsed": false
   },
   "outputs": [
    {
     "name": "stdout",
     "output_type": "stream",
     "text": [
      "Grammar with 26 productions (start state = S)\n",
      "    S -> NP VP\n",
      "    NP -> Det N\n",
      "    NP -> NP PP\n",
      "    NP -> N\n",
      "    VP -> V NP\n",
      "    VP -> VP PP\n",
      "    VP -> V\n",
      "    PP -> P NP\n",
      "    PP -> P\n",
      "    Det -> 'el'\n",
      "    Det -> 'los'\n",
      "    Det -> 'la'\n",
      "    N -> 'hombre'\n",
      "    N -> 'parque'\n",
      "    N -> 'perro'\n",
      "    N -> 'amigos'\n",
      "    N -> 'cafe'\n",
      "    N -> 'leche'\n",
      "    V -> 'duerme'\n",
      "    V -> 'mira'\n",
      "    V -> 'toma'\n",
      "    V -> 'camina'\n",
      "    V -> 'toman'\n",
      "    P -> 'en'\n",
      "    P -> 'con'\n",
      "    P -> 'solo'\n"
     ]
    }
   ],
   "source": [
    "import nltk\n",
    "from nltk.parse.generate import generate\n",
    "from nltk import CFG\n",
    "from IPython.display import Image, display  \n",
    "\n",
    "\n",
    "grammar = nltk.CFG.fromstring(\"\"\"\n",
    "    S -> NP VP\n",
    "    NP -> Det N | NP PP | N\n",
    "    VP -> V NP | VP PP | V\n",
    "    PP -> P NP | P\n",
    "    Det -> 'el' | 'los' | 'la'\n",
    "    N -> 'hombre' | 'parque' | 'perro' | 'amigos' | 'cafe' | 'leche'\n",
    "    V -> 'duerme' | 'mira' | 'toma' | 'camina' | 'toman'\n",
    "    P -> 'en' | 'con' |'solo'\n",
    "    \"\"\")\n",
    "\n",
    "parser = nltk.ChartParser(grammar)\n",
    "print(grammar)"
   ]
  },
  {
   "cell_type": "markdown",
   "metadata": {},
   "source": [
    "Esta gramática permite generar frases como $\\textrm{\"el perro duerme\"}$, cuyo árbol de generación por $G$\n",
    "es:"
   ]
  },
  {
   "cell_type": "code",
   "execution_count": 2,
   "metadata": {
    "collapsed": false
   },
   "outputs": [
    {
     "name": "stdout",
     "output_type": "stream",
     "text": [
      "Árbol de generación de la cadena \"el perro duerme\"\n"
     ]
    },
    {
     "data": {
      "image/png": "[encoded data removed]",
      "text/plain": [
       "Tree('S', [Tree('NP', [Tree('Det', ['el']), Tree('N', ['perro'])]), Tree('VP', [Tree('V', ['duerme'])])])"
      ]
     },
     "metadata": {},
     "output_type": "display_data"
    }
   ],
   "source": [
    "X = \"el perro duerme\"\n",
    "print(\"Árbol de generación de la cadena \\\"{}\\\"\".format(X))\n",
    "for tree in parser.parse(X.split()):\n",
    "    display(tree) # tree.draw() arroja una ventana emergente"
   ]
  },
  {
   "cell_type": "markdown",
   "metadata": {},
   "source": [
    "o $\\textrm{\"los amigos toman cafe\"}$"
   ]
  },
  {
   "cell_type": "code",
   "execution_count": 3,
   "metadata": {
    "collapsed": false
   },
   "outputs": [
    {
     "name": "stdout",
     "output_type": "stream",
     "text": [
      "Generación de la cadena \"los amigos toman cafe\"\n"
     ]
    },
    {
     "data": {
      "image/png": "[encoded data removed]",
      "text/plain": [
       "Tree('S', [Tree('NP', [Tree('Det', ['los']), Tree('N', ['amigos'])]), Tree('VP', [Tree('V', ['toman']), Tree('NP', [Tree('N', ['cafe'])])])])"
      ]
     },
     "metadata": {},
     "output_type": "display_data"
    }
   ],
   "source": [
    "X = \"los amigos toman cafe\"\n",
    "print(\"Generación de la cadena \\\"{}\\\"\".format(X))\n",
    "for tree in parser.parse(X.split()):\n",
    "    display(tree)    "
   ]
  },
  {
   "cell_type": "markdown",
   "metadata": {},
   "source": [
    "o $\\textrm{\"el perro duerme en el parque\"}$"
   ]
  },
  {
   "cell_type": "code",
   "execution_count": 4,
   "metadata": {
    "collapsed": false
   },
   "outputs": [
    {
     "name": "stdout",
     "output_type": "stream",
     "text": [
      "Generación de la cadena \"el perro duerme en el parque\"\n"
     ]
    },
    {
     "data": {
      "image/png": "[encoded data removed]",
      "text/plain": [
       "Tree('S', [Tree('NP', [Tree('Det', ['el']), Tree('N', ['perro'])]), Tree('VP', [Tree('VP', [Tree('V', ['duerme'])]), Tree('PP', [Tree('P', ['en']), Tree('NP', [Tree('Det', ['el']), Tree('N', ['parque'])])])])])"
      ]
     },
     "metadata": {},
     "output_type": "display_data"
    }
   ],
   "source": [
    "X = \"el perro duerme en el parque\"\n",
    "print(\"Generación de la cadena \\\"{}\\\"\".format(X))\n",
    "for tree in parser.parse(X.split()):\n",
    "    display(tree)    "
   ]
  },
  {
   "cell_type": "markdown",
   "metadata": {},
   "source": [
    "Y muchas otras frases:"
   ]
  },
  {
   "cell_type": "code",
   "execution_count": 5,
   "metadata": {
    "collapsed": false
   },
   "outputs": [
    {
     "name": "stdout",
     "output_type": "stream",
     "text": [
      "el hombre duerme el hombre\n",
      "el hombre duerme el parque\n",
      "el hombre duerme el perro\n",
      "el hombre duerme el amigos\n",
      "el hombre duerme el cafe\n",
      "el hombre duerme el leche\n",
      "el hombre duerme los hombre\n",
      "el hombre duerme los parque\n",
      "el hombre duerme los perro\n",
      "el hombre duerme los amigos\n",
      "el hombre duerme los cafe\n",
      "el hombre duerme los leche\n",
      "el hombre duerme la hombre\n",
      "el hombre duerme la parque\n",
      "el hombre duerme la perro\n",
      "el hombre duerme la amigos\n",
      "el hombre duerme la cafe\n",
      "el hombre duerme la leche\n",
      "el hombre duerme el hombre en el hombre\n",
      "el hombre duerme el hombre en el parque\n",
      "el hombre duerme el hombre en el perro\n",
      "el hombre duerme el hombre en el amigos\n",
      "el hombre duerme el hombre en el cafe\n",
      "el hombre duerme el hombre en el leche\n",
      "el hombre duerme el hombre en los hombre\n",
      "el hombre duerme el hombre en los parque\n",
      "el hombre duerme el hombre en los perro\n",
      "el hombre duerme el hombre en los amigos\n",
      "el hombre duerme el hombre en los cafe\n",
      "el hombre duerme el hombre en los leche\n"
     ]
    }
   ],
   "source": [
    "sent_to_print = 30\n",
    "frases = generate(grammar)\n",
    "\n",
    "for sentence in generate(grammar, n=sent_to_print):\n",
    "    print(' '.join(sentence))"
   ]
  },
  {
   "cell_type": "markdown",
   "metadata": {},
   "source": [
    "Muchas de esta frases, aunque son sintácticamente correctas, no tienen un significado \"correcto\". \n",
    "\n",
    "Las gramáticas libres de contexto (y los correspondientes autómatas finitos / de pila) ofrecen un mecanismo poderoso para la generación (y reconocimiento) de patrones, particularmente útiles en el reconocimiento de patrones en lenguajes, por ejemplo para la implementación de compiladores (específicamente en la etapa de *parsing* o análisis sintáctico).\n",
    "\n",
    "#### Gramáticas sensibles al contexto\n",
    "\n",
    "Las gramáticas sensibles al contexto ofrecen una mayor capacidad de discriminación al establecer condiciones de contexto para la aplicación de reglas. Las reglas, en este caso, contienen cadenas en ambos lados, del tipo $\\alpha\\textrm{A}\\beta \\to \\alpha \\gamma \\beta$ donde $\\textrm{A} \\in N$, $\\alpha, \\beta \\in (N \\cup \\Sigma)^*$ y $\\gamma \\in (N \\cup \\Sigma)^+$. En la siguiente versión modificada de nuestra gramática, hemos reemplazado la regla $\\textrm{NP} \\to \\textrm{N}$ por las reglas $\\textrm{'la' NP} \\to \\textrm{NF}$ y $\\textrm{'la' NP} \\to \\textrm{NF}$ y hemos distinguido entre nombres femenino ($\\textrm{NF}$) y masculino ($\\textrm{NM}$). \n",
    "\n",
    "    P = {\n",
    "        S -> NP VP\n",
    "        NP -> Det N\n",
    "        NP -> NP PP\n",
    "        'la' NP -> NF\n",
    "        'el' NP -> NM\n",
    "        VP -> V NP\n",
    "        VP -> VP PP\n",
    "        VP -> V\n",
    "        PP -> P NP\n",
    "        PP -> P\n",
    "        Det -> 'el'\n",
    "        Det -> 'los'\n",
    "        Det -> 'la'S -> NP VP\n",
    "        NM -> 'hombre'\n",
    "        NM -> 'parque'\n",
    "        NM -> 'perro'\n",
    "        NM -> 'amigos'\n",
    "        NM -> 'cafe'\n",
    "        NF -> 'leche'\n",
    "        V -> 'duerme'\n",
    "        V -> 'mira'\n",
    "        V -> 'toma'\n",
    "        V -> 'camina'\n",
    "        V -> 'toman'\n",
    "        P -> 'en'\n",
    "        P -> 'con'\n",
    "        P -> 'solo'\n",
    "    }\n",
    "    \n",
    "Estos cambios evitarían la generación de frases como \"el hombre duerme <u>la hombre</u>\", \"el hombre duerme <u>la parque</u>\", \"el hombre duerme <u>la perro</u>\", \"el hombre duerme <u>la cafe</u>\" y \"el hombre duerme el hombre en <u>el leche</u>\". Sin embargo, tratar de reflejar el contexto en frases generadas en un lenguaje natural mediante reglas rebasa la capacidad de las gramáticas convencionales. Considérese el siguiente ejemplo clásico en un diálogo de *Groucho Marx* (*Animal Crackers*, 1930):\n",
    "\n",
    "> *One morning I shot an elephant in my pajamas. <br>\n",
    "> How he got in my pajamas, I don't know.* ![](images/groucho.jpg)\n",
    "\n",
    "Aunque la situación es utilizada como broma, particularmente al ser forzada por Groucho Marx, la estructura es sintácticamente correcta, lo cual es claro si modificamos ligeramente la cita, de la siguiente manera:\n",
    "\n",
    "> I shot an elephant in my yard.\n",
    "\n",
    "Una gramática (de juguete) capaz de generar estas frases sería:"
   ]
  },
  {
   "cell_type": "code",
   "execution_count": 6,
   "metadata": {
    "collapsed": false
   },
   "outputs": [
    {
     "name": "stdout",
     "output_type": "stream",
     "text": [
      "Grammar with 15 productions (start state = S)\n",
      "    S -> NP VP\n",
      "    PP -> P NP\n",
      "    NP -> Det N\n",
      "    NP -> Det N PP\n",
      "    NP -> 'I'\n",
      "    VP -> V NP\n",
      "    VP -> VP PP\n",
      "    Det -> 'an'\n",
      "    Det -> 'my'\n",
      "    N -> 'elephant'\n",
      "    N -> 'pajamas'\n",
      "    N -> 'yard'\n",
      "    V -> 'shot'\n",
      "    P -> 'con'\n",
      "    P -> 'in'\n"
     ]
    }
   ],
   "source": [
    "groucho_grammar = nltk.CFG.fromstring(\"\"\"\n",
    "    S -> NP VP\n",
    "    PP -> P NP \n",
    "    NP -> Det N | Det N PP | 'I'\n",
    "    VP -> V NP | VP PP \n",
    "    Det -> 'an' | 'my'\n",
    "    N -> 'elephant' | 'pajamas' | 'yard'\n",
    "    V -> 'shot'\n",
    "    P -> 'con' | 'in'\n",
    "    \"\"\")\n",
    "\n",
    "print(groucho_grammar)"
   ]
  },
  {
   "cell_type": "markdown",
   "metadata": {},
   "source": [
    "Esta gramática genera dos árboles en cada caso. Así para la frase \"*I shot an elephant in my yard*\", los árboles de generación serían:\n",
    "\n",
    "![](images/groucho_elephant.png)\n",
    "\n",
    "El árbol de la izquierda tiene al mismo nivel el verbo ('*shot*') y la preposición ('*in*'); describe la realización de la acción en un sitio \"SHOT ... IN...\": \"*Le disparé a un elefante cuando yo estaba en mi patio*\". El árbol de la derecha pone a la misma altura el objeto nominal ('*an elephant*') y a la frase preposicional ('*in my yard*'): \"*Le disparé a un elefante que estaba en mi patio*\". Ambas frases son sintácticamente y semánticamente correctas.\n",
    "\n",
    "Los árboles de generación para la frase original, \"*I shot an elephant in my pajamas*\", son:"
   ]
  },
  {
   "cell_type": "code",
   "execution_count": 7,
   "metadata": {
    "collapsed": false
   },
   "outputs": [
    {
     "data": {
      "image/png": "[encoded data removed]",
      "text/plain": [
       "Tree('S', [Tree('NP', ['I']), Tree('VP', [Tree('VP', [Tree('V', ['shot']), Tree('NP', [Tree('Det', ['an']), Tree('N', ['elephant'])])]), Tree('PP', [Tree('P', ['in']), Tree('NP', [Tree('Det', ['my']), Tree('N', ['pajamas'])])])])])"
      ]
     },
     "metadata": {},
     "output_type": "display_data"
    },
    {
     "data": {
      "image/png": "[encoded data removed]",
      "text/plain": [
       "Tree('S', [Tree('NP', ['I']), Tree('VP', [Tree('V', ['shot']), Tree('NP', [Tree('Det', ['an']), Tree('N', ['elephant']), Tree('PP', [Tree('P', ['in']), Tree('NP', [Tree('Det', ['my']), Tree('N', ['pajamas'])])])])])])"
      ]
     },
     "metadata": {},
     "output_type": "display_data"
    }
   ],
   "source": [
    "string = \"I shot an elephant in my pajamas\"\n",
    "\n",
    "groucho_parser = nltk.ChartParser(groucho_grammar)\n",
    "for tree in groucho_parser.parse(string.split()):\n",
    "    display(tree)"
   ]
  },
  {
   "cell_type": "markdown",
   "metadata": {},
   "source": [
    "En la gramática de prueba, la frase $\\textrm{\"el hombre con el perro camina en el parque con amigos\"}$ también tiene asociados dos árboles de generación:"
   ]
  },
  {
   "cell_type": "code",
   "execution_count": 8,
   "metadata": {
    "collapsed": false
   },
   "outputs": [
    {
     "name": "stdout",
     "output_type": "stream",
     "text": [
      "Generación de la cadena \"el hombre con el perro camina en el parque con amigos\"\n"
     ]
    },
    {
     "data": {
      "image/png": "[encoded data removed]",
      "text/plain": [
       "Tree('S', [Tree('NP', [Tree('NP', [Tree('Det', ['el']), Tree('N', ['hombre'])]), Tree('PP', [Tree('P', ['con']), Tree('NP', [Tree('Det', ['el']), Tree('N', ['perro'])])])]), Tree('VP', [Tree('VP', [Tree('VP', [Tree('V', ['camina'])]), Tree('PP', [Tree('P', ['en']), Tree('NP', [Tree('Det', ['el']), Tree('N', ['parque'])])])]), Tree('PP', [Tree('P', ['con']), Tree('NP', [Tree('N', ['amigos'])])])])])"
      ]
     },
     "metadata": {},
     "output_type": "display_data"
    },
    {
     "data": {
      "image/png": "[encoded data removed]",
      "text/plain": [
       "Tree('S', [Tree('NP', [Tree('NP', [Tree('Det', ['el']), Tree('N', ['hombre'])]), Tree('PP', [Tree('P', ['con']), Tree('NP', [Tree('Det', ['el']), Tree('N', ['perro'])])])]), Tree('VP', [Tree('VP', [Tree('V', ['camina'])]), Tree('PP', [Tree('P', ['en']), Tree('NP', [Tree('NP', [Tree('Det', ['el']), Tree('N', ['parque'])]), Tree('PP', [Tree('P', ['con']), Tree('NP', [Tree('N', ['amigos'])])])])])])])"
      ]
     },
     "metadata": {},
     "output_type": "display_data"
    }
   ],
   "source": [
    "X = \"el hombre con el perro camina en el parque con amigos\"\n",
    "print(\"Generación de la cadena \\\"{}\\\"\".format(X))\n",
    "for tree in parser.parse(X.split()):\n",
    "    display(tree)    "
   ]
  },
  {
   "cell_type": "markdown",
   "metadata": {},
   "source": [
    "### N-gramas y el enfoque probabilístico\n",
    "\n"
   ]
  },
  {
   "cell_type": "markdown",
   "metadata": {},
   "source": [
    "<hr style=\"border-width: 3px;\">\n",
    "\n",
    "### Tarea 12\n",
    "\n",
    "* Haga una revisión de ventajas e inconvenientes de las redes neuronales feed-forward.\n",
    "* Utilice la técnica de redes neuronales en su proyecto.\n",
    "\n",
    "**Fecha de entrega**: Martes 16 de noviembre."
   ]
  }
 ],
 "metadata": {
  "celltoolbar": "Raw Cell Format",
  "kernelspec": {
   "display_name": "Python 3",
   "language": "python",
   "name": "python3"
  },
  "language_info": {
   "codemirror_mode": {
    "name": "ipython",
    "version": 3
   },
   "file_extension": ".py",
   "mimetype": "text/x-python",
   "name": "python",
   "nbconvert_exporter": "python",
   "pygments_lexer": "ipython3",
   "version": "3.5.2"
  }
 },
 "nbformat": 4,
 "nbformat_minor": 0
}
