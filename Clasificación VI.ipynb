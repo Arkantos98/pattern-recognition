{
 "cells": [
  {
   "cell_type": "markdown",
   "metadata": {},
   "source": [
    "# Reconocimiento de patrones: Clasificación\n",
    "### Ramón Soto C. [(rsotoc@moviquest.com)](mailto:rsotoc@moviquest.com/)\n",
    "![ ](images/blank.png)\n",
    "![agents](images/binary_data_under_a_magnifying.jpg)\n",
    "[ver en nbviewer](http://nbviewer.ipython.org/github/rsotoc/pattern-recognition/blob/master/Clasificación%20V.ipynb)"
   ]
  },
  {
   "cell_type": "markdown",
   "metadata": {},
   "source": [
    "## Técnicas de clasificación: Reconocimiento sintáctico\n",
    "\n",
    "\n",
    "### Reconocimiento estructural de patrones\n",
    "\n",
    "El **reconocimiento de patrones estructural** hace énfasis en la integración de patrones simples para conformar patrones complejos. En este enfoque, un patrón es descrito mediante una estructura jerárquica de componentes, como en el caso de la estructura sintáctica de los lenguajes formales:\n",
    "\n",
    "![](images/structural.jpg)<br>\n",
    "\n",
    "Existen dos formas principales de reconocimiento estructural de patrones: la **estructura de pareo** (*matching structure*) y el **análisis sintáctico**. El método de apareamiento consiste básicamente en *aparear* los elementos a clasificar con *moldes* conocidos. En muchos casos, este método puede expresarse de manera sintáctica. \n",
    "\n",
    "![](images/matching.jpg)\n",
    "\n",
    "El enfoque sintáctico, por su parte, realiza el reconocimiento de patrones a partir de una determinada *sintaxis*, lo que permite utilizar las herramientas de la teoría formal de lenguajes. \n",
    "\n",
    "### Gramáticas formales\n",
    "\n",
    "Una gramática (formal) se define como la tupla\n",
    "\n",
    "$$G = (N,\\Sigma,P,S)$$\n",
    "\n",
    "donde\n",
    "\n",
    "* $N$ es un conjunto finito de símbolos  no-terminales (variables a substituir)\n",
    "* $\\Sigma$ es un conjunto finito de símbolos terminales llamado el *alfabeto* o *vocabulario*\n",
    "* $S\\in N$ es el *símbolo inicial*, es decir el símbolo no terminal desde donde se inicia la construcción de una *'frase'*\n",
    "* $P$ es un conjunto finito de *reglas de producción*, es decir, reglas que definen cómo pueden irse reemplazando los símbolos no-terminales, desde el símbolo inicial, hasta tener una frase terminada.\n",
    "\n",
    "La forma de las reglas de producción determinan el tipo de gramática y el correspondiente autómata. \n",
    "\n",
    "Cada gramática está asociado a un tipo de *autómata* que sería, en realidad, el responsable de reconocer los patrones generables por la gramática correspondiente.\n",
    "\n",
    "Un lenguaje, es un conjunto de secuencias o cadenas sobre $\\Sigma$: $L(G) \\subseteq \\Sigma^*$. Cuando se aplica la teoría de gramáticas formales al lenguaje natural, el vocabulario es usualmente un conjunto de letras, signos, palabras, morfemas o sonidos.\n",
    "\n",
    "Los tipos principales de autómata están definidos mediante la jerarquía de Chomsky:\n",
    "\n",
    "Gramática | Lenguaje | Autómata\n",
    "-| \n",
    "Tipo 0 | Recursivamente enumerable |\tMáquina de Turing\n",
    "Tipo 1 | Dependiente del contexto | Autómata linealmente acotado\n",
    "Tipo 2 | Independiente del contexto | Autómata de pila\n",
    "Tipo 3 | Regular | Autómata finito"
   ]
  },
  {
   "cell_type": "markdown",
   "metadata": {},
   "source": [
    "#### Gramáticas no lingüísticas\n",
    "\n",
    "Aunque la formulación de gramáticas proviene del contexto lingüístico, es posible desarrollar gramáticas para representar patrones en otros contextos. Consideremos por ejemplo la siguiente gramática regular:\n",
    "\n",
    "![](images/syntactic_1.png)<br>\n",
    "\n",
    "En esta gramática, los elementos del alfabeto son segmentos de rectángulos. A partir de las reglas en $P$ podemos construir rectángulos como los siguientes:<br>\n",
    "\n",
    "![](images/syntactic_2.png)\n",
    "\n",
    "Dada esta gramática podemos construir un autómata finito capaz de reconocer rectángulos en una imagen. \n",
    "\n",
    "Un problema que ha llamado intensamente la atención de la industria es el reconocimiento automático de placas vehiculares. Este es un problema relativamente simple de resolver en ambientes controlados, sin embargo, es un problema complicado cauando deben reconocerse placas de diferentes tipos en un contexto abierto, posiblemente con visibiidad limitada:\n",
    "\n",
    "![](images/plates.jpg)\n",
    "\n",
    "Un paso importante en la resolución de este problema es identificar la *estructura* en los componentes de una placa: Una placa de auto es un rectángulo (el símbolo inicial $S$):\n",
    "\n",
    "![](images/plates_1.jpg)\n",
    "\n",
    "Pero no cualquier rectángulo \"*genera*\" una placa:\n",
    "\n",
    "![](images/plates_2.jpg)\n",
    "\n",
    "\n",
    "\n",
    "Una etapa posterior incluiría evaluar las posibles producciones a partir del rectángulo, capaces de conducir a la generación de una placa válida:\n",
    "\n",
    "![](images/plates_3.jpg)"
   ]
  },
  {
   "cell_type": "markdown",
   "metadata": {},
   "source": [
    "#### Procesamiento de lenguaje natural\n",
    "\n",
    "La ubicación de los lenguajes naturales en la jerarquía de Chomsky (o qué tanto pueden ser representados en ella) es un tema de discusión abierto. "
   ]
  },
  {
   "cell_type": "markdown",
   "metadata": {},
   "source": [
    "Considérese la siguiente gramática:"
   ]
  },
  {
   "cell_type": "code",
   "execution_count": 1,
   "metadata": {
    "collapsed": false
   },
   "outputs": [
    {
     "name": "stdout",
     "output_type": "stream",
     "text": [
      "Grammar with 13 productions (start state = S)\n",
      "    S -> NP VP\n",
      "    NP -> Det N\n",
      "    PP -> P NP\n",
      "    VP -> 'slept'\n",
      "    VP -> 'saw' NP\n",
      "    VP -> 'walked' PP\n",
      "    Det -> 'the'\n",
      "    Det -> 'a'\n",
      "    N -> 'man'\n",
      "    N -> 'park'\n",
      "    N -> 'dog'\n",
      "    P -> 'in'\n",
      "    P -> 'with'\n"
     ]
    }
   ],
   "source": [
    "import nltk\n",
    "from nltk.parse.generate import generate, demo_grammar\n",
    "from nltk import CFG\n",
    "\n",
    "grammar = CFG.fromstring(demo_grammar)\n",
    "parser = nltk.ChartParser(grammar)\n",
    "print(grammar)"
   ]
  },
  {
   "cell_type": "markdown",
   "metadata": {},
   "source": [
    "Esta gramática permite generar frases como $X=\\textrm{\"the man walked with the dog\"}$. A continuación se presenta el árbol de generación de $X$:"
   ]
  },
  {
   "cell_type": "code",
   "execution_count": 2,
   "metadata": {
    "collapsed": false
   },
   "outputs": [
    {
     "name": "stdout",
     "output_type": "stream",
     "text": [
      "Generation tree of \"the man walked with the dog\"\n",
      "(S\n",
      "  (NP (Det the) (N man))\n",
      "  (VP walked (PP (P with) (NP (Det the) (N dog)))))\n"
     ]
    }
   ],
   "source": [
    "X = \"the man walked with the dog\"\n",
    "print(\"Generation tree of \\\"{}\\\"\".format(X))\n",
    "for tree in parser.parse(X.split()):\n",
    "    print(tree)"
   ]
  },
  {
   "cell_type": "markdown",
   "metadata": {},
   "source": [
    "Esta gramática puede generar muchas otras frases:"
   ]
  },
  {
   "cell_type": "code",
   "execution_count": 3,
   "metadata": {
    "collapsed": false
   },
   "outputs": [
    {
     "name": "stdout",
     "output_type": "stream",
     "text": [
      "\n",
      "Number of sentences:  114\n",
      "the man slept\n",
      "the man saw the man\n",
      "the man saw the park\n",
      "the man saw the dog\n",
      "the man saw a man\n",
      "the man saw a park\n",
      "the man saw a dog\n",
      "the man walked in the man\n",
      "the man walked in the park\n",
      "the man walked in the dog\n",
      "the man walked in a man\n",
      "the man walked in a park\n",
      "the man walked in a dog\n",
      "the man walked with the man\n",
      "the man walked with the park\n",
      "the man walked with the dog\n",
      "the man walked with a man\n",
      "the man walked with a park\n",
      "the man walked with a dog\n",
      "the park slept\n",
      "... besides other  94 sentences\n",
      "\n",
      "Generation tree of \"the man saw a dog\"\n",
      "(S (NP (Det the) (N man)) (VP saw (NP (Det a) (N dog))))\n"
     ]
    }
   ],
   "source": [
    "sent_to_print = 20\n",
    "print(\"\\nNumber of sentences: \", len(list(generate(grammar))))\n",
    "for sentence in generate(grammar, n=sent_to_print):\n",
    "    print(' '.join(sentence))\n",
    "print(\"... besides other \", len(list(generate(grammar))) - sent_to_print, \"sentences\\n\")    \n",
    "\n",
    "string = \"the man saw a dog\"\n",
    "print(\"Generation tree of \\\"{}\\\"\".format(string))\n",
    "for tree in parser.parse(string.split()):\n",
    "    print(tree)"
   ]
  },
  {
   "cell_type": "markdown",
   "metadata": {},
   "source": [
    "Podemos generar frases sin sentido como $Y=\\textrm{\"the park walked with the dog\"}$"
   ]
  },
  {
   "cell_type": "code",
   "execution_count": 4,
   "metadata": {
    "collapsed": false
   },
   "outputs": [
    {
     "name": "stdout",
     "output_type": "stream",
     "text": [
      "Generation tree of \"the park walked with the dog\"\n",
      "(S\n",
      "  (NP (Det the) (N park))\n",
      "  (VP walked (PP (P with) (NP (Det the) (N dog)))))\n"
     ]
    }
   ],
   "source": [
    "Y = \"the park walked with the dog\"\n",
    "print(\"Generation tree of \\\"{}\\\"\".format(Y))\n",
    "for tree in parser.parse(Y.split()):\n",
    "    print(tree)"
   ]
  },
  {
   "cell_type": "markdown",
   "metadata": {},
   "source": [
    "Consideremos el siguiente ejemplo, parafraseando a *Groucho Marx* en *Animal Crackers* (1930):\n",
    "\n",
    "> *Estando de cacería en África, le disparé a un elefante con mi rifle. <br>\n",
    "> ¿Cómo consiguió el elefante mi rifle?, No lo sé.* ![](images/groucho.jpg)"
   ]
  },
  {
   "cell_type": "code",
   "execution_count": 5,
   "metadata": {
    "collapsed": false
   },
   "outputs": [
    {
     "name": "stdout",
     "output_type": "stream",
     "text": [
      "(S\n",
      "  (NP I)\n",
      "  (VP\n",
      "    (VP (V shot) (NP (Det an) (N elephant)))\n",
      "    (PP (P in) (NP (Det my) (N pajamas)))))\n",
      "(S\n",
      "  (NP I)\n",
      "  (VP\n",
      "    (V shot)\n",
      "    (NP (Det an) (N elephant) (PP (P in) (NP (Det my) (N pajamas))))))\n"
     ]
    }
   ],
   "source": [
    "\n",
    "groucho_grammar = nltk.CFG.fromstring(\"\"\"\n",
    "    S -> NP VP\n",
    "    PP -> P NP\n",
    "    NP -> Det N | Det N PP | 'I'\n",
    "    VP -> V NP | VP PP\n",
    "    Det -> 'an' | 'my'\n",
    "    N -> 'elephant' | 'pajamas'\n",
    "    V -> 'shot'\n",
    "    P -> 'in'\n",
    "    \"\"\")\n",
    "\n",
    "string = \"I shot an elephant in my pajamas\"\n",
    "\n",
    "parser = nltk.ChartParser(groucho_grammar)\n",
    "\n",
    "for tree in parser.parse(string.split()):\n",
    "    print(tree)\n",
    "\n"
   ]
  },
  {
   "cell_type": "markdown",
   "metadata": {},
   "source": [
    "La teoría formal de lenguajes se ocupa exclusivamente de la sintaxis del lenguaje. Aunque esta es una etapa fundamental para la descripción del lenguaje natural, hay otros aspectos importantes entre los que sobresalen el contenido semántico (el significado de las cadenas generadas); los aspectos cuantitativos/estadísticos, como la frecuencia y probabilidad de las cadenas y el manejo de incertidumbre."
   ]
  },
  {
   "cell_type": "markdown",
   "metadata": {},
   "source": [
    "<hr style=\"border-width: 3px;\">\n",
    "\n",
    "### Tarea 12\n",
    "\n",
    "* Haga una revisión de ventajas e inconvenientes de las redes neuronales feed-forward.\n",
    "* Utilice la técnica de redes neuronales en su proyecto.\n",
    "\n",
    "**Fecha de entrega**: Martes 16 de noviembre."
   ]
  }
 ],
 "metadata": {
  "celltoolbar": "Raw Cell Format",
  "kernelspec": {
   "display_name": "Python 3",
   "language": "python",
   "name": "python3"
  },
  "language_info": {
   "codemirror_mode": {
    "name": "ipython",
    "version": 3
   },
   "file_extension": ".py",
   "mimetype": "text/x-python",
   "name": "python",
   "nbconvert_exporter": "python",
   "pygments_lexer": "ipython3",
   "version": "3.5.2"
  }
 },
 "nbformat": 4,
 "nbformat_minor": 0
}
