{
 "cells": [
  {
   "cell_type": "markdown",
   "metadata": {},
   "source": [
    "# Reconocimiento de patrones: Introducción\n",
    "### Ramón Soto C. [(rsotoc@moviquest.com)](mailto:rsotoc@moviquest.com/)\n",
    "![ ](images/blank.png)\n",
    "![agents](images/binary_data_under_a_magnifying.jpg)\n",
    "[ver en nbviewer](http://nbviewer.ipython.org/github/rsotoc/pattern-recognition/blob/master/Intro%202.%20Bases%20matem%C3%A1ticas.ipynb)"
   ]
  },
  {
   "cell_type": "markdown",
   "metadata": {},
   "source": [
    "## Definición. Bases matemáticas\n",
    "\n",
    "El reconocimiento de patrones es una habilidad de los seres vivos. \n",
    "\n",
    "![](images/plant.jpg)\n",
    "![ ](images/blank.png)Las técnicas artificiales de reconocimiento de patrones buscan reproducir las estrategias naturales. \n",
    "\n",
    "Una estrategia natural de reconocimiento de patrones que parece obvia es la **clasificación**: Los seres vivos 'distinguimos' entre *clases* de objetos, en función de la *semejanza* que existe entre ellos. \n",
    "\n",
    "La calidad de la clasificación depende de la cantidad de *atributos* que tenemos disponibles para 'representar' los diferentes objetos. En las imágenes a continución, utilizamos los colores para distinguir animales peligrosos. Esta propiedad, llamada *aposematismo*, sirve como señal de peligro a los depredadores. El *mimetismo*, por otra parte, permite a algunos seres vivos imitar a otros seres para ser confundidos con ellos. Gracias a estos mecanismos la *coral ratonera*, evaluada sólo en base a su color y confundida con la coralillo, es considerada falsamente como un animal venenoso. \n",
    "![](images/classes01.jpg)\n",
    "### Atributos y características\n",
    "Un **atributo** es una propiedad simbólica o numérica de una *propiedad* de un objeto, que puede ser útil para clasificarlo en una clase. Los diferentes objetos en un problema son descritos mediante diferentes *conjuntos de atributos*: En una clasificación de animales, por ejemplo, la descripción de las aves incluye atributos como el tipo de plumaje o la longitud del pico, atributos que no tiene sentido para otras clases de animales. \n",
    "\n",
    "Una manera de sistematizar y homogenizar la descripción de elementos en un problema es utilizando el mismo conjunto de propiedades para todos ellos, sean útiles o no para la clasificación de un objeto en particular, organizadas en lo que se denomina **vector de características**, \n",
    "\n",
    "Cada 'caso' representado mediante un vector de carcterísticas en el conjunto de datos se denomina **instancia** (o *ejemplo*, particularmente en el contexto de entrenamiento supervisado). \n",
    "\n"
   ]
  },
  {
   "cell_type": "markdown",
   "metadata": {},
   "source": [
    "#### Ejemplo 1.intro: Diabetes \n",
    "\n",
    "* **Conjunto de datos**: *Pima Indians Diabetes* \n",
    "\n",
    "* **Fuente**: Lichman, M. (2013). UCI Machine Learning Repository [https://archive.ics.uci.edu/ml/datasets/Pima+Indians+Diabetes]. Irvine, CA: University of California, School of Information and Computer Science. \n",
    "\n",
    "* **Descripción**: El conjunto de datos *Pima Indian Diabetic Data Set* se ha convertido en un estándar para el análisis en el desempeño y precisión de métodos de diagnóstico de la diabetes, debido a que es la más amplia sistematización de observaciones de este problema. Esta base de datos reune información de mujeres indígenas proveniente de la tribu Pima residentes en Arizona y con edades igual o mayores a 21 años. La base de datos está compuesta por 768 instancias, formadas por 8 variables o atributos de entrada: \n",
    "\n",
    "Variable | Atributos de predicción | Etiqueta \n",
    "---------| ----- | \n",
    "1 | Número de embarazos | *emb* \n",
    "2 | Concentración plasmática de glucosa a las 2 horas de una prueba de tolerancia a la glucosa oral | *gl2h* \n",
    "3 | Presión diastólica de la sangre | *pad* \n",
    "4 | Espesor de la piel del tríceps | *ept* \n",
    "5 | Cantidad de insulina en suero en dos horas | *is2h* \n",
    "6 | Índice de Masa Corporal | *imc* \n",
    "7 | Antecedentes Familiares | *fpd* \n",
    "8 | Edad | *edad* \n",
    "\n",
    "* **Vector de características**:  *v* = {*emb, gl2h, pad, ept, is2h, imc, fpd, edad*} \n",
    "\n"
   ]
  }
  },
  {
   "cell_type": "code",
   "execution_count": null,
   "metadata": {
    "collapsed": false
   }
 ],
 "metadata": {
  "celltoolbar": "Raw Cell Format",
  "kernelspec": {
   "display_name": "Python 3",
   "language": "python",
   "name": "python3"
  },
  "language_info": {
   "codemirror_mode": {
    "name": "ipython",
    "version": 3
   },
   "file_extension": ".py",
   "mimetype": "text/x-python",
   "name": "python",
   "nbconvert_exporter": "python",
   "pygments_lexer": "ipython3",
   "version": "3.5.2"
  }
 },
 "nbformat": 4,
 "nbformat_minor": 0
}
