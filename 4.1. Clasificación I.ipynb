{
 "cells": [
  {
   "cell_type": "markdown",
   "metadata": {},
   "source": [
    "# Reconocimiento de patrones: Clasificación\n",
    "### Ramón Soto C. [(rsotoc@moviquest.com)](mailto:rsotoc@moviquest.com/)\n",
    "![ ](images/blank.png)\n",
    "![agents](images/binary_data_under_a_magnifying.jpg)\n",
    "[ver en nbviewer](http://nbviewer.ipython.org/github/rsotoc/pattern-recognition/blob/master/Clasificación%20I.ipynb) "
   ]
  },
  {
   "cell_type": "markdown",
   "metadata": {},
   "source": [
    "## Definición\n",
    "\n",
    "Se entiende por **clasificación** el proceso de identificar a qué conjunto de categorías o *clases* pertenece una nueva observación, <u>usualmente</u> sobre la base de un conjunto de elementos cuya pertenencia a una categoría ya es conocida.\n",
    "\n",
    "![ ](images/classification_sorting.png)\n",
    "\n",
    "El *clustering* se socia con el *aprendizaje no supervisado* y la *clasificación* con el *aprendizaje supervisado*. En este sentido, el aprendizaje supervisado se refiere a la construcción de los modelos de clase que permitan la clasificación de nuevas observaciones.\n",
    "\n",
    "Entre los métodos más populares de clasificación se encuentran los siguientes:\n",
    "\n",
    "* El método de $k$-vecinos próximos\n",
    "\n",
    "* El clasificador ingenuo de Bayes\n",
    "\n",
    "* Los árboles de decisión\n",
    "\n",
    "* Las máquinas de soporte vectorial\n",
    "\n",
    "* Las redes neuronales\n",
    "\n",
    "\n",
    "\n",
    "## Técnicas de clasificación: El método de $k$-vecinos próximos\n",
    "\n",
    "El método de **$k$-vecinos próximos** (o simplemente kNN) es un método de *aprendizaje vago* (*lazy learning*). Esto significa que el aprendizaje no conduce a una generalización: no existe una fase de entrenamiento (o es muy breve) y en su lugar el método mantiene todos los datos disponibles y los emplea para realizar la clasificación. \n",
    "\n",
    "kNN es un método de aprendizaje *no paramétrico*, es decir, no asume una distribución específica de los datos; en particular, no requiere distribuciones *bien comportadas* (que sigan una distribución normal o que sean separables linealmente, por ejemplo).\n",
    "\n",
    "kNN puede emplearse para clasificación o para regresión. Este último caso se analizará en una lección posterior.\n",
    "\n",
    "\n",
    "### Algoritmo\n",
    "\n",
    "El algoritmo kNN es muy intuitivo: Asumimos que tenemos un conjunto de vectores previamente clasificados y que debemos clasificar un nuevo vector. \n",
    "\n",
    "![ ](images/knn1.png)\n",
    "\n",
    "El proceso consiste en buscar los $k$ vectores ya clasificados que sean más cercanos al nuevo vector; la clase del nuevo vector se determina mediante un proceso de votación: el vector es asignado a aquella clase que tenga más representantes dentro de los $k$ vecinos."
   ]
  },
  {
   "cell_type": "code",
   "execution_count": 1,
   "metadata": {
    "collapsed": false
   },
   "outputs": [],
   "source": [
    "# Inicializar el ambiente\n",
    "import numpy as np\n",
    "import pandas as pd\n",
    "import math\n",
    "import sys\n",
    "\n",
    "from scipy.spatial import distance\n",
    "from sklearn import cluster\n",
    "from matplotlib import pyplot as plt\n",
    "%matplotlib inline\n",
    "np.set_printoptions(precision=2, suppress=True) # Cortar la impresión de decimales a 1"
   ]
  },
  {
   "cell_type": "code",
   "execution_count": 2,
   "metadata": {
    "collapsed": false
   },
   "outputs": [
    {
     "name": "stdout",
     "output_type": "stream",
     "text": [
      "Datos de entrenamiento: \n",
      "[[  70.28   42.12]\n",
      " [   0.     56.75]\n",
      " [  79.      2.5 ]\n",
      " [  75.64   11.67]\n",
      " [  82.     58.8 ]\n",
      " [  86.     77.27]\n",
      " [  80.     85.5 ]\n",
      " [  68.2    62.44]\n",
      " [  72.     88.  ]\n",
      " [  74.     80.6 ]\n",
      " [  91.72    0.  ]\n",
      " [  77.69   13.17]\n",
      " [  79.8    71.2 ]\n",
      " [  87.1    75.39]\n",
      " [   0.     80.85]\n",
      " [   0.     59.93]\n",
      " [  96.      5.  ]\n",
      " [  86.     89.58]\n",
      " [   0.     76.25]\n",
      " [   0.     90.62]\n",
      " [ 100.     95.06]\n",
      " [  87.     62.56]\n",
      " [  79.     82.46]\n",
      " [   0.     75.92]\n",
      " [   0.     76.88]\n",
      " [  73.46   83.53]\n",
      " [  92.     87.56]\n",
      " [  77.     84.38]\n",
      " [  70.8    35.  ]\n",
      " [  92.6    66.88]]\n",
      "\n",
      "Dato de prueba:\n",
      "[72, 52]\n",
      "\n",
      "Prototipos de clase (centroides):\n",
      " [[ 80.16  15.64]\n",
      " [  0.    73.89]\n",
      " [ 82.26  78.2 ]]\n"
     ]
    },
    {
     "data": {
      "image/png": "[encoded data removed]",
      "text/plain": [
       "<matplotlib.figure.Figure at 0x11270f5f8>"
      ]
     },
     "metadata": {},
     "output_type": "display_data"
    }
   ],
   "source": [
    "# Leer los datos de archivo, separar training y test y calcular \"prototipos de clase\"\n",
    "train_set = pd.read_csv(\"Data sets/datosProm.csv\", names = ['A', 'B']).values\n",
    "test_point = [72, 52]\n",
    "print(\"Datos de entrenamiento: \\n{}\\n\\nDato de prueba:\\n{}\\n\".format(train_set, test_point))\n",
    "\n",
    "num_clusters = 3\n",
    "k_means = cluster.KMeans(n_clusters=num_clusters, init='random')\n",
    "k_means.fit(train_set)\n",
    "print(\"Prototipos de clase (centroides):\\n\", k_means.cluster_centers_)\n",
    "\n",
    "fig = plt.figure(figsize=(8, 5))\n",
    "colors = ['#ff0000', '#00ff00', '#0000ff']\n",
    "for k in range(num_clusters):\n",
    "    my_members = k_means.labels_ == k\n",
    "    plt.plot(train_set[my_members, 0], train_set[my_members, 1], 'o', \n",
    "             markeredgecolor='k', markerfacecolor=colors[k], markersize=4)\n",
    "    plt.plot(k_means.cluster_centers_[k][0], k_means.cluster_centers_[k][1], 'o', \n",
    "             markeredgecolor='k', markerfacecolor=colors[k], markersize=6)\n",
    "plt.annotate('Punto nuevo', xy=(test_point[0], test_point[1]), xytext=(40, 50),\n",
    "            arrowprops=dict(facecolor='black', shrink=0.1, width=1, headwidth=7))\n",
    "\n",
    "plt.plot(test_point[0], test_point[1], 'b', marker='*', markersize=8)\n",
    "plt.xlim([-10,110])\n",
    "plt.ylim([-10,100])\n",
    "plt.show()"
   ]
  },
  {
   "cell_type": "markdown",
   "metadata": {},
   "source": [
    "### Casos según $k$\n",
    "\n",
    "Existen dos casos generales de implementación del método kNN:\n",
    "#### <big>I</big>. $k=1$ o **Regla del vecino más cercano**. \n",
    "El escenario es muy simple: Buscar el vector de *entrenamiento* $x$ cuya similaridad al vector de entrada $y$ sea mayor (o cuya distancia a $y$ sea menor): "
   ]
  },
  {
   "cell_type": "code",
   "execution_count": 3,
   "metadata": {
    "collapsed": false
   },
   "outputs": [
    {
     "name": "stdout",
     "output_type": "stream",
     "text": [
      "Los 5 vecinos más próximos son:\n",
      "Vecino 0: 0, dist=10.023673228911644, clase=0, centroide=[ 80.16  15.64]\n",
      "Vecino 1: 7, dist=11.11006750654558, clase=2, centroide=[ 82.26  78.2 ]\n",
      "Vecino 2: 4, dist=12.092973166264777, clase=2, centroide=[ 82.26  78.2 ]\n",
      "Vecino 3: 28, dist=17.04230031421815, clase=0, centroide=[ 80.16  15.64]\n",
      "Vecino 4: 21, dist=18.342004688692022, clase=2, centroide=[ 82.26  78.2 ]\n",
      "\n",
      "El nuevo punto es asignado a la clase 0\n"
     ]
    }
   ],
   "source": [
    "LARGER_DISTANCE = sys.maxsize\n",
    "\n",
    "k_neighs = 5 # 5 vecinos... aunque tomaremos sólo el más cercano\n",
    "neighbors_dists = [LARGER_DISTANCE] * k_neighs\n",
    "neighbors = [0] * k_neighs\n",
    "for i in range(len(train_set)):\n",
    "    dist = distance.euclidean(train_set[i], test_point)\n",
    "    for k in range(k_neighs):\n",
    "        if (dist < neighbors_dists[k]) :\n",
    "            for j in range(k_neighs-1, k, -1):\n",
    "                neighbors_dists[j] = neighbors_dists[j-1]\n",
    "                neighbors[j] = neighbors[j-1] \n",
    "            neighbors_dists[k] = dist\n",
    "            neighbors[k] = i\n",
    "            break\n",
    "            \n",
    "print(\"Los {} vecinos más próximos son:\".format(k_neighs))\n",
    "for k in range(k_neighs):\n",
    "    clase = k_means.labels_[neighbors[k]]\n",
    "    print(\"Vecino {}: {}, dist={}, clase={}, centroide={}\"\n",
    "          .format(k, neighbors[k], neighbors_dists[k], \n",
    "                  clase, k_means.cluster_centers_[clase]))\n",
    "print(\"\\nEl nuevo punto es asignado a la clase\", k_means.labels_[neighbors[0]])"
   ]
  },
  {
   "cell_type": "markdown",
   "metadata": {},
   "source": [
    "Este enfoque es demasido simple y suele arrojar malos resultados... a no ser que:\n",
    "\n",
    "0) Que las clases estén muy bien diferenciadas :-S, lo cual es un caso poco frecuente.\n",
    "\n",
    "1) El número de ejemplos sea muy grande. En tal caso, es muy probable que para cada nuevo observación haya un elemento en el conjunto de entrenamiento que sea casi idéntico a la nueva obervación.\n",
    "\n",
    "2) Que el vecino más próximo se tome con respecto a los prototipos. "
   ]
  },
  {
   "cell_type": "code",
   "execution_count": 4,
   "metadata": {
    "collapsed": false
   },
   "outputs": [
    {
     "name": "stdout",
     "output_type": "stream",
     "text": [
      "Distancia del punto de prueba al prototipo de la clase 0: 37.267635896666846\n",
      "Distancia del punto de prueba al prototipo de la clase 1: 75.25305315333033\n",
      "Distancia del punto de prueba al prototipo de la clase 2: 28.1375318758149\n"
     ]
    }
   ],
   "source": [
    "for i in range(num_clusters):\n",
    "    dist = distance.euclidean(k_means.cluster_centers_[i], test_point)\n",
    "    print (\"Distancia del punto de prueba al prototipo de la clase {}: {}\".format(i, dist))"
   ]
  },
  {
   "cell_type": "markdown",
   "metadata": {},
   "source": [
    "#### <big>II.</big> $k = K$ ó **Regla de los k-vecinos próximos**. \n",
    "\n",
    "En este caso, se seleccionan los $k$ vectores de entrenamiento más cercanos a la nueva observación. La nueva clase es seleccionada mediante un proceso de *votación*. Existen diversas formas de realizar la votación, ya sea un simple conteo de vecinos en cada caso o diversas formas de votación ponderada."
   ]
  },
  {
   "cell_type": "code",
   "execution_count": 5,
   "metadata": {
    "collapsed": false
   },
   "outputs": [
    {
     "name": "stdout",
     "output_type": "stream",
     "text": [
      "Votación simple:\n",
      "El nuevo punto es asignado a la clase 2 con 3 vecinos cercanos.\n",
      "\n",
      "Los 5 vecinos más próximos y sus pesos ponderados son:\n",
      "Vecino 0: peso=0.8539057808944022, clase: 0\n",
      "Vecino 1: peso=0.8380716729773634, clase: 2\n",
      "Vecino 2: peso=0.8237459032189313, clase: 2\n",
      "Vecino 3: peso=0.7516098640379241, clase: 0\n",
      "Vecino 4: peso=0.7326667788713791, clase: 2\n",
      "\n",
      "Votación ponderada:\n",
      "El nuevo punto es asignado a la clase 2 con una votación de 2.3944843550676738.\n"
     ]
    }
   ],
   "source": [
    "simple_vote = [0] * num_clusters\n",
    "winner = 0 \n",
    "for k in range(k_neighs):\n",
    "    # Obtener la clase del vecino k\n",
    "    clase = k_means.labels_[neighbors[k]]\n",
    "    simple_vote[clase] += 1\n",
    "winner = simple_vote.index(max(simple_vote))\n",
    "print(\"Votación simple:\\nEl nuevo punto es asignado a la clase {} con {} vecinos cercanos.\\n\"\n",
    "      .format(winner, simple_vote[winner]))\n",
    "\n",
    "print(\"Los {} vecinos más próximos y sus pesos ponderados son:\".format(k_neighs))\n",
    "suma_dists = sum(neighbors_dists)\n",
    "neighbors_weights = [0] * k_neighs\n",
    "weighted_vote = [0] * num_clusters\n",
    "winner = 0 \n",
    "for k in range(k_neighs):\n",
    "    neighbors_weights[k] = 1 - neighbors_dists[k] / suma_dists\n",
    "    clase = k_means.labels_[neighbors[k]]\n",
    "    weighted_vote[clase] += neighbors_weights[k]\n",
    "    print(\"Vecino {}: peso={}, clase: {}\"\n",
    "          .format(k, neighbors_weights[k], k_means.labels_[neighbors[k]]))\n",
    "for k in range(num_clusters):\n",
    "    if (simple_vote[k] == max(simple_vote)):\n",
    "        winner = k\n",
    "print(\"\\nVotación ponderada:\")\n",
    "print(\"El nuevo punto es asignado a la clase {} con una votación de {}.\"\n",
    "      .format(winner, weighted_vote[winner]))"
   ]
  },
  {
   "cell_type": "markdown",
   "metadata": {},
   "source": [
    "### Observaciones\n",
    "\n",
    "* La elección del valor de $k$ es una decisión crítica en el método de $k$ vecinos próximos. Si se elige un valor muy pequeño, el resultado será muy vulnerable al ruido, si se toma un valor muy alto, además de hacer computacionalmente costoso el método se pierde el factor de cercanía. Una elección típica es tomar $k=\\frac{1}{2}\\sqrt{n}$, siendo $n$ el número de datos de entrenamiento.\n",
    "\n",
    "* Se suele utilizar valores impares de $k$, especialmente cuando hay sólo 2 clases, para evitar empates."
   ]
  }
 ],
 "metadata": {
  "celltoolbar": "Raw Cell Format",
  "kernelspec": {
   "display_name": "Python 3",
   "language": "python",
   "name": "python3"
  },
  "language_info": {
   "codemirror_mode": {
    "name": "ipython",
    "version": 3
   },
   "file_extension": ".py",
   "mimetype": "text/x-python",
   "name": "python",
   "nbconvert_exporter": "python",
   "pygments_lexer": "ipython3",
   "version": "3.6.0"
  }
 },
 "nbformat": 4,
 "nbformat_minor": 0
}
