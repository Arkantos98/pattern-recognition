{
 "cells": [
  {
   "cell_type": "markdown",
   "metadata": {},
   "source": [
    "# Reconocimiento de patrones: Preparación de datos\n",
    "### Ramón Soto C. [(rsotoc@moviquest.com)](mailto:rsotoc@moviquest.com/)\n",
    "![ ](images/blank.png)\n",
    "![agents](images/binary_data_under_a_magnifying.jpg)\n",
    "[ver en nbviewer](http://nbviewer.ipython.org/github/rsotoc/pattern-recognition/blob/master/Limpieza%20de%20datos%20I.ipynb)"
   ]
  },
  {
   "cell_type": "markdown",
   "metadata": {},
   "source": [
    "## Definición\n",
    "\n",
    "Los datos son la base de la nueva economía de la información. Cada día se generan 2.5 x 10<sup>18</sup> bytes de datos ([aquí](http://www.vcloudnews.com/every-day-big-data-statistics-2-5-quintillion-bytes-of-data-created-daily/) un interesante *infographic* al respecto), provenientes de sensores, GPSs, redes sociales, mensajes electrónicos, transacciones comerciales, publicaciones regulares, etc. Esos datos permiten generar una gran cantidad de información para atender virtualmente cualquier problema. Sin embargo, antes de poder explotar la información contenida en ellos y antes de poder generar conocimiento de utilidad para la toma de decisiones, es necesario garantizar que los datos se encuentren en 'buenas condiciones'. \n",
    "\n",
    "Es una estimación bien conocida en tre los científicos de datos que el 80% del tiempo dedicado a la solución de un problema se invierte en la preparación de los datos: \n",
    "\n",
    "![](images/time.jpg)\n",
    "![ ](images/blank.png)\n",
    "\n",
    "El proceso de mejoramiento de los datos es lo que se denomina **preparación de los datos**. \n",
    "![](images/DataPreparation.png)\n",
    "![ ](images/blank.png)\n",
    "* La *limpieza de datos* consiste en rellenar valores faltantes, suavizar datos con ruido, identificar y remover valor atípicos y resolver inconsistencias. \n",
    "* La *integración de datos* es la integración de diversas fuentes de datos: bases de datos, cubos de datos o archivos. \n",
    "* La *selección de datos* consiste en seleccionar el conjunto de datos adecuado para analizar el sistema, incluyendo el muestreo. \n",
    "* La *selección de características* es un proceso mediante el cual se analizan las variables determinantes para describir los datos. \n",
    "* La *transformación de datos* incluye operaciones como normalización, agregación, codificación. \n",
    "\n"
   ]
  },
  {
   "cell_type": "markdown",
   "metadata": {},
   "source": [
    "## Limpieza de los datos \n",
    "\n",
    "### Datos faltantes \n",
    "\n",
    "El problema de valores faltantes es un problema muy frecuente al tratar de realizar cualquier tarea de análisis de datos y puede deberse a diversas razones: \n",
    "* Fallas en los mecanismos de medición (sensores defectuosos, por ejemplo) \n",
    "* Integración de conjuntos de datos no bien coordinados (mediciones con diferentes ciclos, por ejemplo) \n",
    "* Variables nuevas no consideradas o no disponibles originalmente \n",
    "* Respuestas omitidas intencionalmente por la fuente \n",
    "\n",
    "![](images/missingData.png)\n",
    "![ ](images/blank.png)\n",
    "\n",
    "La omisión de valores en el conjunto de datos puede tener diversos efectos y diferentes grados de impacto. En términos generales, se suelen considerar los siguientes grados de impacto, dependiendo del porcentaje de valores faltantes (*dumb rules*):\n",
    "La omisión de valores en el conjunto de datos puede tener diversos efectos y diferentes grados de impacto. En términos generales, se suelen considerar los siguientes grados de impacto, dependiendo del porcentaje de valores faltantes (*dumb rules*):\n",
    "* Menos de 1%: Trivial (no relevante)\n",
    "* 1-5%: Manejable\n",
    "* 5-15%: Manejable mediante métodos sofisticados\n",
    "* Más de 15%: Crítico, con impacto severo en cualquier tipo de interpretación\n",
    "\n",
    "Considérese el siguiente conjunto de datos tomados del conjunto de datos de diabetes:\n"
   ]
  },
  {
   "cell_type": "code",
   "execution_count": 1,
   "metadata": {
    "collapsed": false
   },
   "outputs": [
    {
     "name": "stdout",
     "output_type": "stream",
     "text": [
      "            emb        gl2h        pad        ept        is2h        imc  \\\n",
      "count  20.00000   20.000000  18.000000  11.000000    9.000000  19.000000   \n",
      "mean    4.50000  129.400000  68.555556  32.363636  258.111111  32.578947   \n",
      "std     3.56149   35.354446  16.346333   8.891262  263.487877   6.509103   \n",
      "min     0.00000   78.000000  30.000000  19.000000   83.000000  23.300000   \n",
      "25%     1.00000  106.000000  64.500000  26.000000   94.000000  27.600000   \n",
      "50%     4.50000  117.000000  71.000000  32.000000  168.000000  30.500000   \n",
      "75%     7.25000  152.500000  74.000000  36.500000  230.000000  36.450000   \n",
      "max    10.00000  197.000000  96.000000  47.000000  846.000000  45.800000   \n",
      "\n",
      "             fpd       edad     class  \n",
      "count  20.000000  20.000000  20.00000  \n",
      "mean    0.511650  37.450000   0.65000  \n",
      "std     0.513691  11.591626   0.48936  \n",
      "min     0.134000  21.000000   0.00000  \n",
      "25%     0.198500  30.750000   0.00000  \n",
      "50%     0.374500  32.000000   1.00000  \n",
      "75%     0.560000  50.250000   1.00000  \n",
      "max     2.288000  59.000000   1.00000   \n",
      "\n",
      "    emb  gl2h   pad   ept   is2h   imc    fpd  edad  class\n",
      "0     6   148  72.0  35.0    NaN  33.6  0.627    50      1\n",
      "1     1    85  66.0  29.0    NaN  26.6  0.351    31      0\n",
      "2     8   183  64.0   NaN    NaN  23.3  0.672    32      1\n",
      "3     1    89  66.0  23.0   94.0  28.1  0.167    21      0\n",
      "4     0   137  40.0  35.0  168.0  43.1  2.288    33      1\n",
      "5     5   116  74.0   NaN    NaN  25.6  0.201    30      0\n",
      "6     3    78  50.0  32.0   88.0  31.0  0.248    26      1\n",
      "7    10   115   NaN   NaN    NaN  35.3  0.134    29      0\n",
      "8     2   197  70.0  45.0  543.0  30.5  0.158    53      1\n",
      "9     8   125  96.0   NaN    NaN   NaN  0.232    54      1\n",
      "10    4   110  92.0   NaN    NaN  37.6  0.191    30      0\n",
      "11   10   168  74.0   NaN    NaN  38.0  0.537    34      1\n",
      "12   10   139  80.0   NaN    NaN  27.1  1.441    57      0\n",
      "13    1   189  60.0  23.0  846.0  30.1  0.398    59      1\n",
      "14    5   166  72.0  19.0  175.0  25.8  0.587    51      1\n",
      "15    7   100   NaN   NaN    NaN  30.0  0.484    32      1\n",
      "16    0   118  84.0  47.0  230.0  45.8  0.551    31      1\n",
      "17    7   107  74.0   NaN    NaN  29.6  0.254    31      1\n",
      "18    1   103  30.0  38.0   83.0  43.3  0.183    33      0\n",
      "19    1   115  70.0  30.0   96.0  34.6  0.529    32      1\n"
     ]
    }
   ],
   "source": [
    "\"\"\"\n",
    "Reconocimiento de patrones: Limpieza de datos\n",
    "\"\"\"\n",
    "\n",
    "import numpy as np\n",
    "import pandas as pd\n",
    "import os\n",
    "\n",
    "os.chdir('Data sets/Pima Indian Data Set') \n",
    "df = pd.read_csv(\"pima-indians-diabetes.data-small\", \n",
    "                 names = ['emb', 'gl2h', 'pad', 'ept', 'is2h', 'imc', 'fpd', 'edad', 'class'])\n",
    "\n",
    "print(df.describe(), '\\n')\n",
    "\n",
    "print(df)"
   ]
  },
  {
   "cell_type": "markdown",
   "metadata": {
    "collapsed": true
   },
   "source": [
    "Como puede observarse, la variable *count* no es la misma para todas las columnas. Comparando con el despliegue de los datos, las diferencias en el valor de esta variable corresponde a los valores faltantes. Una mayor exploración podemos obtenerla de la siguiente manera:"
   ]
  },
  {
   "cell_type": "code",
   "execution_count": 2,
   "metadata": {
    "collapsed": false
   },
   "outputs": [
    {
     "name": "stdout",
     "output_type": "stream",
     "text": [
      "Tabla de valores nulos\n",
      "      emb   gl2h    pad    ept   is2h    imc    fpd   edad  class\n",
      "0   False  False  False  False   True  False  False  False  False\n",
      "1   False  False  False  False   True  False  False  False  False\n",
      "2   False  False  False   True   True  False  False  False  False\n",
      "3   False  False  False  False  False  False  False  False  False\n",
      "4   False  False  False  False  False  False  False  False  False\n",
      "5   False  False  False   True   True  False  False  False  False\n",
      "6   False  False  False  False  False  False  False  False  False\n",
      "7   False  False   True   True   True  False  False  False  False\n",
      "8   False  False  False  False  False  False  False  False  False\n",
      "9   False  False  False   True   True   True  False  False  False\n",
      "10  False  False  False   True   True  False  False  False  False\n",
      "11  False  False  False   True   True  False  False  False  False\n",
      "12  False  False  False   True   True  False  False  False  False\n",
      "13  False  False  False  False  False  False  False  False  False\n",
      "14  False  False  False  False  False  False  False  False  False\n",
      "15  False  False   True   True   True  False  False  False  False\n",
      "16  False  False  False  False  False  False  False  False  False\n",
      "17  False  False  False   True   True  False  False  False  False\n",
      "18  False  False  False  False  False  False  False  False  False\n",
      "19  False  False  False  False  False  False  False  False  False \n",
      "\n",
      "Contabilidad de valores nulos por columna\n",
      "emb       0\n",
      "gl2h      0\n",
      "pad       2\n",
      "ept       9\n",
      "is2h     11\n",
      "imc       1\n",
      "fpd       0\n",
      "edad      0\n",
      "class     0\n",
      "dtype: int64 \n",
      "\n",
      "Porcentaje de datos nulos en la columna *ept*\n",
      "45.0\n"
     ]
    }
   ],
   "source": [
    "print ('Tabla de valores nulos')\n",
    "print (df.isnull(), '\\n')\n",
    "\n",
    "print ('Contabilidad de valores nulos por columna')\n",
    "print (df.isnull().sum(), '\\n')\n",
    "\n",
    "print ('Porcentaje de datos nulos en la columna *ept*')\n",
    "eptNullPje = df['ept'].isnull().sum() / df.shape[0] * 100\n",
    "print (eptNullPje)"
   ]
  },
  {
   "cell_type": "markdown",
   "metadata": {},
   "source": [
    "Como puede apreciarse, el porcentaje de valores faltantes en este segmento de datos (45% de valores faltantes) está muy por encima de lo que puede tratarse de manera directa, según las reglas anteriores. \n",
    "\n",
    "En muchos casos, incluso detectar los valores faltantes es un problema. En nuestros datos originales, lo valores faltantes vienen enmascarados como 0, no como un espacio vacío. En este caso, el procedimiento anterior fallaría pues no existen datos 'no disponibles'. Debemos primero analizar los datos y detectar cómo se manifiestan los valores faltantes. En nuestro ejemplo, asumimos que *ept*, esto es, el 'Espesor de la piel del tríceps' no puede tener un valor de 0 y, por lo tanto, ese valor representa un valor faltante. Para resolver el problema, debemos preparar los datos asignando una etiqueta *NaN* a los valores que consideramos como valores'faltantes': \n"
   ]
  },
  {
   "cell_type": "code",
   "execution_count": 3,
   "metadata": {
    "collapsed": false
   },
   "outputs": [
    {
     "name": "stdout",
     "output_type": "stream",
     "text": [
      "    emb  gl2h  pad  ept  is2h   imc    fpd  edad  class\n",
      "0     6   148   72   35     0  33.6  0.627    50      1\n",
      "1     1    85   66   29     0  26.6  0.351    31      0\n",
      "2     8   183   64    0     0  23.3  0.672    32      1\n",
      "3     1    89   66   23    94  28.1  0.167    21      0\n",
      "4     0   137   40   35   168  43.1  2.288    33      1\n",
      "5     5   116   74    0     0  25.6  0.201    30      0\n",
      "6     3    78   50   32    88  31.0  0.248    26      1\n",
      "7    10   115    0    0     0  35.3  0.134    29      0\n",
      "8     2   197   70   45   543  30.5  0.158    53      1\n",
      "9     8   125   96    0     0   0.0  0.232    54      1\n",
      "10    4   110   92    0     0  37.6  0.191    30      0\n",
      "11   10   168   74    0     0  38.0  0.537    34      1\n",
      "12   10   139   80    0     0  27.1  1.441    57      0\n",
      "13    1   189   60   23   846  30.1  0.398    59      1\n",
      "14    5   166   72   19   175  25.8  0.587    51      1\n",
      "15    7   100    0    0     0  30.0  0.484    32      1\n",
      "16    0   118   84   47   230  45.8  0.551    31      1\n",
      "17    7   107   74    0     0  29.6  0.254    31      1\n",
      "18    1   103   30   38    83  43.3  0.183    33      0\n",
      "19    1   115   70   30    96  34.6  0.529    32      1 \n",
      "\n",
      "    emb  gl2h  pad   ept  is2h   imc    fpd  edad  class\n",
      "0     6   148   72  35.0     0  33.6  0.627    50      1\n",
      "1     1    85   66  29.0     0  26.6  0.351    31      0\n",
      "2     8   183   64   NaN     0  23.3  0.672    32      1\n",
      "3     1    89   66  23.0    94  28.1  0.167    21      0\n",
      "4     0   137   40  35.0   168  43.1  2.288    33      1\n",
      "5     5   116   74   NaN     0  25.6  0.201    30      0\n",
      "6     3    78   50  32.0    88  31.0  0.248    26      1\n",
      "7    10   115    0   NaN     0  35.3  0.134    29      0\n",
      "8     2   197   70  45.0   543  30.5  0.158    53      1\n",
      "9     8   125   96   NaN     0   0.0  0.232    54      1\n",
      "10    4   110   92   NaN     0  37.6  0.191    30      0\n",
      "11   10   168   74   NaN     0  38.0  0.537    34      1\n",
      "12   10   139   80   NaN     0  27.1  1.441    57      0\n",
      "13    1   189   60  23.0   846  30.1  0.398    59      1\n",
      "14    5   166   72  19.0   175  25.8  0.587    51      1\n",
      "15    7   100    0   NaN     0  30.0  0.484    32      1\n",
      "16    0   118   84  47.0   230  45.8  0.551    31      1\n",
      "17    7   107   74   NaN     0  29.6  0.254    31      1\n",
      "18    1   103   30  38.0    83  43.3  0.183    33      0\n",
      "19    1   115   70  30.0    96  34.6  0.529    32      1\n"
     ]
    }
   ],
   "source": [
    "df2 = pd.read_csv(\"pima-indians-diabetes.data-small-orig\", \n",
    "                 names = ['emb', 'gl2h', 'pad', 'ept', 'is2h', 'imc', 'fpd', 'edad', 'class'])\n",
    "\n",
    "print(df2, '\\n')\n",
    "\n",
    "df2.loc[df2['ept'] == 0,'ept'] = np.nan\n",
    "\n",
    "print(df2)"
   ]
  },
  {
   "cell_type": "markdown",
   "metadata": {
    "collapsed": true
   },
   "source": [
    "En plataformas para *data science*, como R y Pandas, los valores marcados como 'NaN' suelen ser ignorados en las operaciones: \n"
   ]
  },
  {
   "cell_type": "code",
   "execution_count": 4,
   "metadata": {
    "collapsed": false
   },
   "outputs": [
    {
     "name": "stdout",
     "output_type": "stream",
     "text": [
      "<class 'pandas.core.frame.DataFrame'>\n",
      "RangeIndex: 20 entries, 0 to 19\n",
      "Data columns (total 9 columns):\n",
      "emb      20 non-null int64\n",
      "gl2h     20 non-null int64\n",
      "pad      20 non-null int64\n",
      "ept      11 non-null float64\n",
      "is2h     20 non-null int64\n",
      "imc      20 non-null float64\n",
      "fpd      20 non-null float64\n",
      "edad     20 non-null int64\n",
      "class    20 non-null int64\n",
      "dtypes: float64(3), int64(6)\n",
      "memory usage: 1.5 KB\n",
      "None \n",
      "\n",
      "            emb        gl2h        pad        ept        is2h        imc  \\\n",
      "count  20.00000   20.000000  20.000000  11.000000   20.000000  20.000000   \n",
      "mean    4.50000  129.400000  61.700000  32.363636  116.150000  30.950000   \n",
      "std     3.56149   35.354446  26.159631   8.891262  215.843821   9.654424   \n",
      "min     0.00000   78.000000   0.000000  19.000000    0.000000   0.000000   \n",
      "25%     1.00000  106.000000  57.500000  26.000000    0.000000  26.975000   \n",
      "50%     4.50000  117.000000  70.000000  32.000000    0.000000  30.300000   \n",
      "75%     7.25000  152.500000  74.000000  36.500000  114.000000  35.875000   \n",
      "max    10.00000  197.000000  96.000000  47.000000  846.000000  45.800000   \n",
      "\n",
      "             fpd       edad     class  \n",
      "count  20.000000  20.000000  20.00000  \n",
      "mean    0.511650  37.450000   0.65000  \n",
      "std     0.513691  11.591626   0.48936  \n",
      "min     0.134000  21.000000   0.00000  \n",
      "25%     0.198500  30.750000   0.00000  \n",
      "50%     0.374500  32.000000   1.00000  \n",
      "75%     0.560000  50.250000   1.00000  \n",
      "max     2.288000  59.000000   1.00000   \n",
      "\n",
      "Suma y promedio de ept: (356.0, 32.36363636363637) \n",
      "\n",
      "Promedio tomando en cuenta los 0s: 17.8\n"
     ]
    }
   ],
   "source": [
    "print(df2.info(), '\\n')\n",
    "\n",
    "print(df2.describe(), '\\n')\n",
    "\n",
    "print('Suma y promedio de ept: ({}, {})'.format(df2['ept'].sum(), df2['ept'].mean()), '\\n')\n",
    "\n",
    "print('Promedio tomando en cuenta los 0s:', df2['ept'].sum()/20)"
   ]
  },
  {
   "cell_type": "markdown",
   "metadata": {},
   "source": [
    "\n",
    "### Tratamiento de valores faltantes \n",
    "\n",
    "El método más simple para tratar con el problema de valores faltantes es la *eliminación de casos*, también conocido como *análisis de casos completos. Este método está disponible en todos los paquetes de análisis de datos y es la opción por omisión en la mayoría. \n",
    "\n",
    "En Pandas podemos eliminar los valores faltantes de diferentes maneras. *DataFrame.dropna*() elimina todos los renglones en el DataFrame en los que hay al menos un valor *NaN*:"
   ]
  },
  {
   "cell_type": "code",
   "execution_count": 5,
   "metadata": {
    "collapsed": false
   },
   "outputs": [
    {
     "name": "stdout",
     "output_type": "stream",
     "text": [
      "    emb  gl2h   pad   ept   is2h   imc    fpd  edad  class\n",
      "0     6   148  72.0  35.0    NaN  33.6  0.627    50      1\n",
      "1     1    85  66.0  29.0    NaN  26.6  0.351    31      0\n",
      "2     8   183  64.0   NaN    NaN  23.3  0.672    32      1\n",
      "3     1    89  66.0  23.0   94.0  28.1  0.167    21      0\n",
      "4     0   137  40.0  35.0  168.0  43.1  2.288    33      1\n",
      "5     5   116  74.0   NaN    NaN  25.6  0.201    30      0\n",
      "6     3    78  50.0  32.0   88.0  31.0  0.248    26      1\n",
      "7    10   115   NaN   NaN    NaN  35.3  0.134    29      0\n",
      "8     2   197  70.0  45.0  543.0  30.5  0.158    53      1\n",
      "9     8   125  96.0   NaN    NaN   NaN  0.232    54      1\n",
      "10    4   110  92.0   NaN    NaN  37.6  0.191    30      0\n",
      "11   10   168  74.0   NaN    NaN  38.0  0.537    34      1\n",
      "12   10   139  80.0   NaN    NaN  27.1  1.441    57      0\n",
      "13    1   189  60.0  23.0  846.0  30.1  0.398    59      1\n",
      "14    5   166  72.0  19.0  175.0  25.8  0.587    51      1\n",
      "15    7   100   NaN   NaN    NaN  30.0  0.484    32      1\n",
      "16    0   118  84.0  47.0  230.0  45.8  0.551    31      1\n",
      "17    7   107  74.0   NaN    NaN  29.6  0.254    31      1\n",
      "18    1   103  30.0  38.0   83.0  43.3  0.183    33      0\n",
      "19    1   115  70.0  30.0   96.0  34.6  0.529    32      1 \n",
      "\n",
      "    emb  gl2h   pad   ept   is2h   imc    fpd  edad  class\n",
      "3     1    89  66.0  23.0   94.0  28.1  0.167    21      0\n",
      "4     0   137  40.0  35.0  168.0  43.1  2.288    33      1\n",
      "6     3    78  50.0  32.0   88.0  31.0  0.248    26      1\n",
      "8     2   197  70.0  45.0  543.0  30.5  0.158    53      1\n",
      "13    1   189  60.0  23.0  846.0  30.1  0.398    59      1\n",
      "14    5   166  72.0  19.0  175.0  25.8  0.587    51      1\n",
      "16    0   118  84.0  47.0  230.0  45.8  0.551    31      1\n",
      "18    1   103  30.0  38.0   83.0  43.3  0.183    33      0\n",
      "19    1   115  70.0  30.0   96.0  34.6  0.529    32      1\n"
     ]
    }
   ],
   "source": [
    "print(df, '\\n')\n",
    "print(df.dropna())"
   ]
  },
  {
   "cell_type": "markdown",
   "metadata": {},
   "source": [
    "El parámetro *tresh* en DataFrame.dropna() permite eliminar todos los renglones que no contengan al menos el número de columnas \"limpias\" expresado por el prámetro. En los ejemplos a continuación, se conservan 1) sólo los renglones que tienen al menos 8 columnas *limpias* y 2) los renglones que tienen al menos 7 columnas con valores definidos:"
   ]
  },
  {
   "cell_type": "code",
   "execution_count": 6,
   "metadata": {
    "collapsed": false
   },
   "outputs": [
    {
     "name": "stdout",
     "output_type": "stream",
     "text": [
      "    emb  gl2h   pad   ept   is2h   imc    fpd  edad  class\n",
      "0     6   148  72.0  35.0    NaN  33.6  0.627    50      1\n",
      "1     1    85  66.0  29.0    NaN  26.6  0.351    31      0\n",
      "3     1    89  66.0  23.0   94.0  28.1  0.167    21      0\n",
      "4     0   137  40.0  35.0  168.0  43.1  2.288    33      1\n",
      "6     3    78  50.0  32.0   88.0  31.0  0.248    26      1\n",
      "8     2   197  70.0  45.0  543.0  30.5  0.158    53      1\n",
      "13    1   189  60.0  23.0  846.0  30.1  0.398    59      1\n",
      "14    5   166  72.0  19.0  175.0  25.8  0.587    51      1\n",
      "16    0   118  84.0  47.0  230.0  45.8  0.551    31      1\n",
      "18    1   103  30.0  38.0   83.0  43.3  0.183    33      0\n",
      "19    1   115  70.0  30.0   96.0  34.6  0.529    32      1 \n",
      "\n",
      "    emb  gl2h   pad   ept   is2h   imc    fpd  edad  class\n",
      "0     6   148  72.0  35.0    NaN  33.6  0.627    50      1\n",
      "1     1    85  66.0  29.0    NaN  26.6  0.351    31      0\n",
      "2     8   183  64.0   NaN    NaN  23.3  0.672    32      1\n",
      "3     1    89  66.0  23.0   94.0  28.1  0.167    21      0\n",
      "4     0   137  40.0  35.0  168.0  43.1  2.288    33      1\n",
      "5     5   116  74.0   NaN    NaN  25.6  0.201    30      0\n",
      "6     3    78  50.0  32.0   88.0  31.0  0.248    26      1\n",
      "8     2   197  70.0  45.0  543.0  30.5  0.158    53      1\n",
      "10    4   110  92.0   NaN    NaN  37.6  0.191    30      0\n",
      "11   10   168  74.0   NaN    NaN  38.0  0.537    34      1\n",
      "12   10   139  80.0   NaN    NaN  27.1  1.441    57      0\n",
      "13    1   189  60.0  23.0  846.0  30.1  0.398    59      1\n",
      "14    5   166  72.0  19.0  175.0  25.8  0.587    51      1\n",
      "16    0   118  84.0  47.0  230.0  45.8  0.551    31      1\n",
      "17    7   107  74.0   NaN    NaN  29.6  0.254    31      1\n",
      "18    1   103  30.0  38.0   83.0  43.3  0.183    33      0\n",
      "19    1   115  70.0  30.0   96.0  34.6  0.529    32      1\n"
     ]
    }
   ],
   "source": [
    "print(df.dropna(thresh=8), '\\n')\n",
    "print(df.dropna(thresh=7))"
   ]
  },
  {
   "cell_type": "markdown",
   "metadata": {},
   "source": [
    "### Imputación \n",
    "\n",
    "El análisis de casos completos es una opción aceptable si el porcentaje de valores faltantes es pequeño. En la mayoría de los casos, es preferible reemplazar los valores faltantes por valores calculados por omisión o valores calculados. Esta operación se denomina **imputación**. En el siguiente ejemplo, todos los valores *NaN* son reemplazados por 0, lo cual pudiera seguir la lógica de que \"si el dato no está disponible es que en realidad era cero."
   ]
  },
  {
   "cell_type": "code",
   "execution_count": 7,
   "metadata": {
    "collapsed": false
   },
   "outputs": [
    {
     "name": "stdout",
     "output_type": "stream",
     "text": [
      "    emb  gl2h   pad   ept   is2h   imc    fpd  edad  class\n",
      "0     6   148  72.0  35.0    NaN  33.6  0.627    50      1\n",
      "1     1    85  66.0  29.0    NaN  26.6  0.351    31      0\n",
      "2     8   183  64.0   NaN    NaN  23.3  0.672    32      1\n",
      "3     1    89  66.0  23.0   94.0  28.1  0.167    21      0\n",
      "4     0   137  40.0  35.0  168.0  43.1  2.288    33      1\n",
      "5     5   116  74.0   NaN    NaN  25.6  0.201    30      0\n",
      "6     3    78  50.0  32.0   88.0  31.0  0.248    26      1\n",
      "7    10   115   NaN   NaN    NaN  35.3  0.134    29      0\n",
      "8     2   197  70.0  45.0  543.0  30.5  0.158    53      1\n",
      "9     8   125  96.0   NaN    NaN   NaN  0.232    54      1\n",
      "10    4   110  92.0   NaN    NaN  37.6  0.191    30      0\n",
      "11   10   168  74.0   NaN    NaN  38.0  0.537    34      1\n",
      "12   10   139  80.0   NaN    NaN  27.1  1.441    57      0\n",
      "13    1   189  60.0  23.0  846.0  30.1  0.398    59      1\n",
      "14    5   166  72.0  19.0  175.0  25.8  0.587    51      1\n",
      "15    7   100   NaN   NaN    NaN  30.0  0.484    32      1\n",
      "16    0   118  84.0  47.0  230.0  45.8  0.551    31      1\n",
      "17    7   107  74.0   NaN    NaN  29.6  0.254    31      1\n",
      "18    1   103  30.0  38.0   83.0  43.3  0.183    33      0\n",
      "19    1   115  70.0  30.0   96.0  34.6  0.529    32      1 \n",
      "\n",
      "    emb  gl2h   pad   ept   is2h   imc    fpd  edad  class\n",
      "0     6   148  72.0  35.0    0.0  33.6  0.627    50      1\n",
      "1     1    85  66.0  29.0    0.0  26.6  0.351    31      0\n",
      "2     8   183  64.0   0.0    0.0  23.3  0.672    32      1\n",
      "3     1    89  66.0  23.0   94.0  28.1  0.167    21      0\n",
      "4     0   137  40.0  35.0  168.0  43.1  2.288    33      1\n",
      "5     5   116  74.0   0.0    0.0  25.6  0.201    30      0\n",
      "6     3    78  50.0  32.0   88.0  31.0  0.248    26      1\n",
      "7    10   115   0.0   0.0    0.0  35.3  0.134    29      0\n",
      "8     2   197  70.0  45.0  543.0  30.5  0.158    53      1\n",
      "9     8   125  96.0   0.0    0.0   0.0  0.232    54      1\n",
      "10    4   110  92.0   0.0    0.0  37.6  0.191    30      0\n",
      "11   10   168  74.0   0.0    0.0  38.0  0.537    34      1\n",
      "12   10   139  80.0   0.0    0.0  27.1  1.441    57      0\n",
      "13    1   189  60.0  23.0  846.0  30.1  0.398    59      1\n",
      "14    5   166  72.0  19.0  175.0  25.8  0.587    51      1\n",
      "15    7   100   0.0   0.0    0.0  30.0  0.484    32      1\n",
      "16    0   118  84.0  47.0  230.0  45.8  0.551    31      1\n",
      "17    7   107  74.0   0.0    0.0  29.6  0.254    31      1\n",
      "18    1   103  30.0  38.0   83.0  43.3  0.183    33      0\n",
      "19    1   115  70.0  30.0   96.0  34.6  0.529    32      1 \n",
      "\n",
      "            emb        gl2h        pad        ept        is2h        imc  \\\n",
      "count  20.00000   20.000000  20.000000  20.000000   20.000000  20.000000   \n",
      "mean    4.50000  129.400000  61.700000  17.800000  116.150000  30.950000   \n",
      "std     3.56149   35.354446  26.159631  17.733703  215.843821   9.654424   \n",
      "min     0.00000   78.000000   0.000000   0.000000    0.000000   0.000000   \n",
      "25%     1.00000  106.000000  57.500000   0.000000    0.000000  26.975000   \n",
      "50%     4.50000  117.000000  70.000000  21.000000    0.000000  30.300000   \n",
      "75%     7.25000  152.500000  74.000000  32.750000  114.000000  35.875000   \n",
      "max    10.00000  197.000000  96.000000  47.000000  846.000000  45.800000   \n",
      "\n",
      "             fpd       edad     class  \n",
      "count  20.000000  20.000000  20.00000  \n",
      "mean    0.511650  37.450000   0.65000  \n",
      "std     0.513691  11.591626   0.48936  \n",
      "min     0.134000  21.000000   0.00000  \n",
      "25%     0.198500  30.750000   0.00000  \n",
      "50%     0.374500  32.000000   1.00000  \n",
      "75%     0.560000  50.250000   1.00000  \n",
      "max     2.288000  59.000000   1.00000  \n"
     ]
    }
   ],
   "source": [
    "print(df, \"\\n\")\n",
    "df3 = df.fillna(0)\n",
    "print(df3, \"\\n\")\n",
    "print (df3.describe())"
   ]
  },
  {
   "cell_type": "markdown",
   "metadata": {},
   "source": [
    "Sin embargo, en muchos casos un valor por omisión de cero no tiene sentido. En nuestro ejemplo con los datos de diabetes, un valor de cero en la columna *pad* (*Presión diastólica de la sangre*) es imposible en una persona viva. En este caso, una mejor opción es rellenar los valores faltantes por el mínimo registrado:"
   ]
  },
  {
   "cell_type": "code",
   "execution_count": 8,
   "metadata": {
    "collapsed": false
   },
   "outputs": [
    {
     "name": "stdout",
     "output_type": "stream",
     "text": [
      "    emb  gl2h   pad   ept   is2h   imc    fpd  edad  class\n",
      "0     6   148  72.0  35.0   83.0  33.6  0.627    50      1\n",
      "1     1    85  66.0  29.0   83.0  26.6  0.351    31      0\n",
      "2     8   183  64.0  19.0   83.0  23.3  0.672    32      1\n",
      "3     1    89  66.0  23.0   94.0  28.1  0.167    21      0\n",
      "4     0   137  40.0  35.0  168.0  43.1  2.288    33      1\n",
      "5     5   116  74.0  19.0   83.0  25.6  0.201    30      0\n",
      "6     3    78  50.0  32.0   88.0  31.0  0.248    26      1\n",
      "7    10   115  30.0  19.0   83.0  35.3  0.134    29      0\n",
      "8     2   197  70.0  45.0  543.0  30.5  0.158    53      1\n",
      "9     8   125  96.0  19.0   83.0  23.3  0.232    54      1\n",
      "10    4   110  92.0  19.0   83.0  37.6  0.191    30      0\n",
      "11   10   168  74.0  19.0   83.0  38.0  0.537    34      1\n",
      "12   10   139  80.0  19.0   83.0  27.1  1.441    57      0\n",
      "13    1   189  60.0  23.0  846.0  30.1  0.398    59      1\n",
      "14    5   166  72.0  19.0  175.0  25.8  0.587    51      1\n",
      "15    7   100  30.0  19.0   83.0  30.0  0.484    32      1\n",
      "16    0   118  84.0  47.0  230.0  45.8  0.551    31      1\n",
      "17    7   107  74.0  19.0   83.0  29.6  0.254    31      1\n",
      "18    1   103  30.0  38.0   83.0  43.3  0.183    33      0\n",
      "19    1   115  70.0  30.0   96.0  34.6  0.529    32      1 \n",
      "\n",
      "            emb        gl2h        pad        ept        is2h        imc  \\\n",
      "count  20.00000   20.000000  20.000000  20.000000   20.000000  20.000000   \n",
      "mean    4.50000  129.400000  64.700000  26.350000  161.800000  32.115000   \n",
      "std     3.56149   35.354446  19.491159   9.387982  192.926656   6.666592   \n",
      "min     0.00000   78.000000  30.000000  19.000000   83.000000  23.300000   \n",
      "25%     1.00000  106.000000  57.500000  19.000000   83.000000  26.975000   \n",
      "50%     4.50000  117.000000  70.000000  21.000000   83.000000  30.300000   \n",
      "75%     7.25000  152.500000  74.000000  32.750000  114.000000  35.875000   \n",
      "max    10.00000  197.000000  96.000000  47.000000  846.000000  45.800000   \n",
      "\n",
      "             fpd       edad     class  \n",
      "count  20.000000  20.000000  20.00000  \n",
      "mean    0.511650  37.450000   0.65000  \n",
      "std     0.513691  11.591626   0.48936  \n",
      "min     0.134000  21.000000   0.00000  \n",
      "25%     0.198500  30.750000   0.00000  \n",
      "50%     0.374500  32.000000   1.00000  \n",
      "75%     0.560000  50.250000   1.00000  \n",
      "max     2.288000  59.000000   1.00000  \n"
     ]
    }
   ],
   "source": [
    "df3 = df.fillna(df.min())\n",
    "print(df3, \"\\n\")\n",
    "print (df3.describe())"
   ]
  },
  {
   "cell_type": "markdown",
   "metadata": {},
   "source": [
    "Otras alternativas comunes son rellenar los valores faltantes con el valor máximo o con valores estadísticos.\n",
    "\n",
    "Reemplazar los valores faltantes por el valor promedio de esa variable es uno de los métodos más comunes de imputación, sin embargo la media es una medida vulnerable a valores atípicos. Una alternativa más robusta ante este problema es la mediana. "
   ]
  },
  {
   "cell_type": "code",
   "execution_count": 9,
   "metadata": {
    "collapsed": false
   },
   "outputs": [
    {
     "name": "stdout",
     "output_type": "stream",
     "text": [
      "Rellenando con el valor máximo \n",
      "             emb        gl2h        pad        ept        is2h        imc  \\\n",
      "count  20.00000   20.000000  20.000000  20.000000   20.000000  20.000000   \n",
      "mean    4.50000  129.400000  71.300000  38.950000  581.450000  33.240000   \n",
      "std     3.56149   35.354446  17.619069   9.870077  345.359687   6.991303   \n",
      "min     0.00000   78.000000  30.000000  19.000000   83.000000  23.300000   \n",
      "25%     1.00000  106.000000  65.500000  31.500000  173.250000  27.850000   \n",
      "50%     4.50000  117.000000  72.000000  46.000000  846.000000  30.750000   \n",
      "75%     7.25000  152.500000  81.000000  47.000000  846.000000  37.700000   \n",
      "max    10.00000  197.000000  96.000000  47.000000  846.000000  45.800000   \n",
      "\n",
      "             fpd       edad     class  \n",
      "count  20.000000  20.000000  20.00000  \n",
      "mean    0.511650  37.450000   0.65000  \n",
      "std     0.513691  11.591626   0.48936  \n",
      "min     0.134000  21.000000   0.00000  \n",
      "25%     0.198500  30.750000   0.00000  \n",
      "50%     0.374500  32.000000   1.00000  \n",
      "75%     0.560000  50.250000   1.00000  \n",
      "max     2.288000  59.000000   1.00000   \n",
      "\n",
      "Rellenando con la media \n",
      "             emb        gl2h        pad        ept        is2h        imc  \\\n",
      "count  20.00000   20.000000  20.000000  20.000000   20.000000  20.000000   \n",
      "mean    4.50000  129.400000  68.555556  32.363636  258.111111  32.578947   \n",
      "std     3.56149   35.354446  15.462083   6.450400  170.973511   6.335496   \n",
      "min     0.00000   78.000000  30.000000  19.000000   83.000000  23.300000   \n",
      "25%     1.00000  106.000000  65.500000  31.500000  173.250000  27.850000   \n",
      "50%     4.50000  117.000000  70.000000  32.363636  258.111111  30.750000   \n",
      "75%     7.25000  152.500000  74.000000  33.022727  258.111111  35.875000   \n",
      "max    10.00000  197.000000  96.000000  47.000000  846.000000  45.800000   \n",
      "\n",
      "             fpd       edad     class  \n",
      "count  20.000000  20.000000  20.00000  \n",
      "mean    0.511650  37.450000   0.65000  \n",
      "std     0.513691  11.591626   0.48936  \n",
      "min     0.134000  21.000000   0.00000  \n",
      "25%     0.198500  30.750000   0.00000  \n",
      "50%     0.374500  32.000000   1.00000  \n",
      "75%     0.560000  50.250000   1.00000  \n",
      "max     2.288000  59.000000   1.00000   \n",
      "\n",
      "Rellenando con la mediana \n",
      "             emb        gl2h        pad        ept        is2h        imc  \\\n",
      "count  20.00000   20.000000  20.000000  20.000000   20.000000  20.000000   \n",
      "mean    4.50000  129.400000  68.800000  32.200000  208.550000  32.475000   \n",
      "std     3.56149   35.354446  15.480378   6.453069  177.052022   6.352527   \n",
      "min     0.00000   78.000000  30.000000  19.000000   83.000000  23.300000   \n",
      "25%     1.00000  106.000000  65.500000  31.500000  168.000000  27.850000   \n",
      "50%     4.50000  117.000000  71.000000  32.000000  168.000000  30.500000   \n",
      "75%     7.25000  152.500000  74.000000  32.750000  168.000000  35.875000   \n",
      "max    10.00000  197.000000  96.000000  47.000000  846.000000  45.800000   \n",
      "\n",
      "             fpd       edad     class  \n",
      "count  20.000000  20.000000  20.00000  \n",
      "mean    0.511650  37.450000   0.65000  \n",
      "std     0.513691  11.591626   0.48936  \n",
      "min     0.134000  21.000000   0.00000  \n",
      "25%     0.198500  30.750000   0.00000  \n",
      "50%     0.374500  32.000000   1.00000  \n",
      "75%     0.560000  50.250000   1.00000  \n",
      "max     2.288000  59.000000   1.00000   \n",
      "\n",
      "Rellenando con la moda \n",
      "             emb        gl2h        pad        ept        is2h        imc  \\\n",
      "count  20.00000   20.000000  18.000000  11.000000    9.000000  19.000000   \n",
      "mean    4.50000  129.400000  68.555556  32.363636  258.111111  32.578947   \n",
      "std     3.56149   35.354446  16.346333   8.891262  263.487877   6.509103   \n",
      "min     0.00000   78.000000  30.000000  19.000000   83.000000  23.300000   \n",
      "25%     1.00000  106.000000  64.500000  26.000000   94.000000  27.600000   \n",
      "50%     4.50000  117.000000  71.000000  32.000000  168.000000  30.500000   \n",
      "75%     7.25000  152.500000  74.000000  36.500000  230.000000  36.450000   \n",
      "max    10.00000  197.000000  96.000000  47.000000  846.000000  45.800000   \n",
      "\n",
      "             fpd       edad     class  \n",
      "count  20.000000  20.000000  20.00000  \n",
      "mean    0.511650  37.450000   0.65000  \n",
      "std     0.513691  11.591626   0.48936  \n",
      "min     0.134000  21.000000   0.00000  \n",
      "25%     0.198500  30.750000   0.00000  \n",
      "50%     0.374500  32.000000   1.00000  \n",
      "75%     0.560000  50.250000   1.00000  \n",
      "max     2.288000  59.000000   1.00000  \n"
     ]
    }
   ],
   "source": [
    "print(\"Rellenando con el valor máximo \\n\", df.fillna(df.max()).describe(), \"\\n\")\n",
    "print(\"Rellenando con la media \\n\", df.fillna(df.mean()).describe(), \"\\n\")\n",
    "print(\"Rellenando con la mediana \\n\", df.fillna(df.median()).describe(), \"\\n\")\n",
    "print(\"Rellenando con la moda \\n\", df.fillna(df.mode()).describe())"
   ]
  },
  {
   "cell_type": "markdown",
   "metadata": {},
   "source": [
    "Otra alternativa común es rellenar los valores faltantes con el valor no nulo previo o el siguiente:"
   ]
  },
  {
   "cell_type": "code",
   "execution_count": 10,
   "metadata": {
    "collapsed": false
   },
   "outputs": [
    {
     "name": "stdout",
     "output_type": "stream",
     "text": [
      "    emb  gl2h   pad   ept   is2h   imc    fpd  edad  class\n",
      "0     6   148  72.0  35.0    NaN  33.6  0.627    50      1\n",
      "1     1    85  66.0  29.0    NaN  26.6  0.351    31      0\n",
      "2     8   183  64.0   NaN    NaN  23.3  0.672    32      1\n",
      "3     1    89  66.0  23.0   94.0  28.1  0.167    21      0\n",
      "4     0   137  40.0  35.0  168.0  43.1  2.288    33      1\n",
      "5     5   116  74.0   NaN    NaN  25.6  0.201    30      0\n",
      "6     3    78  50.0  32.0   88.0  31.0  0.248    26      1\n",
      "7    10   115   NaN   NaN    NaN  35.3  0.134    29      0\n",
      "8     2   197  70.0  45.0  543.0  30.5  0.158    53      1\n",
      "9     8   125  96.0   NaN    NaN   NaN  0.232    54      1\n",
      "10    4   110  92.0   NaN    NaN  37.6  0.191    30      0\n",
      "11   10   168  74.0   NaN    NaN  38.0  0.537    34      1\n",
      "12   10   139  80.0   NaN    NaN  27.1  1.441    57      0\n",
      "13    1   189  60.0  23.0  846.0  30.1  0.398    59      1\n",
      "14    5   166  72.0  19.0  175.0  25.8  0.587    51      1\n",
      "15    7   100   NaN   NaN    NaN  30.0  0.484    32      1\n",
      "16    0   118  84.0  47.0  230.0  45.8  0.551    31      1\n",
      "17    7   107  74.0   NaN    NaN  29.6  0.254    31      1\n",
      "18    1   103  30.0  38.0   83.0  43.3  0.183    33      0\n",
      "19    1   115  70.0  30.0   96.0  34.6  0.529    32      1 \n",
      "\n",
      "Replicar hacia enfrente\n",
      "     emb  gl2h   pad   ept   is2h   imc    fpd  edad  class\n",
      "0     6   148  72.0  35.0    NaN  33.6  0.627    50      1\n",
      "1     1    85  66.0  29.0    NaN  26.6  0.351    31      0\n",
      "2     8   183  64.0  29.0    NaN  23.3  0.672    32      1\n",
      "3     1    89  66.0  23.0   94.0  28.1  0.167    21      0\n",
      "4     0   137  40.0  35.0  168.0  43.1  2.288    33      1\n",
      "5     5   116  74.0  35.0  168.0  25.6  0.201    30      0\n",
      "6     3    78  50.0  32.0   88.0  31.0  0.248    26      1\n",
      "7    10   115  50.0  32.0   88.0  35.3  0.134    29      0\n",
      "8     2   197  70.0  45.0  543.0  30.5  0.158    53      1\n",
      "9     8   125  96.0  45.0  543.0  30.5  0.232    54      1\n",
      "10    4   110  92.0  45.0  543.0  37.6  0.191    30      0\n",
      "11   10   168  74.0  45.0  543.0  38.0  0.537    34      1\n",
      "12   10   139  80.0  45.0  543.0  27.1  1.441    57      0\n",
      "13    1   189  60.0  23.0  846.0  30.1  0.398    59      1\n",
      "14    5   166  72.0  19.0  175.0  25.8  0.587    51      1\n",
      "15    7   100  72.0  19.0  175.0  30.0  0.484    32      1\n",
      "16    0   118  84.0  47.0  230.0  45.8  0.551    31      1\n",
      "17    7   107  74.0  47.0  230.0  29.6  0.254    31      1\n",
      "18    1   103  30.0  38.0   83.0  43.3  0.183    33      0\n",
      "19    1   115  70.0  30.0   96.0  34.6  0.529    32      1 \n",
      "\n",
      "Replicar hacia atrás\n",
      "     emb  gl2h   pad   ept   is2h   imc    fpd  edad  class\n",
      "0     6   148  72.0  35.0   94.0  33.6  0.627    50      1\n",
      "1     1    85  66.0  29.0   94.0  26.6  0.351    31      0\n",
      "2     8   183  64.0  23.0   94.0  23.3  0.672    32      1\n",
      "3     1    89  66.0  23.0   94.0  28.1  0.167    21      0\n",
      "4     0   137  40.0  35.0  168.0  43.1  2.288    33      1\n",
      "5     5   116  74.0  32.0   88.0  25.6  0.201    30      0\n",
      "6     3    78  50.0  32.0   88.0  31.0  0.248    26      1\n",
      "7    10   115  70.0  45.0  543.0  35.3  0.134    29      0\n",
      "8     2   197  70.0  45.0  543.0  30.5  0.158    53      1\n",
      "9     8   125  96.0  23.0  846.0  37.6  0.232    54      1\n",
      "10    4   110  92.0  23.0  846.0  37.6  0.191    30      0\n",
      "11   10   168  74.0  23.0  846.0  38.0  0.537    34      1\n",
      "12   10   139  80.0  23.0  846.0  27.1  1.441    57      0\n",
      "13    1   189  60.0  23.0  846.0  30.1  0.398    59      1\n",
      "14    5   166  72.0  19.0  175.0  25.8  0.587    51      1\n",
      "15    7   100  84.0  47.0  230.0  30.0  0.484    32      1\n",
      "16    0   118  84.0  47.0  230.0  45.8  0.551    31      1\n",
      "17    7   107  74.0  38.0   83.0  29.6  0.254    31      1\n",
      "18    1   103  30.0  38.0   83.0  43.3  0.183    33      0\n",
      "19    1   115  70.0  30.0   96.0  34.6  0.529    32      1\n"
     ]
    }
   ],
   "source": [
    "print(df, \"\\n\")\n",
    "print(\"Replicar hacia enfrente\\n\", df.fillna(method='pad'), \"\\n\")\n",
    "print(\"Replicar hacia atrás\\n\", df.fillna(method='bfill'))"
   ]
  },
  {
   "cell_type": "markdown",
   "metadata": {},
   "source": [
    "Esta forma de tratar el problema de valores faltantes es muy común en análisis de series de tiempo. Esta estrategia suele designarse como *último valor conocido* y equivale a asumir que el sistema no pudo cambiar demasiado desde la última medición. En otros casos debe anaizarse si los datos realmente tienen una estructura local; esto es, determinar si tiene sentido esperar que los registros vecinos tengan valores cercanos. en el caso del conjunto de datos de diabetes, esta suposición no es válida.\n",
    "\n",
    "Podemos también limitar el número de registros que son modificados de esta forma:"
   ]
  },
  {
   "cell_type": "code",
   "execution_count": 11,
   "metadata": {
    "collapsed": false
   },
   "outputs": [
    {
     "name": "stdout",
     "output_type": "stream",
     "text": [
      "    emb  gl2h   pad   ept   is2h   imc    fpd  edad  class\n",
      "0     6   148  72.0  35.0    NaN  33.6  0.627    50      1\n",
      "1     1    85  66.0  29.0    NaN  26.6  0.351    31      0\n",
      "2     8   183  64.0  29.0    NaN  23.3  0.672    32      1\n",
      "3     1    89  66.0  23.0   94.0  28.1  0.167    21      0\n",
      "4     0   137  40.0  35.0  168.0  43.1  2.288    33      1\n",
      "5     5   116  74.0  35.0  168.0  25.6  0.201    30      0\n",
      "6     3    78  50.0  32.0   88.0  31.0  0.248    26      1\n",
      "7    10   115  50.0  32.0   88.0  35.3  0.134    29      0\n",
      "8     2   197  70.0  45.0  543.0  30.5  0.158    53      1\n",
      "9     8   125  96.0  45.0  543.0  30.5  0.232    54      1\n",
      "10    4   110  92.0   NaN    NaN  37.6  0.191    30      0\n",
      "11   10   168  74.0   NaN    NaN  38.0  0.537    34      1\n",
      "12   10   139  80.0   NaN    NaN  27.1  1.441    57      0\n",
      "13    1   189  60.0  23.0  846.0  30.1  0.398    59      1\n",
      "14    5   166  72.0  19.0  175.0  25.8  0.587    51      1\n",
      "15    7   100  72.0  19.0  175.0  30.0  0.484    32      1\n",
      "16    0   118  84.0  47.0  230.0  45.8  0.551    31      1\n",
      "17    7   107  74.0  47.0  230.0  29.6  0.254    31      1\n",
      "18    1   103  30.0  38.0   83.0  43.3  0.183    33      0\n",
      "19    1   115  70.0  30.0   96.0  34.6  0.529    32      1\n"
     ]
    }
   ],
   "source": [
    "print(df.fillna(method='pad', limit=1))"
   ]
  },
  {
   "cell_type": "markdown",
   "metadata": {},
   "source": [
    "### Interpolación\n",
    "..."
   ]
  },
  {
   "cell_type": "markdown",
   "metadata": {},
   "source": [
    "<hr style=\"border-width: 3px;\">\n",
    "\n",
    "### Tarea 2\n",
    "\n",
    "* Analice los problemas de valores faltantes en el conjunto de datos *Pima Indians Diabetes* completo. \n",
    "* Realice la imputación de los datos utilizando 3 aproximaciones diferentes y compare los resultados.\n",
    "\n",
    "**Fecha de entrega**: Martes 29 de agosto.\n"
   ]
  }
 ],
 "metadata": {
  "celltoolbar": "Raw Cell Format",
  "kernelspec": {
   "display_name": "Python 3",
   "language": "python",
   "name": "python3"
  },
  "language_info": {
   "codemirror_mode": {
    "name": "ipython",
    "version": 3
   },
   "file_extension": ".py",
   "mimetype": "text/x-python",
   "name": "python",
   "nbconvert_exporter": "python",
   "pygments_lexer": "ipython3",
   "version": "3.5.1"
  }
 },
 "nbformat": 4,
 "nbformat_minor": 0
}
