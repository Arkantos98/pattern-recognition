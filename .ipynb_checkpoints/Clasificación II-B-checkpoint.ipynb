{
 "cells": [
  {
   "cell_type": "markdown",
   "metadata": {},
   "source": [
    "# Reconocimiento de patrones: Clasificación\n",
    "### Ramón Soto C. [(rsotoc@moviquest.com)](mailto:rsotoc@moviquest.com/)\n",
    "![ ](images/blank.png)\n",
    "![agents](images/binary_data_under_a_magnifying.jpg)\n",
    "[ver en nbviewer](http://nbviewer.ipython.org/github/rsotoc/pattern-recognition/blob/master/Clasificación%20II.ipynb)"
   ]
  },
  {
   "cell_type": "code",
   "execution_count": 1,
   "metadata": {
    "collapsed": false
   },
   "outputs": [],
   "source": [
    "# Inicializar el ambiente\n",
    "import numpy as np\n",
    "import pandas as pd\n",
    "from sklearn.naive_bayes import GaussianNB, MultinomialNB, BernoulliNB\n",
    "import os\n",
    "from matplotlib import pyplot as plt\n",
    "from mpl_toolkits.mplot3d import Axes3D\n",
    "%matplotlib inline\n",
    "np.set_printoptions(precision=2, suppress=True) # Cortar la impresión de decimales a 1\n",
    "\n",
    "os.chdir('Data sets')\n",
    "df = pd.read_csv(\"Pima Indian Data Set/pima-indians-diabetes.data\", \n",
    "                 names = ['emb', 'gl2h', 'pad', 'ept', 'is2h', 'imc', 'fpd', 'edad', 'class'])\n",
    "\n",
    "df.loc[df['pad'] == 0,'pad'] = np.nan\n",
    "df.loc[df['ept'] == 0,'ept'] = np.nan\n",
    "df.loc[df['is2h'] == 0,'is2h'] = np.nan\n",
    "df.loc[df['imc'] == 0,'imc'] = np.nan\n",
    "df = df.dropna()\n",
    "\n",
    "df_pure = df[list(['emb', 'gl2h', 'pad', 'ept', 'is2h', 'imc', 'fpd', 'edad'])]\n",
    "df_class = df[list(['class'])]"
   ]
  },
  {
   "cell_type": "code",
   "execution_count": 2,
   "metadata": {
    "collapsed": false
   },
   "outputs": [
    {
     "name": "stdout",
     "output_type": "stream",
     "text": [
      "Puntos mal clasificados en el conjunto completo: 87 de 393 (22.137404580152673%)\n",
      "\n",
      "Puntos mal clasificados en el conjunto de entrenamiento: 67 de 262 (25.572519083969464%)\n",
      "\n",
      "Puntos mal clasificados en el conjunto de prueba: 26 de 131 (19.84732824427481%)\n",
      "\n"
     ]
    }
   ],
   "source": [
    "cut = df.shape[0] // 3 * 2\n",
    "\n",
    "complete_set = df_pure.values\n",
    "complete_targets = df_class.values.ravel()\n",
    "train_set = df_pure.head(cut).values\n",
    "train_targets = df_class.head(cut).values.ravel()\n",
    "test_set = df_pure.tail(df.shape[0]-cut).values\n",
    "test_targets = df_class.tail(df.shape[0]-cut).values.ravel()\n",
    "\n",
    "clf = GaussianNB()\n",
    "clf.fit(complete_set, complete_targets)\n",
    "class_complete = clf.predict(complete_set)\n",
    "fails_complete = np.sum(complete_targets  != class_complete)\n",
    "print(\"Puntos mal clasificados en el conjunto completo: {} de {} ({}%)\\n\"\n",
    "      .format(fails_complete, len(complete_set), 100*fails_complete/len(complete_set)))\n",
    "\n",
    "clf.fit(train_set, train_targets)\n",
    "class_predict_train = clf.predict(train_set)\n",
    "fails_train = np.sum(train_targets  != class_predict_train)\n",
    "print(\"Puntos mal clasificados en el conjunto de entrenamiento: {} de {} ({}%)\\n\"\n",
    "      .format(fails_train, len(train_set), 100*fails_train/len(train_set)))\n",
    "\n",
    "class_predict_test = clf.predict(test_set)\n",
    "fails_test = np.sum(test_targets  != class_predict_test)\n",
    "print(\"Puntos mal clasificados en el conjunto de prueba: {} de {} ({}%)\\n\"\n",
    "      .format(fails_test, len(test_set), 100*fails_test/len(test_set)))"
   ]
  },
  {
   "cell_type": "markdown",
   "metadata": {},
   "source": [
    "<hr style=\"border-width: 3px;\">\n",
    "\n",
    "### Tarea 6\n",
    "\n",
    "* Realice pruebas de los clasificadores bayesianos ingenuos sobre sus datos.\n",
    "\n",
    "**Fecha de entrega**: Martes 4 de octubre."
   ]
  }
 ],
 "metadata": {
  "celltoolbar": "Raw Cell Format",
  "kernelspec": {
   "display_name": "Python 3",
   "language": "python",
   "name": "python3"
  },
  "language_info": {
   "codemirror_mode": {
    "name": "ipython",
    "version": 3
   },
   "file_extension": ".py",
   "mimetype": "text/x-python",
   "name": "python",
   "nbconvert_exporter": "python",
   "pygments_lexer": "ipython3",
   "version": "3.5.2"
  }
 },
 "nbformat": 4,
 "nbformat_minor": 0
}
