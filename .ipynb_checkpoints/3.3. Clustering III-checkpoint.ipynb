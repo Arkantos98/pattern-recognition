{
 "cells": [
  {
   "cell_type": "markdown",
   "metadata": {},
   "source": [
    "<div style=\"width:100%; overflow:hidden; background-color:#F1F1E6; padding: 10px; border-style: outset; color:#17469e\">\n",
    "    <div style=\"width: 80%; float: left;\">\n",
    "    <h2 align=\"center\">Universidad de Sonora</h2>\n",
    "    <hr style=\"border-width: 3px; border-color:#17469e\">\n",
    "          <h1>Reconocimiento de patrones: Preparación de los datos</h1>          \n",
    "          <h4>Ramón Soto C. <a href=\"mailto:rsotoc@moviquest.com/\">(rsotoc@moviquest.com)</a></h4>\n",
    "    </div>\n",
    "    <div style=\"float: right;\">\n",
    "    <img src=\"images/escudo_unison.png\">\n",
    "    </div>\n",
    "</div>"
   ]
  },
  {
   "cell_type": "markdown",
   "metadata": {},
   "source": [
    "## Caso de estudio: [*Stack Overflow 2018 Developer Survey*](https://www.kaggle.com/stackoverflow/stack-overflow-2018-developer-survey)\n",
    "\n",
    "Como caso de estudio principal en el presente curso hemos seleccionado la encuesta de desarrolladores 2018 de *Stack Overflow* disponible en [Kaggle](https://www.kaggle.com). En este esta etapa realizaremos el análisis de agrupamientos."
   ]
  },
  {
   "cell_type": "markdown",
   "metadata": {},
   "source": [
    "### 4. Modelado - Dendrogramas\n",
    "\n",
    "<div style=\"margin-top: 6px; border: 1px solid #cfcfcf; padding: 8px 12px; border-radius:2px; background-color:#f7f7f7; \">\n",
    "La primera fase del modelado, en este caso particular donde no tenemos información de las categorías subyacentes en la muestra, consiste en identificar los potenciales agrupamientos.<br><br> \n",
    "La primera técnica que emplearemos para este fin es la identificación de clusters mediante Dendrogramas.<br><br> \n",
    "El primer problema que tenemos que resolver es como medir distancias entre los tipos de datos específicos. Utilizamos una medida de distancia de Gower para datos híbridos.\n",
    "</div>"
   ]
  },
  {
   "cell_type": "code",
   "execution_count": 1,
   "metadata": {
    "collapsed": true
   },
   "outputs": [],
   "source": [
    "\"\"\"\n",
    "Reconocimiento de patrones: Dendrogramas\n",
    "\"\"\"\n",
    "\n",
    "import pandas as pd\n",
    "import numpy as np\n",
    "import json\n",
    "import pickle\n",
    "\n",
    "from collections import Counter\n",
    "from operator import itemgetter\n",
    "from IPython.display import display, HTML\n",
    "\n",
    "from matplotlib import pyplot as plt\n",
    "from scipy.cluster.hierarchy import dendrogram, linkage\n",
    "%matplotlib inline\n",
    "\n",
    "pd.set_option('display.max_columns', 130)\n",
    "pd.set_option('max_colwidth', 80)"
   ]
  },
  {
   "cell_type": "code",
   "execution_count": 2,
   "metadata": {
    "collapsed": false
   },
   "outputs": [],
   "source": [
    "path = \"Data sets/Stack Overflow Survey/\"\n",
    "\n",
    "# Recuperar encabezados de columnas en orden original\n",
    "with open(path + 'survey_results_public_transformed.headers', 'rb') as file:  \n",
    "    headers = pickle.load(file)\n",
    "\n",
    "# Recuperar diccionarios... sólo por si se requieren\n",
    "with open(path + 'survey_results_public_transformed.dicts', 'rb') as file:  \n",
    "    dict_of_dicts = pickle.load(file)\n",
    "\n",
    "with open(path + 'survey_results_public_transformed.json') as f:\n",
    "    dict_json = json.load(f)\n",
    "df = pd.DataFrame.from_dict(dict_json)\n",
    "\n",
    "# Reordenar las columnas de acuerdo al orden original\n",
    "df = df.reindex(headers, axis=1)"
   ]
  },
  {
   "cell_type": "code",
   "execution_count": 3,
   "metadata": {
    "collapsed": false
   },
   "outputs": [],
   "source": [
    "var_str = ['Hobby', 'OpenSource', 'Country', 'Student', 'Employment', 'FormalEducation', \n",
    "         'UndergradMajor', 'CompanySize', 'YearsCoding', 'YearsCodingProf', 'UpdateCV', \n",
    "         'JobSatisfaction', 'CareerSatisfaction', 'HopeFiveYears', 'JobSearchStatus', \n",
    "         'LastNewJob', 'TimeFullyProductive', 'AgreeDisagree1', 'AgreeDisagree2', \n",
    "         'AgreeDisagree3', 'OperatingSystem', 'NumberMonitors', 'CheckInCode', 'AdBlocker', \n",
    "         'AdBlockerDisable', 'AdsAgreeDisagree1', 'AdsAgreeDisagree2', 'AdsAgreeDisagree3', \n",
    "         'AIDangerous', 'AIInteresting', 'AIResponsible', 'AIFuture', 'EthicsChoice', \n",
    "         'EthicsReport', 'EthicsResponsible', 'EthicalImplications', 'HoursComputer', \n",
    "         'StackOverflowRecommend', 'StackOverflowVisit', 'StackOverflowHasAccount', \n",
    "         'StackOverflowParticipate', 'StackOverflowJobs', 'StackOverflowDevStory', \n",
    "         'StackOverflowJobsRecommend', 'StackOverflowConsiderMember', 'HypotheticalTools1', \n",
    "         'HypotheticalTools2', 'HypotheticalTools3', 'HypotheticalTools4', 'WakeTime', \n",
    "         'HypotheticalTools5', 'HoursOutside', 'SkipMeals', 'Exercise', 'EducationParents', \n",
    "         'Age', 'Dependents', 'SurveyTooLong', 'SurveyEasy']\n",
    "var_list = ['DevType', 'CommunicationTools', 'EducationTypes', 'SelfTaughtTypes', \n",
    "         'HackathonReasons', 'LanguageDesireNextYear', 'DatabaseWorkedWith', \n",
    "         'DatabaseDesireNextYear', 'PlatformWorkedWith', 'PlatformDesireNextYear', \n",
    "         'FrameworkWorkedWith', 'FrameworkDesireNextYear', 'IDE', 'Methodology', \n",
    "         'VersionControl', 'AdBlockerReasons', 'AdsActions', 'ErgonomicDevices', \n",
    "         'RaceEthnicity', 'LanguageWorkedWith']\n",
    "var_ranks = ['AssessJob', 'AssessBenefits', 'JobContactPriorities', 'JobEmailPriorities', \n",
    "             'AdsPriorities']\n",
    "var_float = 'ConvertedSalary'\n",
    "\n",
    "def distance_qual(x, y):\n",
    "    # Número de variables; si var_float es array, modificar \"+ 1\" por \"+ len(var_float)\"\n",
    "    numvars = len(var_str) + len(var_list) + len(var_ranks) + 1\n",
    "    \n",
    "    distancia = abs(x.ConvertedSalary - y.ConvertedSalary)\n",
    "    if pd.isnull(distancia):\n",
    "        distancia = 0\n",
    "        numvars -= 1\n",
    "        \n",
    "    for col in var_str:\n",
    "        if x[col] != y[col]:\n",
    "            distancia += 1\n",
    "        \n",
    "    for col in var_list:\n",
    "        num_vars = len(x[col]) + len(y[col])\n",
    "        d = 0\n",
    "        if num_vars > 0:\n",
    "            d = (2*len(set(x[col] + y[col])) - num_vars) / num_vars\n",
    "        distancia += d\n",
    "\n",
    "    for col in var_ranks:\n",
    "        d = 0\n",
    "        max_vars = max(len(x[col]), len(y[col]))\n",
    "        if len(x[col]) != 0 and len(y[col]) != 0:\n",
    "            for v in range(len(x[col])):\n",
    "                if x[col][v] != y[col][v]:\n",
    "                    d += 1\n",
    "        else:\n",
    "            d += max_vars\n",
    "        \n",
    "        if d != 0:\n",
    "            d /= max_vars\n",
    "        distancia += d\n",
    "        \n",
    "        #print(col, x[col], y[col], d)\n",
    "\n",
    "    return distancia / numvars\n",
    "\n",
    "def distance_matrix(rows):\n",
    "    list_array = []\n",
    "    for index, row in rows.iterrows():\n",
    "        for i in range(index + 1, rows.shape[0]):\n",
    "            list_array.append(distance_qual(rows.iloc[index], rows.iloc[i]))\n",
    "#    print(list_array)\n",
    "#    print(squareform(list_array))\n",
    "\n",
    "    return list_array # matriz triangular superior\n",
    "\n",
    "def display_tree(X, dend_type, clusters=10):\n",
    "    Z = linkage(X, dend_type)\n",
    "    plt.figure(figsize=(12, 5))\n",
    "    dendrogram(Z,     \n",
    "               truncate_mode='lastp',\n",
    "               p=clusters, \n",
    "               show_leaf_counts=True,  \n",
    "               leaf_font_size=14)\n",
    "    plt.show()"
   ]
  },
  {
   "cell_type": "markdown",
   "metadata": {},
   "source": [
    "<div style=\"margin-top: 6px; border: 1px solid #cfcfcf; padding: 8px 12px; border-radius:2px; background-color:#f7f7f7; \">\n",
    "Un problema específico de los dendrogramas es que hay que calcular la matriz de distancias, lo cual es, en principio, una matriz de todos los datos contra los restantes. Dado que es una matriz triangular, con valores cero en la diagonal, los cálculos se reducen a $n_d=\\frac{1}{2} n_e \\times (n_e -1)$, siendo $n_d$ el número de distancias que debn calcularse y $ne$ el número de elementos de la muestra. Esta cantidad de cálculos es aún elevado para una base de datos como la de la encuesta, como puede apreciarse de la siguiente exploración:\n",
    "</div>"
   ]
  },
  {
   "cell_type": "code",
   "execution_count": 4,
   "metadata": {
    "collapsed": false
   },
   "outputs": [
    {
     "name": "stdout",
     "output_type": "stream",
     "text": [
      "Número de distancias calculadas: 499500 \n",
      "Tiempo empleado (segundos): 1604.2853016853333 \n",
      "Tiempo unitario promedio: 0.0032117823857564227 \n",
      "\n",
      "Total de distancia a calcular: 4845462903.0 \n",
      "Tiempo total para el conjunto de datos (dias): 180.1223657718933\n"
     ]
    }
   ],
   "source": [
    "import time\n",
    "\n",
    "total_dists = df.shape[0] * (df.shape[0] - 1) / 2\n",
    "\n",
    "df1 = df.sample(n=1000).reset_index(drop=True)\n",
    "start_time = time.time()\n",
    "X = distance_matrix(df1)\n",
    "elapsed_time = time.time() - start_time\n",
    "\n",
    "print(\"Número de distancias calculadas:\", len(X), \n",
    "     \"\\nTiempo empleado (segundos):\", elapsed_time,\n",
    "     \"\\nTiempo unitario promedio:\", elapsed_time / len(X),\n",
    "      \"\\n\\nTotal de distancia a calcular:\", total_dists, \n",
    "     \"\\nTiempo total para el conjunto de datos (dias):\", \n",
    "      elapsed_time / len(X) * total_dists / 86400)"
   ]
  },
  {
   "cell_type": "markdown",
   "metadata": {},
   "source": [
    "<div style=\"margin-top: 6px; border: 1px solid #cfcfcf; padding: 8px 12px; border-radius:2px; background-color:#f7f7f7; \">\n",
    "Como puede apreciarse, el cálculo de la matriz triangular tardaría cerca de 5 meses, en una computadora con procesador Intel Core i7 de 4GHz y 32GB de RAM. En lugar de hacer la exploración completa, haremos una serie de exploraciones conmuestreos aleatorios:\n",
    "</div>"
   ]
  },
  {
   "cell_type": "code",
   "execution_count": 5,
   "metadata": {
    "collapsed": false,
    "scrolled": false
   },
   "outputs": [
    {
     "ename": "TypeError",
     "evalue": "must be str, not int",
     "output_type": "error",
     "traceback": [
      "\u001b[0;31m---------------------------------------------------------------------------\u001b[0m",
      "\u001b[0;31mTypeError\u001b[0m                                 Traceback (most recent call last)",
      "\u001b[0;32m<ipython-input-5-1a151e05625c>\u001b[0m in \u001b[0;36m<module>\u001b[0;34m()\u001b[0m\n\u001b[1;32m      2\u001b[0m     \u001b[0mdf1\u001b[0m \u001b[0;34m=\u001b[0m \u001b[0mdf\u001b[0m\u001b[0;34m.\u001b[0m\u001b[0msample\u001b[0m\u001b[0;34m(\u001b[0m\u001b[0mn\u001b[0m\u001b[0;34m=\u001b[0m\u001b[0;36m1000\u001b[0m\u001b[0;34m)\u001b[0m\u001b[0;34m.\u001b[0m\u001b[0mreset_index\u001b[0m\u001b[0;34m(\u001b[0m\u001b[0mdrop\u001b[0m\u001b[0;34m=\u001b[0m\u001b[0;32mTrue\u001b[0m\u001b[0;34m)\u001b[0m\u001b[0;34m\u001b[0m\u001b[0m\n\u001b[1;32m      3\u001b[0m     \u001b[0mX\u001b[0m \u001b[0;34m=\u001b[0m \u001b[0mdistance_matrix\u001b[0m\u001b[0;34m(\u001b[0m\u001b[0mdf1\u001b[0m\u001b[0;34m)\u001b[0m\u001b[0;34m\u001b[0m\u001b[0m\n\u001b[0;32m----> 4\u001b[0;31m     \u001b[0mcorrida\u001b[0m \u001b[0;34m=\u001b[0m \u001b[0;34m\"Corrida \"\u001b[0m \u001b[0;34m+\u001b[0m \u001b[0mi\u001b[0m\u001b[0;34m\u001b[0m\u001b[0m\n\u001b[0m\u001b[1;32m      5\u001b[0m \u001b[0;34m\u001b[0m\u001b[0m\n\u001b[1;32m      6\u001b[0m     \u001b[0mprint\u001b[0m\u001b[0;34m(\u001b[0m\u001b[0mcorrida\u001b[0m \u001b[0;34m+\u001b[0m \u001b[0;34m\" - \"\u001b[0m \u001b[0;34m+\u001b[0m \u001b[0;34m\"'single'\"\u001b[0m\u001b[0;34m)\u001b[0m\u001b[0;34m\u001b[0m\u001b[0m\n",
      "\u001b[0;31mTypeError\u001b[0m: must be str, not int"
     ]
    }
   ],
   "source": [
    "for i in range(6):\n",
    "    df1 = df.sample(n=1000).reset_index(drop=True)\n",
    "    X = distance_matrix(df1)\n",
    "    corrida = \"Corrida \" + i\n",
    "    \n",
    "    print(str(corrida) + \" - \" + \"'single'\")\n",
    "    display_tree(X, 'single')\n",
    "    display(HTML('<hr style=\"border-width: 3px;\">'))\n",
    "    print(str(corrida) + \" - \" + \"'complete'\")\n",
    "    display_tree(X, 'complete')\n",
    "    display(HTML('<hr style=\"border-width: 3px;\">'))\n",
    "    print(str'corrida' + \" - \" + \"'weighted'\")\n",
    "    display_tree(X, 'weighted')\n",
    "    display(HTML('<hr style=\"border-width: 5px;\"><br><br>'))"
   ]
  },
  {
   "cell_type": "markdown",
   "metadata": {},
   "source": [
    "<div style=\"margin-top: 6px; border: 1px solid #cfcfcf; padding: 8px 12px; border-radius:2px; background-color:#f7f7f7;\">\n",
    "Estos dendrogramas muestran, al nivel explorado, 2 o tres grandes grupos. Analicemos un mayor grado de agrupamientos:\n",
    "</div>"
   ]
  },
  {
   "cell_type": "code",
   "execution_count": null,
   "metadata": {
    "collapsed": false
   },
   "outputs": [],
   "source": [
    "for i in range(6):\n",
    "    df1 = df.sample(n=1000).reset_index(drop=True)\n",
    "    X = distance_matrix(df1)\n",
    "    corrida = \"Corrida \" + i\n",
    "    \n",
    "    print(corrida + \" - \" + \"'single'\")\n",
    "    display_tree(X, 'single', 20)\n",
    "    display(HTML('<hr style=\"border-width: 3px;\">'))\n",
    "    print(corrida + \" - \" + \"'complete'\")\n",
    "    display_tree(X, 'complete', 20)\n",
    "    display(HTML('<hr style=\"border-width: 3px;\">'))\n",
    "    print(corrida + \" - \" + \"'weighted'\")\n",
    "    display_tree(X, 'weighted', 20)\n",
    "    display(HTML('<hr style=\"border-width: 5px;\"><br><br>'))"
   ]
  },
  {
   "cell_type": "code",
   "execution_count": null,
   "metadata": {
    "collapsed": true
   },
   "outputs": [],
   "source": []
  }
 ],
 "metadata": {
  "celltoolbar": "Raw Cell Format",
  "kernelspec": {
   "display_name": "Python 3",
   "language": "python",
   "name": "python3"
  },
  "language_info": {
   "codemirror_mode": {
    "name": "ipython",
    "version": 3
   },
   "file_extension": ".py",
   "mimetype": "text/x-python",
   "name": "python",
   "nbconvert_exporter": "python",
   "pygments_lexer": "ipython3",
   "version": "3.6.0"
  }
 },
 "nbformat": 4,
 "nbformat_minor": 0
}
