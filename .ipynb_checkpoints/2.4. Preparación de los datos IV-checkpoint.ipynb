{
 "cells": [
  {
   "cell_type": "markdown",
   "metadata": {},
   "source": [
    "<div style=\"width:100%; overflow:hidden; background-color:#F1F1E6; padding: 10px; border-style: outset; color:#17469e\">\n",
    "    <div style=\"width: 80%; float: left;\">\n",
    "    <h2 align=\"center\">Universidad de Sonora</h2>\n",
    "    <hr style=\"border-width: 3px; border-color:#17469e\">\n",
    "          <h1>Reconocimiento de patrones: Preparación de los datos</h1>\n",
    "          <h4>Ramón Soto C. [(rsotoc@moviquest.com)](mailto:rsotoc@moviquest.com/)</h4>\n",
    "          [ver en nbviewer](http://nbviewer.ipython.org/github/rsotoc/pattern-recognition/blob/master/Intro%201.%20Bases%20cognitivas.ipynb)\n",
    "    </div>\n",
    "    <div style=\"margin-left: 620px;\">\n",
    "          ![](images/escudo_unison.png)\n",
    "    </div>\n",
    "</div>"
   ]
  },
  {
   "cell_type": "markdown",
   "metadata": {},
   "source": [
    "## Caso de estudio: [*Stack Overflow 2018 Developer Survey*](https://www.kaggle.com/stackoverflow/stack-overflow-2018-developer-survey)\n",
    "\n",
    "Como caso de estudio principal en el presente curso hemos seleccionado la encuesta de desarrolladores 2018 de *Stack Overflow* disponible en [Kaggle](https://www.kaggle.com). En este primer análisis, realizaremos las fases de comprensión del negocio y comprensión de los datos."
   ]
  },
  {
   "cell_type": "markdown",
   "metadata": {},
   "source": [
    "### 3. Preparación de los datos\n",
    "\n",
    "\n",
    "### <span style=\"color:#313f9e; font-weight: bold;\">Selección de los datos:</span>\n",
    "<div style=\"margin-top: 6px; border: 1px solid #cfcfcf; padding: 8px 12px; border-radius:2px; background-color:#f7f7f7; \">\n",
    "\n",
    "De la sección [Verificación de la calidad de los datos](http://localhost:8888/notebooks/Dropbox/Notebooks/pattern-recognition/5.%20Introducción%20V.ipynb#verif), recordamos:\n",
    "\n",
    "</div>"
   ]
  },
  {
   "cell_type": "code",
   "execution_count": null,
   "metadata": {
    "collapsed": false
   },
   "outputs": [],
   "source": [
    "\"\"\"\n",
    "Reconocimiento de patrones: Preparación de los datos\n",
    "\"\"\"\n",
    "\n",
    "import pandas as pd\n",
    "import numpy as np\n",
    "from operator import itemgetter\n",
    "\n",
    "import plotly as py\n",
    "import plotly.graph_objs as go\n",
    "from IPython.display import display, HTML\n",
    "from collections import Counter\n",
    "\n",
    "py.offline.init_notebook_mode(connected=True)\n",
    "\n",
    "\n",
    "pd.set_option('display.max_columns', 130)\n",
    "pd.set_option('max_colwidth', 80)"
   ]
  },
  {
   "cell_type": "code",
   "execution_count": null,
   "metadata": {
    "collapsed": true
   },
   "outputs": [],
   "source": [
    "# Contabiliza etiquetas\n",
    "def get_counters(col_name, label):\n",
    "    full_list = \";\".join(col_name)\n",
    "    each_word = full_list.split(\";\")\n",
    "    each_word = Counter(each_word).most_common()\n",
    "    return pd.DataFrame(each_word, columns = [label, \"Participantes\"])\n",
    "\n",
    "def get_counters_numeric(col, label):\n",
    "    series = col.value_counts()\n",
    "    return pd.DataFrame({label: list(series.keys()), \"Participantes\": list(series)}, \n",
    "                    columns = [label, \"Participantes\"])\n",
    "\n",
    "# Calcular porcentajes\n",
    "def percent (row, col):\n",
    "    count = col.count()\n",
    "    return 100 * row[1] / count\n",
    "\n",
    "def get_fig_pie(data, hole = 0, pull = 0):\n",
    "    labels = [w if len(w)<=30 else w[0:30]+\"...\" for w in data.iloc[:,0]]\n",
    "    dg = [\n",
    "        go.Pie(labels=labels, \n",
    "               values=data.iloc[0:,1],\n",
    "               hole = hole,\n",
    "               pull = pull,\n",
    "               hoverinfo = \"label+percent\",\n",
    "              )\n",
    "    ]\n",
    "    layout = go.Layout(\n",
    "        autosize=False,\n",
    "        width=750,\n",
    "        height=500,\n",
    "    )\n",
    "    return go.Figure(data=dg, layout=layout)"
   ]
  },
  {
   "cell_type": "code",
   "execution_count": null,
   "metadata": {
    "collapsed": false
   },
   "outputs": [],
   "source": [
    "path = \"Data sets/Stack Overflow Survey/\"\n",
    "df = pd.read_csv(path + \"survey_results_public.csv\", low_memory=False)\n",
    "\n",
    "print(df.info())"
   ]
  },
  {
   "cell_type": "code",
   "execution_count": null,
   "metadata": {
    "collapsed": false,
    "scrolled": false
   },
   "outputs": [],
   "source": [
    "missing = {}\n",
    "for col in df.describe(include='all'):\n",
    "    missing[col] = 100*sum(pd.isnull(df[col])) / df.shape[0]\n",
    "table = sorted(missing.items(), key=itemgetter(1))\n",
    "\n",
    "data = pd.DataFrame(table, columns=[\"Columna\", \"Valores Faltantes (%)\"])\n",
    "display(HTML(data.to_html()))"
   ]
  },
  {
   "cell_type": "markdown",
   "metadata": {},
   "source": [
    "<div style=\"margin-top: 6px; border: 1px solid #cfcfcf; padding: 8px 12px; border-radius:2px; background-color:#f7f7f7;\">\n",
    "De estos resultados destacan las variables <code style=\"background-color:#f7f7f7;\">TimeAfterBootcamp</code> y <code style=\"background-color:#f7f7f7;\">MilitaryUS</code> que tienen demasiados valores faltantes y no parecen aportar información importante al entendimiento de la comunidad internacional de desarrolladores de software. <code style=\"background-color:#f7f7f7;\">Respondent</code> tampoco es de interés, pues es tan solo un ID del usuario, específico de la encuesta. Por ello, decidimos eliminar estas tres columnas:\n",
    "</div>"
   ]
  },
  {
   "cell_type": "code",
   "execution_count": null,
   "metadata": {
    "collapsed": false
   },
   "outputs": [],
   "source": [
    "df = df.drop(['Respondent', 'MilitaryUS', 'TimeAfterBootcamp'], axis=1)\n",
    "print(df.info())"
   ]
  },
  {
   "cell_type": "markdown",
   "metadata": {},
   "source": [
    "<div style=\"margin-top: 6px; border: 1px solid #cfcfcf; padding: 8px 12px; border-radius:2px; background-color:#f7f7f7;\">\n",
    "A continuación, exploramos el resultado de eliminar datos con valores faltantes, con una política estricta:\n",
    "</div>"
   ]
  },
  {
   "cell_type": "code",
   "execution_count": null,
   "metadata": {
    "collapsed": false,
    "scrolled": false
   },
   "outputs": [],
   "source": [
    "print(df.dropna().info())"
   ]
  },
  {
   "cell_type": "markdown",
   "metadata": {},
   "source": [
    "<div style=\"border: 1px solid #cfcfcf; padding: 8px 12px; border-radius:2px; background-color:#f7f7f7;\">\n",
    "Observamos que esta operación elimina el 99.68% de los datos; el primer registro completo es el 233 y el último el 71414. Es decir, esta no es una buena opción, en este caso. Probaremos a continuación otras opciones más conservadoras:\n",
    "</div>"
   ]
  },
  {
   "cell_type": "code",
   "execution_count": null,
   "metadata": {
    "collapsed": false,
    "scrolled": false
   },
   "outputs": [],
   "source": [
    "print(df.dropna(thresh=63).info())"
   ]
  },
  {
   "cell_type": "markdown",
   "metadata": {},
   "source": [
    "<div style=\"border: 1px solid #cfcfcf; padding: 8px 12px; border-radius:2px; background-color:#f7f7f7;\">\n",
    "Incluso permitiendo la mitad de variables indefinidas en cada registro, la pérdida de datos es cercana al 30%.\n",
    "</div>\n",
    "\n",
    "<br>\n",
    "<div style=\"width:100%; overflow:hidden;\">\n",
    "<div style=\"width:15%; float:left; padding-right:5px; color:blue; font-weight: bold;\">\n",
    "Conclusión:\n",
    "</div>\n",
    "\n",
    "<div style=\"margin-left: 15%; border: 1px solid #cfcfcf; padding: 8px 12px; border-radius:2px; background-color:#f7f7f7;\">\n",
    "Por el momento, no podemos mejorara la calidad de los datos, de manera que conservamos las columnas restantes.\n",
    "</div>\n",
    "</div>"
   ]
  },
  {
   "cell_type": "markdown",
   "metadata": {},
   "source": [
    "### <span style=\"color:#313f9e; font-weight: bold;\">Limpieza de los datos:</span>\n",
    "<div style=\"margin-top: 6px; border: 1px solid #cfcfcf; padding: 8px 12px; border-radius:2px; background-color:#f7f7f7;\">\n",
    "La limpieza de datos, se centra principalmente en resolver el problema de valores faltantes. El objetivo es tratar de eliminar esta falla sin corromper los datos. La limpieza generalmente involucra una decisión de compromiso entre estos dos objetivos.\n",
    "</div>"
   ]
  },
  {
   "cell_type": "markdown",
   "metadata": {},
   "source": [
    "<hr style=\"border-width: 3px;\">\n",
    "\n",
    "<div style=\"width:100%; overflow:hidden;\">\n",
    "<div style=\"width:15%; float:left; padding-right:5px; color:blue; font-weight: bold;\">\n",
    "Country:\n",
    "</div>\n",
    "\n",
    "<div style=\"margin-left: 15%; border: 1px solid #cfcfcf; padding: 8px 12px; border-radius:2px; background-color:#f7f7f7;\">\n",
    "Empezamos analizando la variable 'Country', cuyo porcentaje de valores faltantes es de 0.416772%. Observemos que este valor pudiera deducirse de las variables 'Currency' o 'CurrencySymbol'. \n",
    "<br>La cantidad de valores faltantes en 'Country' es:\n",
    "</div>\n",
    "</div>"
   ]
  },
  {
   "cell_type": "code",
   "execution_count": null,
   "metadata": {
    "collapsed": false,
    "scrolled": true
   },
   "outputs": [],
   "source": [
    "print(\"Valores faltantes en 'Country':\", \n",
    "      sum(pd.isnull(df['Country'])),\n",
    "      \"(\" + str(round(10000*sum(pd.isnull(df['Country'])) / df.shape[0]) / 100)+\"%)\")"
   ]
  },
  {
   "cell_type": "markdown",
   "metadata": {},
   "source": [
    "<div style=\"margin-top: 6px; border: 1px solid #cfcfcf; padding: 8px 12px; border-radius:2px; background-color:#f7f7f7;\">\n",
    "La cantidad de valores faltantes es pequeña, por lo que pueden ignorarse para la mayoría de los cálculos. Antes, observemos que otras variables coinciden en valores faltantes:\n",
    "</div>"
   ]
  },
  {
   "cell_type": "code",
   "execution_count": null,
   "metadata": {
    "collapsed": false,
    "scrolled": false
   },
   "outputs": [],
   "source": [
    "print(df.loc[pd.isnull(df.Country)].describe(include='all'))"
   ]
  },
  {
   "cell_type": "markdown",
   "metadata": {},
   "source": [
    "<div style=\"margin-top: 6px; border: 1px solid #cfcfcf; padding: 8px 12px; border-radius:2px; background-color:#f7f7f7;\">\n",
    "Como puede apreciarse, los registros que no respondieron la pregunta relativa al país, no respondieron ninguna otra pregunta, salvo 'Hobby' y 'OpenSource'. \n",
    "<br>\n",
    "La solución en este caso, entonces, es simple: eliminar los registros con el campo 'Country' nulo. Analizamos nuevamente los datos restantes.\n",
    "</div>"
   ]
  },
  {
   "cell_type": "code",
   "execution_count": null,
   "metadata": {
    "collapsed": false,
    "scrolled": false
   },
   "outputs": [],
   "source": [
    "df = df[pd.notnull(df['Country'])]\n",
    "df = df.reset_index(drop=True)\n",
    "\n",
    "print(df.info())\n",
    "missing = {}\n",
    "for col in df.describe(include='all'):\n",
    "    missing[col] = 100*sum(pd.isnull(df[col])) / df.shape[0]\n",
    "table = sorted(missing.items(), key=itemgetter(1))\n",
    "\n",
    "data = pd.DataFrame(table, columns=[\"Columna\", \"Valores Faltantes (%)\"])\n",
    "display(HTML(data.to_html()))"
   ]
  },
  {
   "cell_type": "markdown",
   "metadata": {},
   "source": [
    "<hr style=\"border-width: 3px;\">\n",
    "\n",
    "<div style=\"width:100%; overflow:hidden;\">\n",
    "<div style=\"width:15%; float:left; padding-right:5px; color:blue; font-weight: bold;\">\n",
    "Employment:\n",
    "</div>\n",
    "\n",
    "<div style=\"margin-left: 15%; border: 1px solid #cfcfcf; padding: 8px 12px; border-radius:2px; background-color:#f7f7f7;\">\n",
    "Otra variable que pudiera ser relativamente simple de limpiar es \"Employment\". Observemos que los casos de valores faltantes en esta variable pudieran coincidir con los encuestados que  sean estudiantes de tiempo completo y/o con quienes desarrollan por Hobby. En ambos casos, salvo que el encuestado no haya entendido la pregunta y en casos excepcionales en el caso de estudiantes de tiempo completo, es de esperar que debieran haber respondido con una opción de 'no empleado', pero que consideraron innecesario especificar. En cualquier caso, dado el bajo porcentaje de valores nulos, la cantidad de errores sería muy baja.\n",
    "<br>\n",
    "Lo primero que analizamos es la cantidad de registros nulos (que corresponden a lo reportado en la tabla):\n",
    "</div>\n",
    "</div>"
   ]
  },
  {
   "cell_type": "code",
   "execution_count": null,
   "metadata": {
    "collapsed": false
   },
   "outputs": [],
   "source": [
    "print(\"Valores faltantes en 'Employment':\", \n",
    "      sum(pd.isnull(df['Employment'])),\n",
    "      \"(\" + str(round(10000*sum(pd.isnull(df['Employment'])) / df.shape[0]) / 100)+\"%)\")"
   ]
  },
  {
   "cell_type": "markdown",
   "metadata": {},
   "source": [
    "<div style=\"margin-top: 6px; border: 1px solid #cfcfcf; padding: 8px 12px; border-radius:2px; background-color:#f7f7f7;\">\n",
    "Contabilizamos ahora los registros en los que el usuario no contesta la pregunta relacionada a la variable 'Employment' y al mismo tiempo declara ser estudiante de tiempo completo:\n",
    "</div>"
   ]
  },
  {
   "cell_type": "code",
   "execution_count": null,
   "metadata": {
    "collapsed": false
   },
   "outputs": [],
   "source": [
    "print(df.loc[(pd.isnull(df.Employment)) & (df.Student =='Yes, full-time')].info())"
   ]
  },
  {
   "cell_type": "markdown",
   "metadata": {},
   "source": [
    "<div style=\"margin-top: 6px; border: 1px solid #cfcfcf; padding: 8px 12px; border-radius:2px; background-color:#f7f7f7;\">\n",
    "516 registros reportan ser estudiantes de tiempo completo. Es razonable pensar que estos desarrolladores dejaron en blanco la pregunta porque no encontraron una respuesta adecuada, siendo las opciones:\n",
    "<b><ul>\n",
    "<li>Not employed, but looking for work</li>\n",
    "<li>Not employed, and not looking for work</li>\n",
    "</ul></b>\n",
    "\n",
    "<br>\n",
    "Comparemos ahora con los que no contestaron y que declaran se desarrolladores por \"hobby\":\n",
    "</div>"
   ]
  },
  {
   "cell_type": "code",
   "execution_count": null,
   "metadata": {
    "collapsed": false
   },
   "outputs": [],
   "source": [
    "print(df.loc[(pd.isnull(df.Employment)) & (df.Hobby =='Yes')].info())"
   ]
  },
  {
   "cell_type": "code",
   "execution_count": null,
   "metadata": {
    "collapsed": false
   },
   "outputs": [],
   "source": [
    "print(df.loc[(pd.isnull(df.Employment)) & \n",
    "             ((df.Hobby =='Yes') | (df.Student =='Yes, full-time'))].info())"
   ]
  },
  {
   "cell_type": "markdown",
   "metadata": {},
   "source": [
    "<div style=\"margin-top: 6px; border: 1px solid #cfcfcf; padding: 8px 12px; border-radius:2px; background-color:#f7f7f7;\">\n",
    "En estos casos, podemos hacer una imputación con el valor 'Not employed, and not looking for work'.\n",
    "</div>"
   ]
  },
  {
   "cell_type": "code",
   "execution_count": null,
   "metadata": {
    "collapsed": false
   },
   "outputs": [],
   "source": [
    "df['Employment'] = df.apply(\n",
    "    lambda row: 'Not employed, and not looking for work' \n",
    "    if (pd.isnull(row.Employment)) & \n",
    "             ((row.Hobby =='Yes') | (row.Student =='Yes, full-time'))\n",
    "    else row['Employment'],\n",
    "    axis=1\n",
    ")\n",
    "\n",
    "print(df.Employment.describe(), \"\\n\\nValores faltantes en 'Employment':\", \n",
    "      sum(pd.isnull(df['Employment'])),\n",
    "      \"(\" + str(round(10000*sum(pd.isnull(df['Employment'])) / df.shape[0]) / 100)+\"%)\")"
   ]
  },
  {
   "cell_type": "markdown",
   "metadata": {},
   "source": [
    "<div style=\"margin-top: 6px; border: 1px solid #cfcfcf; padding: 8px 12px; border-radius:2px; background-color:#f7f7f7;\">\n",
    "Los valores faltantes se han reducido lo suficiente como para no tener que preocuparse. Hagamos una imputación con un valor nuevo 'Non-responded':\n",
    "</div>"
   ]
  },
  {
   "cell_type": "code",
   "execution_count": null,
   "metadata": {
    "collapsed": false
   },
   "outputs": [],
   "source": [
    "df['Employment'] = df.apply(\n",
    "    lambda row: 'Non-responded' if pd.isnull(row.Employment) else row['Employment'], axis=1\n",
    ")\n",
    "\n",
    "print(\"Valores faltantes en 'Employment':\", \n",
    "      sum(pd.isnull(df['Employment'])),\n",
    "      \"(\" + str(round(10000*sum(pd.isnull(df['Employment'])) / df.shape[0]) / 100)+\"%)\")"
   ]
  },
  {
   "cell_type": "markdown",
   "metadata": {},
   "source": [
    "<hr style=\"border-width: 3px;\">\n",
    "\n",
    "<div style=\"width:100%; overflow:hidden;\">\n",
    "<div style=\"width:15%; float:left; padding-right:5px; color:blue; font-weight: bold;\">\n",
    "Student:\n",
    "</div>\n",
    "\n",
    "<div style=\"margin-left: 15%; border: 1px solid #cfcfcf; padding: 8px 12px; border-radius:2px; background-color:#f7f7f7;\">\n",
    "En el caso de la variable 'Student', una posible razón de no responder a la pregunta correspondiente, es que el encuestado ya esté laborando (o esté retirado) y que, por lo tanto haya considerado obvio no estar inscrito en un programa educativo (que ofrezca un grado académico). Observemos:\n",
    "</div>\n",
    "</div>"
   ]
  },
  {
   "cell_type": "code",
   "execution_count": null,
   "metadata": {
    "collapsed": false
   },
   "outputs": [],
   "source": [
    "print(\"Valores faltantes en 'Student':\", \n",
    "      sum(pd.isnull(df['Student'])),\n",
    "      \"(\" + str(round(10000*sum(pd.isnull(df['Student'])) / df.shape[0]) / 100)+\"%)\")\n",
    "\n",
    "df1 = df.loc[(pd.isnull(df.Student)) & \n",
    "             ((df.Employment =='Employed full-time') | (df.Employment =='Retired')\n",
    "             | (df.Employment =='Independent contractor, freelancer, or self-employed'))\n",
    "            ]\n",
    "print(\"Valores faltantes en 'Student' con razones 'obvias':\", \n",
    "      sum(pd.isnull(df1['Student'])),\n",
    "      \"(\" + str(round(10000*sum(pd.isnull(df1['Student'])) / df.shape[0]) / 100)+\"%)\")"
   ]
  },
  {
   "cell_type": "markdown",
   "metadata": {},
   "source": [
    "<div style=\"margin-top: 6px; border: 1px solid #cfcfcf; padding: 8px 12px; border-radius:2px; background-color:#f7f7f7;\">\n",
    "En estos casos, es razonable suponer que la respuesta a la pregunta asociada a la variable 'Student' (Are you currently enrolled in a formal, degree-granting college or university program?) es 'No'. Hacemos la imputación a este valor.\n",
    "</div>"
   ]
  },
  {
   "cell_type": "code",
   "execution_count": null,
   "metadata": {
    "collapsed": false
   },
   "outputs": [],
   "source": [
    "df['Student'] = df.apply(\n",
    "    lambda row: 'No' \n",
    "    if (pd.isnull(row.Student)) & \n",
    "             ((row.Employment =='Employed full-time') | (row.Employment =='Retired')\n",
    "             | (row.Employment =='Independent contractor, freelancer, or self-employed'))\n",
    "    else row['Student'],\n",
    "    axis=1\n",
    ")"
   ]
  },
  {
   "cell_type": "markdown",
   "metadata": {},
   "source": [
    "<div style=\"margin-top: 6px; border: 1px solid #cfcfcf; padding: 8px 12px; border-radius:2px; background-color:#f7f7f7;\">\n",
    "Otra fuente de esclarecimiento se obtiene de la pregunta 'Which of the following best describes the highest level of formal education that you’ve completed?' (variable 'FormalEducation'). Una posibilidad para que no haya respuesta a esta pregunta, es que el encuestado haya suspendido sus estudios ('I never completed any formal education') o que ya haya terminado de estudiar; si el encuestado ha respondido 'Other doctoral degree (Ph.D, Ed.D., etc.)' hay muy baja posibilidad de equivocarnos si consideramos al encuestado como 'No estudiante', e incluso, si respondió como 'Master’s degree (MA, MS, M.Eng., MBA, etc.)'. Analicemos estas opciones:\n",
    "</div>"
   ]
  },
  {
   "cell_type": "code",
   "execution_count": null,
   "metadata": {
    "collapsed": false
   },
   "outputs": [],
   "source": [
    "print(df.loc[(pd.isnull(df.Student)) & \n",
    "             ((df.FormalEducation =='I never completed any formal education') \n",
    "              | (df.FormalEducation =='Other doctoral degree (Ph.D, Ed.D., etc.)')\n",
    "              | (df.FormalEducation =='Master’s degree (MA, MS, M.Eng., MBA, etc.)'))\n",
    "            ].info())"
   ]
  },
  {
   "cell_type": "code",
   "execution_count": null,
   "metadata": {
    "collapsed": false
   },
   "outputs": [],
   "source": [
    "df['Student'] = df.apply(\n",
    "    lambda row: 'No' \n",
    "    if (pd.isnull(row.Student)) & \n",
    "             ((row.FormalEducation =='I never completed any formal education') \n",
    "              | (row.FormalEducation =='Other doctoral degree (Ph.D, Ed.D., etc.)')\n",
    "              | (row.FormalEducation =='Master’s degree (MA, MS, M.Eng., MBA, etc.)'))\n",
    "    else row['Student'],\n",
    "    axis=1\n",
    ")\n",
    "\n",
    "print(\"Valores faltantes en 'Student':\", \n",
    "      sum(pd.isnull(df['Student'])),\n",
    "      \"(\" + str(round(10000*sum(pd.isnull(df['Student'])) / df.shape[0]) / 100)+\"%)\")"
   ]
  },
  {
   "cell_type": "markdown",
   "metadata": {},
   "source": [
    "<div style=\"margin-top: 6px; border: 1px solid #cfcfcf; padding: 8px 12px; border-radius:2px; background-color:#f7f7f7;\">\n",
    "Los valores faltantes pueden definirse mediante una imputación con el valor 'Non-responded'.\n",
    "</div>"
   ]
  },
  {
   "cell_type": "code",
   "execution_count": null,
   "metadata": {
    "collapsed": false
   },
   "outputs": [],
   "source": [
    "df['Student'] = df.apply(\n",
    "    lambda row: 'Non-responded' if pd.isnull(row.Student) else row['Student'], axis=1\n",
    ")"
   ]
  },
  {
   "cell_type": "markdown",
   "metadata": {},
   "source": [
    "<hr style=\"border-width: 3px;\">\n",
    "\n",
    "<div style=\"width:100%; overflow:hidden;\">\n",
    "<div style=\"width:20%; float:left; padding-right:5px; color:blue; font-weight: bold;\">\n",
    "FormalEducation:\n",
    "</div>\n",
    "\n",
    "<div style=\"margin-left: 20%; border: 1px solid #cfcfcf; padding: 8px 12px; border-radius:2px; background-color:#f7f7f7;\">\n",
    "Analicemos ahora la distribución de la variable 'FormalEducation': \n",
    "</div>\n",
    "</div>"
   ]
  },
  {
   "cell_type": "code",
   "execution_count": null,
   "metadata": {
    "collapsed": false,
    "scrolled": false
   },
   "outputs": [],
   "source": [
    "print(df.FormalEducation.describe(), \"\\n\\nValores faltantes:\", \n",
    "      sum(pd.isnull(df['FormalEducation'])),\n",
    "     \"(\" + str(100*sum(pd.isnull(df['FormalEducation'])) / df.shape[0])+\"%)\")\n",
    "\n",
    "data = get_counters(df['FormalEducation'].dropna(), \"Educación formal\")\n",
    "data['Porcentaje'] = data.apply (lambda row: percent (row, df.FormalEducation),axis=1)\n",
    "display(HTML(data.to_html()))"
   ]
  },
  {
   "cell_type": "markdown",
   "metadata": {},
   "source": [
    "<div style=\"margin-top: 6px; border: 1px solid #cfcfcf; padding: 8px 12px; border-radius:2px; background-color:#f7f7f7;\">\n",
    "Puesto que su porcentaje es inferior al 5%, de acuerdo a nuestra regla podemos realizar una medida de imputación simple. Asignando la respuesta más común ('Bachelor’s degree (BA, BS, B.Eng., etc.)') acertaríamos aproximadamente en 46% de los casos y tendríamos valores erróneos en aproximadamente el 2% de los datos. Adicionalmente, alrededor de 85% de las respuestas corresponden a opciones que podemos clasificar como \"Educación superior\", siendo \"Bachelor\" la opción más representativa. De esta manera, es poco lo que arriesgamos al hacer esta imputación:\n",
    "</div>"
   ]
  },
  {
   "cell_type": "code",
   "execution_count": null,
   "metadata": {
    "collapsed": false
   },
   "outputs": [],
   "source": [
    "df['FormalEducation'] = df.apply(\n",
    "    lambda row: 'Bachelor’s degree (BA, BS, B.Eng., etc.)' if pd.isnull(row.FormalEducation) \n",
    "    else row['FormalEducation'], axis=1\n",
    ")\n",
    "\n",
    "print(\"Valores faltantes en 'FormalEducation':\", \n",
    "      sum(pd.isnull(df['FormalEducation'])),\n",
    "      \"(\" + str(round(10000*sum(pd.isnull(df['FormalEducation'])) / df.shape[0]) / 100)+\"%)\")"
   ]
  },
  {
   "cell_type": "markdown",
   "metadata": {},
   "source": [
    "<hr style=\"border-width: 3px;\">\n",
    "\n",
    "<div style=\"width:100%; overflow:hidden;\">\n",
    "<div style=\"width:20%; float:left; padding-right:5px; color:blue; font-weight: bold;\">\n",
    "YearsCoding:\n",
    "</div>\n",
    "\n",
    "<div style=\"margin-left: 20%; border: 1px solid #cfcfcf; padding: 8px 12px; border-radius:2px; background-color:#f7f7f7;\">\n",
    "En el caso de la variable 'YearsCoding', dada la cantidad de valores faltantes, podemos hacer una imputación en términos de una medida estadística. Dado que la variable es no numérica, la mejor opción es utilizar la moda, es decir, la respuesta más popular: \n",
    "</div>\n",
    "</div>"
   ]
  },
  {
   "cell_type": "code",
   "execution_count": null,
   "metadata": {
    "collapsed": false
   },
   "outputs": [],
   "source": [
    "print(\"Valores faltantes en 'YearsCoding':\", \n",
    "      sum(pd.isnull(df['YearsCoding'])),\n",
    "      \"(\" + str(round(10000*sum(pd.isnull(df['YearsCoding'])) / df.shape[0]) / 100)+\"%)\")"
   ]
  },
  {
   "cell_type": "code",
   "execution_count": null,
   "metadata": {
    "collapsed": false
   },
   "outputs": [],
   "source": [
    "data = get_counters(df['YearsCoding'].dropna(), \"Años desarrollando\")\n",
    "data['Porcentaje total'] = data.apply (lambda row: percent (row, df['YearsCoding']),axis=1)\n",
    "display(HTML(data.to_html()))"
   ]
  },
  {
   "cell_type": "code",
   "execution_count": null,
   "metadata": {
    "collapsed": false
   },
   "outputs": [],
   "source": [
    "df['YearsCoding'] = df.apply(\n",
    "    lambda row: '3-5 years' if pd.isnull(row.YearsCoding) else row['YearsCoding'], axis=1\n",
    ")\n",
    "\n",
    "print(\"Valores faltantes en 'YearsCoding':\", \n",
    "      sum(pd.isnull(df['YearsCoding'])),\n",
    "      \"(\" + str(round(10000*sum(pd.isnull(df['YearsCoding'])) / df.shape[0]) / 100)+\"%)\")"
   ]
  },
  {
   "cell_type": "markdown",
   "metadata": {},
   "source": [
    "<hr style=\"border-width: 3px;\">\n",
    "\n",
    "<div style=\"width:100%; overflow:hidden;\">\n",
    "<div style=\"width:20%; float:left; padding-right:5px; color:blue; font-weight: bold;\">\n",
    "DevType:\n",
    "</div>\n",
    "\n",
    "<div style=\"margin-left: 20%; border: 1px solid #cfcfcf; padding: 8px 12px; border-radius:2px; background-color:#f7f7f7;\">\n",
    "La siguiente variable a limpiar es 'DevType'. Observemos su distribución:\n",
    "</div>\n",
    "</div>"
   ]
  },
  {
   "cell_type": "code",
   "execution_count": null,
   "metadata": {
    "collapsed": false,
    "scrolled": false
   },
   "outputs": [],
   "source": [
    "print(df['DevType'].describe())\n",
    "print(\"\\nValores faltantes en 'DevType':\", \n",
    "      sum(pd.isnull(df['DevType'])),\n",
    "      \"(\" + str(round(10000*sum(pd.isnull(df['DevType'])) / df.shape[0]) / 100)+\"%)\")\n",
    "\n",
    "data = get_counters(df['DevType'].dropna(), \"Tipo de desarrollador\")\n",
    "data['Porcentaje'] = data.apply (lambda row: percent (row, df.DevType),axis=1)\n",
    "display(HTML(data.to_html()))"
   ]
  },
  {
   "cell_type": "markdown",
   "metadata": {},
   "source": [
    "<div style=\"margin-top: 6px; border: 1px solid #cfcfcf; padding: 8px 12px; border-radius:2px; background-color:#f7f7f7;\">\n",
    "Puesto que las respuestas posibles a esta pregunta, listadas en la tabla previa, están estrechamente relacionadas con puestos de trabajo, es de esperar que haya una alta correlación entre los valores nulos de 'DevType' y las respuestas a 'Hobby' y 'Employment'.\n",
    "Analicemos la coincidencia entre estas variables:\n",
    "</div>"
   ]
  },
  {
   "cell_type": "code",
   "execution_count": null,
   "metadata": {
    "collapsed": false
   },
   "outputs": [],
   "source": [
    "df1 = df.loc[(pd.isnull(df.DevType)) & (df.Hobby == 'Yes')]\n",
    "print(\"\\nValores faltantes en 'DevType', con 'Hobby' = 'Yes':\", \n",
    "      df1.shape[0],\n",
    "      \"(\" + str(round(10000*df1.shape[0] / df.shape[0]) / 100)+\"%)\")\n",
    "\n",
    "df1 = df.loc[(pd.isnull(df.DevType)) & (df.Employment == 'Retired')]\n",
    "print(\"\\nValores faltantes en 'DevType', con 'Employment' = 'Retired':\", \n",
    "      df1.shape[0],\n",
    "      \"(\" + str(round(10000*df1.shape[0] / df.shape[0]) / 100)+\"%)\")\n",
    "\n",
    "df1 = df.loc[(pd.isnull(df.DevType)) \n",
    "             & (df.Employment == 'Not employed, but looking for work')]\n",
    "print(\"\\nValores faltantes en 'DevType', con 'Employment' = 'Not employed, but looking \\\n",
    "for work':\", df1.shape[0],\n",
    "      \"(\" + str(round(10000*df1.shape[0] / df.shape[0]) / 100)+\"%)\")\n",
    "\n",
    "df1 = df.loc[(pd.isnull(df.DevType)) \n",
    "             & (df.Employment == 'Not employed, and not looking for work')]\n",
    "print(\"\\nValores faltantes en 'DevType', con 'Employment' = 'Not employed, and not \\\n",
    "looking for work':\", df1.shape[0],\n",
    "      \"(\" + str(round(10000*df1.shape[0] / df.shape[0]) / 100)+\"%)\")\n",
    "\n",
    "df1 = df.loc[(pd.isnull(df.DevType)) \n",
    "             & ((df.Hobby == 'Yes') | (df.Employment == 'Retired')\n",
    "                | (df.Employment == 'Not employed, but looking for work')\n",
    "                | (df.Employment == 'Not employed, and not looking for work'))]\n",
    "print(\"\\nValores faltantes en 'DevType' bajo condiciones de 'Hobby' y 'Employment'\", \n",
    "      df1.shape[0], \"(\" + str(round(10000*df1.shape[0] / df.shape[0]) / 100)+\"%)\")"
   ]
  },
  {
   "cell_type": "markdown",
   "metadata": {},
   "source": [
    "<div style=\"margin-top: 6px; border: 1px solid #cfcfcf; padding: 8px 12px; border-radius:2px; background-color:#f7f7f7;\">\n",
    "En todos estos casos, parece razonable pensar que gran parte de los encuestados que no respondieron la pregunta fue porque no se identificaron con ninguna de las opciones mostradas. Para estos casos haremos una imputación con la etiqueta nueva 'None of these'.\n",
    "</div>"
   ]
  },
  {
   "cell_type": "code",
   "execution_count": null,
   "metadata": {
    "collapsed": false
   },
   "outputs": [],
   "source": [
    "df['DevType'] = df.apply(\n",
    "    lambda row: 'None of these' \n",
    "    if ((pd.isnull(row.DevType)) & ((row.Hobby == 'Yes') | (row.Employment == 'Retired')\n",
    "                                  | (row.Employment == 'Not employed, but looking for work')\n",
    "                                  | (row.Employment == 'Not employed, and not looking for work')\n",
    "                                  )) else row['DevType'], axis=1\n",
    ")\n",
    "\n",
    "print(\"Valores faltantes en 'DevType':\", \n",
    "      sum(pd.isnull(df['DevType'])),\n",
    "      \"(\" + str(round(10000*sum(pd.isnull(df['DevType'])) / df.shape[0]) / 100)+\"%)\")"
   ]
  },
  {
   "cell_type": "markdown",
   "metadata": {},
   "source": [
    "<div style=\"margin-top: 6px; border: 1px solid #cfcfcf; padding: 8px 12px; border-radius:2px; background-color:#f7f7f7;\">\n",
    "Dada la cantidad de datos que ahora tienen valor nulo en 'DevType', podemos aplicar una regla de imputación simple. En este caso utilizamos lo que pudiera ser un *valor mínimo*, en este caso la misma etiqueta 'None of these'.\n",
    "</div>"
   ]
  },
  {
   "cell_type": "code",
   "execution_count": null,
   "metadata": {
    "collapsed": false,
    "scrolled": true
   },
   "outputs": [],
   "source": [
    "df['DevType'] = df.apply(\n",
    "    lambda row: 'None of these' if pd.isnull(row.DevType) else row['DevType'], axis=1\n",
    ")\n",
    "\n",
    "print(\"Valores faltantes en 'DevType':\", \n",
    "      sum(pd.isnull(df['DevType'])),\n",
    "      \"(\" + str(round(10000*sum(pd.isnull(df['DevType'])) / df.shape[0]) / 100)+\"%)\")"
   ]
  },
  {
   "cell_type": "markdown",
   "metadata": {},
   "source": [
    "<hr style=\"border-width: 3px;\">\n",
    "\n",
    "<div style=\"width:100%; overflow:hidden;\">\n",
    "<div style=\"width:20%; float:left; padding-right:5px; color:blue; font-weight: bold;\">\n",
    "JobSearchStatus:\n",
    "</div>\n",
    "\n",
    "<div style=\"margin-left: 20%; border: 1px solid #cfcfcf; padding: 8px 12px; border-radius:2px; background-color:#f7f7f7;\">\n",
    "Observemos ahora la distribución de la variable 'JobSearchStatus'. De antemano, es de esperar que los valores nulos en este caso estén también asociados a las variables 'Hobby' y 'Employment', por lo que hacemos también ese análisis:\n",
    "</div>\n",
    "</div>"
   ]
  },
  {
   "cell_type": "code",
   "execution_count": null,
   "metadata": {
    "collapsed": false,
    "scrolled": true
   },
   "outputs": [],
   "source": [
    "print(\"Valores faltantes en 'JobSearchStatus':\", \n",
    "      sum(pd.isnull(df['JobSearchStatus'])),\n",
    "      \"(\" + str(round(10000*sum(pd.isnull(df['JobSearchStatus'])) / df.shape[0]) / 100)+\"%)\")\n",
    "\n",
    "data = get_counters(df['JobSearchStatus'].dropna(), \"Estatus de búsqueda de empleo\")\n",
    "data['Porcentaje'] = data.apply (lambda row: percent (row, df.JobSearchStatus),axis=1)\n",
    "display(HTML(data.to_html()))"
   ]
  },
  {
   "cell_type": "code",
   "execution_count": null,
   "metadata": {
    "collapsed": false
   },
   "outputs": [],
   "source": [
    "df1 = df.loc[(pd.isnull(df.JobSearchStatus)) & (df.Hobby == 'Yes')]\n",
    "print(\"\\nValores faltantes en 'JobSearchStatus', con 'Hobby' = 'Yes':\", \n",
    "      df1.shape[0],\n",
    "      \"(\" + str(round(10000*df1.shape[0] / df.shape[0]) / 100)+\"%)\")\n",
    "\n",
    "df1 = df.loc[(pd.isnull(df.JobSearchStatus)) & (df.Employment == 'Retired')]\n",
    "print(\"\\nValores faltantes en 'JobSearchStatus', con 'Employment' = 'Retired':\", \n",
    "      df1.shape[0],\n",
    "      \"(\" + str(round(10000*df1.shape[0] / df.shape[0]) / 100)+\"%)\")\n",
    "\n",
    "df1 = df.loc[(pd.isnull(df.JobSearchStatus)) \n",
    "             & (df.Employment == 'Not employed, and not looking for work')]\n",
    "print(\"\\nValores faltantes en 'JobSearchStatus', con 'Employment' = 'Not employed, and not \\\n",
    "looking for work':\", df1.shape[0],\n",
    "      \"(\" + str(round(10000*df1.shape[0] / df.shape[0]) / 100)+\"%)\")\n",
    "\n",
    "df1 = df.loc[(pd.isnull(df.JobSearchStatus)) \n",
    "             & ((df.Hobby == 'Yes') | (df.Employment == 'Retired')\n",
    "                | (df.Employment == 'Not employed, and not looking for work'))]\n",
    "print(\"\\nValores faltantes en 'JobSearchStatus' bajo condiciones de 'Hobby' y 'Employment'\", \n",
    "      df1.shape[0], \"(\" + str(round(10000*df1.shape[0] / df.shape[0]) / 100)+\"%)\")"
   ]
  },
  {
   "cell_type": "markdown",
   "metadata": {},
   "source": [
    "<div style=\"margin-top: 6px; border: 1px solid #cfcfcf; padding: 8px 12px; border-radius:2px; background-color:#f7f7f7;\">\n",
    "Se puede observar que gran parte de las respuestas nulas corresponden a encuestados que desarrollan por hobby y/o están retirados y/o empleados pero que no están buscando empleo. Es de suponer que estos usuarios consideraron redundante o no aplicable la pregunta; la respuesta más apropiada para ellos debió ser 'I am not interested in new job opportunities'. \n",
    "</div>"
   ]
  },
  {
   "cell_type": "code",
   "execution_count": null,
   "metadata": {
    "collapsed": false
   },
   "outputs": [],
   "source": [
    "df['JobSearchStatus'] = df.apply(\n",
    "    lambda row: 'I am not interested in new job opportunities' \n",
    "    if ((pd.isnull(row.JobSearchStatus)) \n",
    "        & ((row.Hobby == 'Yes') | (row.Employment == 'Retired')\n",
    "           | (row.Employment == 'Not employed, and not looking for work')\n",
    "          )) else row['JobSearchStatus'], axis=1\n",
    ")\n",
    "\n",
    "print(\"Valores faltantes en 'JobSearchStatus':\", \n",
    "      sum(pd.isnull(df['JobSearchStatus'])),\n",
    "      \"(\" + str(round(10000*sum(pd.isnull(df['JobSearchStatus'])) / df.shape[0]) / 100)+\"%)\")"
   ]
  },
  {
   "cell_type": "markdown",
   "metadata": {},
   "source": [
    "<div style=\"margin-top: 6px; border: 1px solid #cfcfcf; padding: 8px 12px; border-radius:2px; background-color:#f7f7f7;\">\n",
    "Los valores faltantes restantes ahora son inferiores al 5%, por lo cual podríamos hacer una imputación al valor más frecuente, 'I’m not actively looking, but I am open to new opportunities', que demás, resulta ser un tanto neutral. \n",
    "</div>"
   ]
  },
  {
   "cell_type": "code",
   "execution_count": null,
   "metadata": {
    "collapsed": false
   },
   "outputs": [],
   "source": [
    "df['JobSearchStatus'] = df.apply(\n",
    "    lambda row: 'I’m not actively looking, but I am open to new opportunities' \n",
    "    if pd.isnull(row.JobSearchStatus) else row['JobSearchStatus'], axis=1\n",
    ")\n",
    "\n",
    "print(\"Valores faltantes en 'JobSearchStatus':\", \n",
    "      sum(pd.isnull(df['JobSearchStatus'])),\n",
    "      \"(\" + str(round(10000*sum(pd.isnull(df['JobSearchStatus'])) / df.shape[0]) / 100)+\"%)\")"
   ]
  },
  {
   "cell_type": "markdown",
   "metadata": {},
   "source": [
    "<hr style=\"border-width: 3px;\">\n",
    "\n",
    "<div style=\"width:100%; overflow:hidden;\">\n",
    "<div style=\"width:20%; float:left; padding-right:5px; color:blue; font-weight: bold;\">\n",
    "UndergradMajor:\n",
    "</div>\n",
    "\n",
    "<div style=\"margin-left: 20%; border: 1px solid #cfcfcf; padding: 8px 12px; border-radius:2px; background-color:#f7f7f7;\">\n",
    "Observemos ahora la distribución de la variable 'JobSearchStatus'. De antemano, es de esperar La distribución de respuestas de la variable 'UndergradMajor' es: \n",
    "</div>\n",
    "</div>"
   ]
  },
  {
   "cell_type": "code",
   "execution_count": null,
   "metadata": {
    "collapsed": false,
    "scrolled": false
   },
   "outputs": [],
   "source": [
    "print(\"Valores faltantes en 'UndergradMajor':\", \n",
    "      sum(pd.isnull(df['UndergradMajor'])),\n",
    "      \"(\" + str(round(10000*sum(pd.isnull(df['UndergradMajor'])) / df.shape[0]) / 100)+\"%)\")\n",
    "\n",
    "data = get_counters(df['UndergradMajor'].dropna(), \"Campo de especialidad\")\n",
    "data['Porcentaje'] = data.apply (lambda row: percent (row, df.UndergradMajor),axis=1)\n",
    "display(HTML(data.to_html()))"
   ]
  },
  {
   "cell_type": "markdown",
   "metadata": {},
   "source": [
    "<div style=\"margin-top: 6px; border: 1px solid #cfcfcf; padding: 8px 12px; border-radius:2px; background-color:#f7f7f7;\">\n",
    "Una relación obvia ocurre entre 'UndergradMajor' y 'FormalEducation'; si el encuestado no realizó estudios profesionales no tiene sentido el área de especialidad. Analicemos la relación entre ambas variables (antes, recuperamos la cadena completa de la etiqueta 'Secondary school (e.g. American high school, German Realschule or Gymnasium,...'):\n",
    "</div>"
   ]
  },
  {
   "cell_type": "code",
   "execution_count": null,
   "metadata": {
    "collapsed": false
   },
   "outputs": [],
   "source": [
    "data = get_counters(df['FormalEducation'].dropna(), \"Educación formal\")\n",
    "data['Porcentaje'] = data.apply (lambda row: percent (row, df.FormalEducation),axis=1)\n",
    " \n",
    "print(data['Educación formal'][3])"
   ]
  },
  {
   "cell_type": "code",
   "execution_count": null,
   "metadata": {
    "collapsed": false
   },
   "outputs": [],
   "source": [
    "df1 = df.loc[(pd.isnull(df.UndergradMajor)) \n",
    "            & (df.FormalEducation == 'I never completed any formal education')]\n",
    "print(\"\\nValores faltantes en 'UndergradMajor', con 'FormalEducation' = 'I never \\\n",
    "completed any formal education':\", \n",
    "      df1.shape[0],\n",
    "      \"(\" + str(round(10000*df1.shape[0] / df.shape[0]) / 100)+\"%)\")\n",
    "\n",
    "df1 = df.loc[(pd.isnull(df.UndergradMajor)) \n",
    "            & (df.FormalEducation == 'Primary/elementary school')]\n",
    "print(\"\\nValores faltantes en 'UndergradMajor', con 'FormalEducation' = \\\n",
    "'Primary/elementary school:\", \n",
    "      df1.shape[0],\n",
    "      \"(\" + str(round(10000*df1.shape[0] / df.shape[0]) / 100)+\"%)\")\n",
    "\n",
    "df1 = df.loc[(pd.isnull(df.UndergradMajor)) \n",
    "             & (df.FormalEducation == 'Secondary school (e.g. American high school, \\\n",
    "German Realschule or Gymnasium, etc.)')]\n",
    "print(\"\\nValores faltantes en 'UndergradMajor', con 'FormalEducation' = 'Secondary \\\n",
    "school (e.g. American high school, German Realschule or Gymnasium, etc.)':\", \n",
    "      df1.shape[0],\n",
    "      \"(\" + str(round(10000*df1.shape[0] / df.shape[0]) / 100)+\"%)\")\n",
    "\n",
    "df1 = df.loc[(pd.isnull(df.UndergradMajor)) \n",
    "             & ((df.FormalEducation == 'I never completed any formal education')\n",
    "                | (df.FormalEducation == 'Primary/elementary school')\n",
    "                | (df.FormalEducation == 'Secondary school (e.g. American high school, \\\n",
    "German Realschule or Gymnasium, etc.)'))]\n",
    "print(\"\\nValores faltantes en 'UndergradMajor' bajo condiciones de 'FormalEducation'\", \n",
    "      df1.shape[0], \"(\" + str(round(10000*df1.shape[0] / df.shape[0]) / 100)+\"%)\")"
   ]
  },
  {
   "cell_type": "markdown",
   "metadata": {},
   "source": [
    "<div style=\"margin-top: 6px; border: 1px solid #cfcfcf; padding: 8px 12px; border-radius:2px; background-color:#f7f7f7;\">\n",
    "En los casos analizados, no tiene es aplicable la definición de un área de especialidad. Para fines del análisis de la encuesta, una respuesta apropiada sería 'None':\n",
    "</div>"
   ]
  },
  {
   "cell_type": "code",
   "execution_count": null,
   "metadata": {
    "collapsed": false
   },
   "outputs": [],
   "source": [
    "df['UndergradMajor'] = df.apply(\n",
    "    lambda row: 'None' \n",
    "    if ((pd.isnull(row.UndergradMajor)) \n",
    "        & ((row.FormalEducation == 'I never completed any formal education') \n",
    "           | (row.FormalEducation == 'Primary/elementary school')\n",
    "           | (row.FormalEducation == 'Secondary school (e.g. American high school, \\\n",
    "German Realschule or Gymnasium, etc.)')\n",
    "          )) else row['UndergradMajor'], axis=1\n",
    ")\n",
    "\n",
    "print(\"Valores faltantes en 'UndergradMajor':\", \n",
    "      sum(pd.isnull(df['UndergradMajor'])),\n",
    "      \"(\" + str(round(10000*sum(pd.isnull(df['UndergradMajor'])) / df.shape[0]) / 100)+\"%)\")"
   ]
  },
  {
   "cell_type": "markdown",
   "metadata": {},
   "source": [
    "<div style=\"margin-top: 6px; border: 1px solid #cfcfcf; padding: 8px 12px; border-radius:2px; background-color:#f7f7f7;\">\n",
    "El porcentaje de valores faltantes se reduce significativamente, pero sigue estando por arriba de lo que consideramos un caso manejable simple. Por el momento, no hacemos más modificaciones.\n",
    "</div>"
   ]
  },
  {
   "cell_type": "markdown",
   "metadata": {},
   "source": [
    "<hr style=\"border-width: 3px;\">\n",
    "\n",
    "<div style=\"width:100%; overflow:hidden;\">\n",
    "<div style=\"width:15%; float:left; padding-right:5px; color:blue; font-weight: bold;\">\n",
    "LastNewJob:\n",
    "</div>\n",
    "\n",
    "<div style=\"margin-left: 15%; border: 1px solid #cfcfcf; padding: 8px 12px; border-radius:2px; background-color:#f7f7f7;\">\n",
    "La distribución de respuestas de la variable 'LastNewJob' es:\n",
    "</div>\n",
    "</div>"
   ]
  },
  {
   "cell_type": "code",
   "execution_count": null,
   "metadata": {
    "collapsed": false,
    "scrolled": false
   },
   "outputs": [],
   "source": [
    "print(\"Valores faltantes en 'LastNewJob':\", \n",
    "      sum(pd.isnull(df['LastNewJob'])),\n",
    "      \"(\" + str(round(10000*sum(pd.isnull(df['LastNewJob'])) / df.shape[0]) / 100)+\"%)\")\n",
    "\n",
    "data = get_counters(df['LastNewJob'].dropna(), \"Tiempo en el nuevo empleo\")\n",
    "data['Porcentaje'] = data.apply (lambda row: percent (row, df.LastNewJob), axis=1)\n",
    "display(HTML(data.to_html()))"
   ]
  },
  {
   "cell_type": "markdown",
   "metadata": {},
   "source": [
    "<div style=\"margin-top: 6px; border: 1px solid #cfcfcf; padding: 8px 12px; border-radius:2px; background-color:#f7f7f7;\">\n",
    "De las etiquetas mostradas, observamos que no hay opciones claras para quien ya está retirado o para quien ya ha trabajado, pero actualmente está desempleado. Así mismo, de acuerdo a la pregunta ('When was the last time that you took a job with a new employer?'), tampoco queda clara una opción para quienes trabajan por su cuenta. Analicemos estas relaciones: \n",
    "</div>"
   ]
  },
  {
   "cell_type": "code",
   "execution_count": null,
   "metadata": {
    "collapsed": false
   },
   "outputs": [],
   "source": [
    "df1 = df.loc[(pd.isnull(df.LastNewJob)) & (df.Employment == 'Retired')]\n",
    "print(\"\\nValores faltantes en 'LastNewJob', con 'Employment' = 'Retired':\", \n",
    "      df1.shape[0],\n",
    "      \"(\" + str(round(10000*df1.shape[0] / df.shape[0]) / 100)+\"%)\")\n",
    "\n",
    "df1 = df.loc[(pd.isnull(df.LastNewJob)) \n",
    "            & (df.Employment == 'Independent contractor, freelancer, or self-employed')]\n",
    "print(\"\\nValores faltantes en 'LastNewJob' con 'Employment' = 'Independent \\\n",
    "contractor, freelancer, or self-employed':\", \n",
    "      df1.shape[0],\n",
    "      \"(\" + str(round(10000*df1.shape[0] / df.shape[0]) / 100)+\"%)\")\n",
    "\n",
    "df1 = df.loc[(pd.isnull(df.LastNewJob)) \n",
    "             & (df.Employment == 'Not employed, but looking for work')]\n",
    "print(\"\\nValores faltantes en 'LastNewJob', con 'Employment' = 'Not employed, but \\\n",
    "looking for work':\", \n",
    "      df1.shape[0],\n",
    "      \"(\" + str(round(10000*df1.shape[0] / df.shape[0]) / 100)+\"%)\")\n",
    "\n",
    "df1 = df.loc[(pd.isnull(df.LastNewJob)) \n",
    "             & (df.Employment == 'Not employed, and not looking for work')]\n",
    "print(\"\\nValores faltantes en 'LastNewJob' con 'Employment' = 'Not employed, and not \\\n",
    "looking for work'\", \n",
    "      df1.shape[0], \"(\" + str(round(10000*df1.shape[0] / df.shape[0]) / 100)+\"%)\")"
   ]
  },
  {
   "cell_type": "markdown",
   "metadata": {},
   "source": [
    "<div style=\"margin-top: 6px; border: 1px solid #cfcfcf; padding: 8px 12px; border-radius:2px; background-color:#f7f7f7;\">\n",
    "Hacemos una imputación, en estos casos, con la etiqueta 'Not employed':\n",
    "</div>"
   ]
  },
  {
   "cell_type": "code",
   "execution_count": null,
   "metadata": {
    "collapsed": false
   },
   "outputs": [],
   "source": [
    "df['LastNewJob'] = df.apply(\n",
    "    lambda row: 'Not employed' \n",
    "    if ((pd.isnull(row.LastNewJob)) \n",
    "        & ((row.Employment == 'Retired') \n",
    "           | (row.Employment == 'Independent contractor, freelancer, or \\\n",
    "self-employed')\n",
    "           | (row.Employment == 'Not employed, but looking for work')\n",
    "           | (row.Employment == 'Not employed, and not looking for work')\n",
    "          )) else row['LastNewJob'], axis=1\n",
    ")\n",
    "\n",
    "print(\"Valores faltantes en 'LastNewJob':\", \n",
    "      sum(pd.isnull(df['LastNewJob'])),\n",
    "      \"(\" + str(round(10000*sum(pd.isnull(df['LastNewJob'])) / df.shape[0]) / 100)+\"%)\")"
   ]
  },
  {
   "cell_type": "markdown",
   "metadata": {},
   "source": [
    "<div style=\"margin-top: 6px; border: 1px solid #cfcfcf; padding: 8px 12px; border-radius:2px; background-color:#f7f7f7;\">\n",
    "Por el momento, no hacemos otras modificaciones.\n",
    "</div>"
   ]
  },
  {
   "cell_type": "markdown",
   "metadata": {},
   "source": [
    "<hr style=\"border-width: 3px;\">\n",
    "\n",
    "<div style=\"width:100%; overflow:hidden;\">\n",
    "<div style=\"width:25%; float:left; padding-right:5px; color:blue; font-weight: bold;\">\n",
    "LanguageWorkedWith:\n",
    "</div>\n",
    "\n",
    "<div style=\"margin-left: 25%; border: 1px solid #cfcfcf; padding: 8px 12px; border-radius:2px; background-color:#f7f7f7;\">\n",
    "El caso de la variable 'LanguageWorkedWith' es más raro; tratándose de una encuesta a desarrolladores, se esperaría que este reactivo tuviera muy pocos valores vacíos, sin embargo el porcentaje es alto:\n",
    "</div>\n",
    "</div>"
   ]
  },
  {
   "cell_type": "code",
   "execution_count": null,
   "metadata": {
    "collapsed": false,
    "scrolled": true
   },
   "outputs": [],
   "source": [
    "print(\"Valores faltantes en 'LanguageWorkedWith':\", \n",
    "      sum(pd.isnull(df['LanguageWorkedWith'])),\n",
    "      \"(\" + str(round(10000*sum(pd.isnull(df['LanguageWorkedWith'])) / df.shape[0]) / 100)+\"%)\")"
   ]
  },
  {
   "cell_type": "markdown",
   "metadata": {},
   "source": [
    "<div style=\"margin-top: 6px; border: 1px solid #cfcfcf; padding: 8px 12px; border-radius:2px; background-color:#f7f7f7;\">\n",
    "Pudiéramos esperar que estos valores faltantes correspondan a usuarios que no son desarrolladores, sino que ocupan puestos administrativos. Analicemos la relación con la variable 'DevType':\n",
    "</div>"
   ]
  },
  {
   "cell_type": "code",
   "execution_count": null,
   "metadata": {
    "collapsed": false,
    "scrolled": false
   },
   "outputs": [],
   "source": [
    "df1 = df.loc[pd.isnull(df.LanguageWorkedWith)]\n",
    "\n",
    "data = get_counters(df1['DevType'].dropna(), \"Tipo de desarrollador\")\n",
    "data['Porcentaje en nulos'] = data.apply (lambda row: percent (row, df1.DevType), axis=1)\n",
    "# Obtener lista ordenada de etiquetas en data\n",
    "sorter = list(data['Tipo de desarrollador'])\n",
    "\n",
    "d2 = get_counters(df['DevType'].dropna(), \"Tipo de desarrollador\")\n",
    "d2['Porcentaje'] = d2.apply (lambda row: percent (row, df.DevType),axis=1)\n",
    "# Definir valores en la columna como tipo categórico\n",
    "d2['Tipo de desarrollador'] = d2['Tipo de desarrollador'].astype(\"category\")\n",
    "# Definir orden de etiqueta según a lista sorter\n",
    "d2['Tipo de desarrollador'].cat.set_categories(sorter, inplace=True)\n",
    "# Reordenar de acuerdo con sorter (data)... reindexar\n",
    "d2 = d2.sort_values(['Tipo de desarrollador']).reset_index(drop=True)\n",
    "\n",
    "data['Porcentaje global'] = d2['Porcentaje']\n",
    "display(HTML(data.to_html()))"
   ]
  },
  {
   "cell_type": "markdown",
   "metadata": {},
   "source": [
    "<div style=\"margin-top: 6px; border: 1px solid #cfcfcf; padding: 8px 12px; border-radius:2px; background-color:#f7f7f7;\">\n",
    "Puede observarse que, en términos generales, la distribución de respuestas sobre tipo de desarrollador es la misma para los valores nulos que para el conjunto completo de datos, lo cual significa que no hay una correspondencia de los datos con valores nulos en 'LanguageWorkedWith' con alguno de los subgrupos por tipo de desarrollador. No podemos, por lo pronto, hacer suposiciones razonables.\n",
    "<br>\n",
    "Analicemos con más detenimiento la calidad de estos datos:\n",
    "</div>"
   ]
  },
  {
   "cell_type": "code",
   "execution_count": null,
   "metadata": {
    "collapsed": false
   },
   "outputs": [],
   "source": [
    "df1 = pd.read_csv(path + \"survey_results_public.csv\", low_memory=False)\n",
    "df1 = df1.drop(['Respondent', 'MilitaryUS', 'TimeAfterBootcamp'], axis=1)\n",
    "\n",
    "rows = df1.shape[0]\n",
    "rowsActual = df.dropna(thresh=63).shape[0]\n",
    "\n",
    "df1 = df1.loc[pd.isnull(df1.LanguageWorkedWith)]\n",
    "rows1 = df1.shape[0]\n",
    "rowsOK = df1.dropna(thresh=63).shape[0]\n",
    "\n",
    "print(\"Registros con al menos la mitad de columnas no nulas:\",\n",
    "      \"\\n* En registros con 'LanguageWorkedWith' nulo:\",\n",
    "      rowsOK, '(' + str(round(10000 * rowsOK / rows1) / 100) + '%; ' \n",
    "      + str(round(10000 * rowsOK / rows) / 100) + '% del total)',\n",
    "           \"\\n* En la base de datos completa:\", rowsActual,\n",
    "      '(' + str(round(10000 * rowsActual / rows) / 100) + '%)'\n",
    ")"
   ]
  },
  {
   "cell_type": "markdown",
   "metadata": {},
   "source": [
    "<div style=\"margin-top: 6px; border: 1px solid #cfcfcf; padding: 8px 12px; border-radius:2px; background-color:#f7f7f7;\">\n",
    "De este análisis, observamos que los datos que tienen valor nulo en 'LanguageWorkedWith' tienen también valores nulos en muchas de sus otras columnas. A continuación presentamos las estadísticas de todas las columnas para los datos con valor nulo en 'LanguageWorkedWith':\n",
    "</div>"
   ]
  },
  {
   "cell_type": "code",
   "execution_count": null,
   "metadata": {
    "collapsed": false,
    "scrolled": false
   },
   "outputs": [],
   "source": [
    "print(df1.describe(include='all'))"
   ]
  },
  {
   "cell_type": "markdown",
   "metadata": {},
   "source": [
    "<div style=\"margin-top: 6px; border: 1px solid #cfcfcf; padding: 8px 12px; border-radius:2px; background-color:#f7f7f7;\">\n",
    "Al analizar este listado, observamos que muchas de las variables de mayor interés para los objetivos de negocio, presentan también gran cantidad de valores nulos para los datos con valor nulo en 'LanguageWorkedWith'. Por lo tanto, una posibilidad es eliminar estos renglones, operación que postergamos, por el momento.\n",
    "</div>"
   ]
  },
  {
   "cell_type": "markdown",
   "metadata": {},
   "source": [
    "<hr style=\"border-width: 3px;\">\n",
    "\n",
    "<div style=\"width:100%; overflow:hidden;\">\n",
    "<div style=\"width:25%; float:left; padding-right:5px; color:blue; font-weight: bold;\">\n",
    "YearsCodingProf:\n",
    "</div>\n",
    "\n",
    "<div style=\"margin-left: 25%; border: 1px solid #cfcfcf; padding: 8px 12px; border-radius:2px; background-color:#f7f7f7;\">\n",
    "Las estadísticas de la variable 'YearsCodingProf' son:\n",
    "</div>\n",
    "</div>"
   ]
  },
  {
   "cell_type": "code",
   "execution_count": null,
   "metadata": {
    "collapsed": false,
    "scrolled": true
   },
   "outputs": [],
   "source": [
    "print(\"Valores faltantes en 'YearsCodingProf':\", \n",
    "      sum(pd.isnull(df['YearsCodingProf'])),\n",
    "      \"(\" + str(round(10000*sum(pd.isnull(df['YearsCodingProf'])) / df.shape[0]) / 100)+\"%)\")"
   ]
  },
  {
   "cell_type": "markdown",
   "metadata": {},
   "source": [
    "<div style=\"margin-top: 6px; border: 1px solid #cfcfcf; padding: 8px 12px; border-radius:2px; background-color:#f7f7f7;\">\n",
    "Por el momento, dado el porcentaje de datos involucrados, no podemos hacer una imputación simple, como en el caso de 'YearsCoding'. Antes analicemos su relación con 'Hobby' y 'Student':\n",
    "</div>"
   ]
  },
  {
   "cell_type": "code",
   "execution_count": null,
   "metadata": {
    "collapsed": false
   },
   "outputs": [],
   "source": [
    "df1 = df.loc[(pd.isnull(df.YearsCodingProf)) & (df.Hobby == 'Yes')]\n",
    "print(\"\\nValores faltantes en 'YearsCodingProf', con 'Hobby' = 'Yes':\", \n",
    "      df1.shape[0],\n",
    "      \"(\" + str(round(10000*df1.shape[0] / df.shape[0]) / 100)+\"%)\")\n",
    "\n",
    "df1 = df.loc[(pd.isnull(df.YearsCodingProf)) & (df.Student =='Yes, full-time')]\n",
    "print(\"\\nValores faltantes en 'YearsCodingProf', con 'Student' ='Yes, full-time':\", \n",
    "      df1.shape[0],\n",
    "      \"(\" + str(round(10000*df1.shape[0] / df.shape[0]) / 100)+\"%)\")\n",
    "\n",
    "df1 = df.loc[(pd.isnull(df.YearsCodingProf)) \n",
    "             & ((df.Hobby =='Yes') | (df.Student =='Yes, full-time'))]\n",
    "print(\"\\nValores faltantes en 'YearsCodingProf' con ambas condiciones:\", df1.shape[0],\n",
    "      \"(\" + str(round(10000*df1.shape[0] / df.shape[0]) / 100)+\"%)\")"
   ]
  },
  {
   "cell_type": "markdown",
   "metadata": {},
   "source": [
    "<div style=\"margin-top: 6px; border: 1px solid #cfcfcf; padding: 8px 12px; border-radius:2px; background-color:#f7f7f7;\">\n",
    "Estos registros corresponden a encuestados que no trabajan profesionalmente como desarrolladores. Imputémosle como valor la etiqueta 'None':\n",
    "</div>"
   ]
  },
  {
   "cell_type": "code",
   "execution_count": null,
   "metadata": {
    "collapsed": false
   },
   "outputs": [],
   "source": [
    "df['YearsCodingProf'] = df.apply(\n",
    "    lambda row: 'None' \n",
    "    if ((pd.isnull(row.YearsCodingProf)) \n",
    "        & ((row.Hobby =='Yes') | (row.Student =='Yes, full-time') )) \n",
    "    else row['YearsCodingProf'], axis=1\n",
    ")\n",
    "\n",
    "print(\"Valores faltantes en 'YearsCodingProf':\", \n",
    "      sum(pd.isnull(df['YearsCodingProf'])),\n",
    "      \"(\" + str(round(10000*sum(pd.isnull(df['YearsCodingProf'])) / df.shape[0]) / 100)+\"%)\")"
   ]
  },
  {
   "cell_type": "markdown",
   "metadata": {},
   "source": [
    "<div style=\"margin-top: 6px; border: 1px solid #cfcfcf; padding: 8px 12px; border-radius:2px; background-color:#f7f7f7;\">\n",
    "Ahora podemos utilizar la moda como valor de imputación para los valores restantes: \n",
    "</div>"
   ]
  },
  {
   "cell_type": "code",
   "execution_count": null,
   "metadata": {
    "collapsed": false
   },
   "outputs": [],
   "source": [
    "df['YearsCodingProf'] = df.apply(\n",
    "    lambda row: '0-2 years' if pd.isnull(row.YearsCodingProf) \n",
    "    else row['YearsCodingProf'], axis=1\n",
    ")\n",
    "\n",
    "print(\"Valores faltantes en 'YearsCodingProf':\", \n",
    "      sum(pd.isnull(df['YearsCodingProf'])),\n",
    "      \"(\" + str(round(10000*sum(pd.isnull(df['YearsCodingProf'])) / df.shape[0]) / 100)+\"%)\")"
   ]
  },
  {
   "cell_type": "markdown",
   "metadata": {},
   "source": [
    "<hr style=\"border-width: 3px;\">\n",
    "\n",
    "<div style=\"width:100%; overflow:hidden;\">\n",
    "<div style=\"width:30%; float:left; padding-right:5px; color:blue; font-weight: bold;\">\n",
    "StackOverflowRecommend<br>\n",
    "StackOverflowVisit<br>\n",
    "StackOverflowHasAccount<br>\n",
    "StackOverflowParticipate<br>\n",
    "StackOverflowJobs<br>\n",
    "StackOverflowDevStory<br>\n",
    "StackOverflowJobsRecommend<br>\n",
    "StackOverflowConsiderMember<br>\n",
    "</div>\n",
    "\n",
    "<div style=\"margin-left: 30%; border: 1px solid #cfcfcf; padding: 8px 12px; border-radius:2px; background-color:#f7f7f7;\">\n",
    "Estas variables tienen grandes cantidades de valores faltantes, pero pocas posibilidades de recuperar información \"razonablemente obvia\". \n",
    "<br><br>En el caso de 'StackOverflowJobsRecommend' y 'StackOverflowJobs' existe una posible relación entre quienes no respondieron la pregunta 'How likely is it that you would recommend Stack Overflow Jobs to a friend or colleague? Where 0 is not likely at all and 10 is very likely' (variable 'StackOverflowJobsRecommend') y quienes respondieron alguna de las dos opciones negativas en 'StackOverflowJobs'. Exploremos esta relación:\n",
    "</div>\n",
    "</div>"
   ]
  },
  {
   "cell_type": "code",
   "execution_count": null,
   "metadata": {
    "collapsed": false
   },
   "outputs": [],
   "source": [
    "data = get_counters(df['StackOverflowJobsRecommend'].dropna(), \n",
    "                    \"Recomendaría Stack Overflow Jobs\")\n",
    "data['Porcentaje'] = data.apply (lambda row: \n",
    "                                 percent (row, df.StackOverflowJobsRecommend),axis=1)\n",
    "display(HTML(data.to_html()))\n",
    "\n",
    "data = get_counters(df['StackOverflowJobs'].dropna(), \"Ha visitado Stack Overflow Jobs\")\n",
    "data['Porcentaje'] = data.apply (lambda row: percent (row, df.StackOverflowJobs),axis=1)\n",
    "display(HTML(data.to_html()))\n",
    "\n",
    "print(\"\\nValores faltantes en 'StackOverflowJobsRecommend':\", \n",
    "      sum(pd.isnull(df['StackOverflowJobsRecommend'])),\n",
    "      \"(\" + str(round(10000*sum(pd.isnull(df['StackOverflowJobsRecommend'])) \n",
    "                      / df.shape[0]) / 100)+\"%)\")\n",
    "\n",
    "df1 = df.loc[pd.isnull(df.StackOverflowJobsRecommend) \n",
    "             & pd.notnull(df.StackOverflowJobs) & (df.StackOverflowJobs != 'Yes')]\n",
    "print(\"Valores faltantes en 'StackOverflowJobsRecommend' con 'StackOverflowJobs' != 'Yes':\",\n",
    "     str(round(10000*df1.shape[0] / df.shape[0]) / 100)+\"%\")"
   ]
  },
  {
   "cell_type": "markdown",
   "metadata": {},
   "source": [
    "<div style=\"margin-top: 6px; border: 1px solid #cfcfcf; padding: 8px 12px; border-radius:2px; background-color:#f7f7f7;\">\n",
    "Como puede observarse, más de la mitad de quienes no respondieron la pregunta para 'StackOverflowJobsRecommend' no conocen el servicio. Dado que las opciones van de 0 ('not likely') a 10 (very likely), podemos tomar una consideración intermedia (5), que además es el segundo valor más común entre quienes contestaron. La decisión es la más arriesgada que hemos hecho, por la cantidad de registros involucrados. Un argumento en contra de esta decisión es que las respuestas no nulas no están distribuidas simétricamente en torno a 5. Por otra parte, observamos que casi el 75% de quienes no respondieron la pregunta y que si contestaron la pregunta para 'StackOverflowJobs', respondieron conocer el servicio, pero no haberlo visitado, lo cual refleja poco interés en el servicio y pocas posibilidades de que lo visiten en el futuro cercano y lo recomienden.\n",
    "</div>"
   ]
  },
  {
   "cell_type": "code",
   "execution_count": null,
   "metadata": {
    "collapsed": false
   },
   "outputs": [],
   "source": [
    "df['StackOverflowJobsRecommend'] = df.apply(\n",
    "    lambda row: '5' if ((pd.isnull(row.StackOverflowJobsRecommend)) \n",
    "        & pd.notnull(row.StackOverflowJobs) & (row.StackOverflowJobs != 'Yes')) \n",
    "    else row['StackOverflowJobsRecommend'], axis=1\n",
    ")\n",
    "\n",
    "print(\"Valores faltantes en 'StackOverflowJobsRecommend':\", \n",
    "      sum(pd.isnull(df['StackOverflowJobsRecommend'])),\n",
    "      \"(\" + str(round(10000*sum(pd.isnull(df['StackOverflowJobsRecommend'])) \n",
    "                      / df.shape[0]) / 100)+\"%)\")"
   ]
  },
  {
   "cell_type": "markdown",
   "metadata": {},
   "source": [
    "<hr style=\"border-width: 3px;\">\n",
    "\n",
    "<div style=\"width:100%; overflow:hidden;\">\n",
    "<div style=\"width:25%; float:left; padding-right:5px; color:blue; font-weight: bold;\">\n",
    "AssessJob1 - AssessJob10:\n",
    "</div>\n",
    "\n",
    "<div style=\"margin-left: 25%; border: 1px solid #cfcfcf; padding: 8px 12px; border-radius:2px; background-color:#f7f7f7;\">\n",
    "Las variables relacionadas con la evaluación de oportunidades de empleo ('AssessJob1' a 'AssessJob10') tienen una misma cantidad, grande, de valores faltantes. En este caso, vale la pena comparar contra 'Employment':\n",
    "</div>\n",
    "</div>"
   ]
  },
  {
   "cell_type": "code",
   "execution_count": null,
   "metadata": {
    "collapsed": false
   },
   "outputs": [],
   "source": [
    "print(\"Valores faltantes en 'AssessJob1':\",\n",
    "     str(round(10000*sum(pd.isnull(df['AssessJob1'])) / df.shape[0]) / 100)+\"%\")\n",
    "\n",
    "df1 = df.loc[(pd.isnull(df.AssessJob1))  & \n",
    "             (df.JobSearchStatus =='I am not interested in new job opportunities')]\n",
    "print(\"Valores faltantes para encuestados no interesados en ofertas de trabajo:\", \n",
    "      str(round(10000*df1.shape[0] / df.shape[0]) / 100)+\"%\")"
   ]
  },
  {
   "cell_type": "markdown",
   "metadata": {},
   "source": [
    "<div style=\"margin-top: 6px; border: 1px solid #cfcfcf; padding: 8px 12px; border-radius:2px; background-color:#f7f7f7;\">\n",
    "Como puede apreciarse, una gran cantidad de quienes no respondieron la pregunta correspondiente a la variable 'AssessJob1' contestaron 'I am not interested in new job opportunities' en la pregunta sobre búsqueda de empleo. En este caso, podemos asignar un valor de 0 a los valores faltantes de este grupo de variables:\n",
    "</div>"
   ]
  },
  {
   "cell_type": "code",
   "execution_count": null,
   "metadata": {
    "collapsed": false
   },
   "outputs": [],
   "source": [
    "columns = ['AssessJob' + str(i) for i in range(1, 11)]\n",
    "for col in columns:\n",
    "    df[col] = df.apply(\n",
    "        lambda row: 0 \n",
    "        if ((pd.isnull(row[col])) \n",
    "            & (row.JobSearchStatus =='I am not interested in new job opportunities') )\n",
    "        else row[col], axis=1)    \n",
    "    print(\"Valores faltantes en '\" + col + \"':\",\n",
    "          str(round(10000*sum(pd.isnull(df[col])) / df.shape[0]) / 100)+\"%\")"
   ]
  },
  {
   "cell_type": "markdown",
   "metadata": {},
   "source": [
    "<hr style=\"border-width: 3px;\">\n",
    "\n",
    "<div style=\"width:100%; overflow:hidden;\">\n",
    "<div style=\"width:25%; float:left; padding-right:5px; color:blue; font-weight: bold;\">\n",
    "AssessBenefits<br>\n",
    "JobEmailPriorities<br>\n",
    "JobContactPriorities1\n",
    "</div>\n",
    "\n",
    "<div style=\"margin-left: 25%; border: 1px solid #cfcfcf; padding: 8px 12px; border-radius:2px; background-color:#f7f7f7;\">\n",
    "Las variables 'AssessBenefits1'-'AssessBenefits11', 'JobEmailPriorities1'-'JobEmailPriorities7' y 'JobContactPriorities1'-'JobContactPriorities5' presentan una situación similar a 'AssessJob-x'. Tomamos la misma decisión:\n",
    "</div>\n",
    "</div>"
   ]
  },
  {
   "cell_type": "code",
   "execution_count": null,
   "metadata": {
    "collapsed": false
   },
   "outputs": [],
   "source": [
    "print(\"Valores faltantes en 'AssessBenefits1':\",\n",
    "     str(round(10000*sum(pd.isnull(df['AssessBenefits1'])) / df.shape[0]) / 100)+\"%\")\n",
    "\n",
    "df1 = df.loc[(pd.isnull(df.AssessBenefits1))  & \n",
    "             (df.JobSearchStatus =='I am not interested in new job opportunities')]\n",
    "print(\"Valores faltantes en 'AssessJob1':\", \n",
    "      str(round(10000*df1.shape[0] / df.shape[0]) / 100)+\"%\")"
   ]
  },
  {
   "cell_type": "code",
   "execution_count": null,
   "metadata": {
    "collapsed": false
   },
   "outputs": [],
   "source": [
    "columns = ['AssessBenefits' + str(i) for i in range(1, 12)]\n",
    "for col in columns:\n",
    "    df[col] = df.apply(\n",
    "        lambda row: 0 \n",
    "        if ((pd.isnull(row[col])) \n",
    "            & (row.JobSearchStatus =='I am not interested in new job opportunities') )\n",
    "        else row[col], axis=1)    \n",
    "    print(\"Valores faltantes en '\" + col + \"':\",\n",
    "          str(round(10000*sum(pd.isnull(df[col])) / df.shape[0]) / 100)+\"%\")"
   ]
  },
  {
   "cell_type": "code",
   "execution_count": null,
   "metadata": {
    "collapsed": false
   },
   "outputs": [],
   "source": [
    "print(\"Valores faltantes en 'JobEmailPriorities1':\",\n",
    "     str(round(10000*sum(pd.isnull(df['JobEmailPriorities1'])) / df.shape[0]) / 100)+\"%\")\n",
    "\n",
    "df1 = df.loc[(pd.isnull(df.JobEmailPriorities1))  & \n",
    "             (df.JobSearchStatus =='I am not interested in new job opportunities')]\n",
    "print(\"Valores faltantes en 'JobEmailPriorities1':\", \n",
    "      str(round(10000*df1.shape[0] / df.shape[0]) / 100)+\"%\")"
   ]
  },
  {
   "cell_type": "code",
   "execution_count": null,
   "metadata": {
    "collapsed": false
   },
   "outputs": [],
   "source": [
    "columns = ['JobEmailPriorities' + str(i) for i in range(1, 8)]\n",
    "for col in columns:\n",
    "    df[col] = df.apply(\n",
    "        lambda row: 0 \n",
    "        if ((pd.isnull(row[col])) \n",
    "            & (row.JobSearchStatus =='I am not interested in new job opportunities') )\n",
    "        else row[col], axis=1)    \n",
    "    print(\"Valores faltantes en '\" + col + \"':\",\n",
    "          str(round(10000*sum(pd.isnull(df[col])) / df.shape[0]) / 100)+\"%\")"
   ]
  },
  {
   "cell_type": "code",
   "execution_count": null,
   "metadata": {
    "collapsed": false
   },
   "outputs": [],
   "source": [
    "print(\"Valores faltantes en 'JobContactPriorities1':\",\n",
    "     str(round(10000*sum(pd.isnull(df['JobContactPriorities1'])) / df.shape[0]) / 100)+\"%\")\n",
    "\n",
    "df1 = df.loc[(pd.isnull(df.JobContactPriorities1))  & \n",
    "             (df.JobSearchStatus =='I am not interested in new job opportunities')]\n",
    "print(\"Valores faltantes en 'JobContactPriorities1':\", \n",
    "      str(round(10000*df1.shape[0] / df.shape[0]) / 100)+\"%\")"
   ]
  },
  {
   "cell_type": "code",
   "execution_count": null,
   "metadata": {
    "collapsed": false
   },
   "outputs": [],
   "source": [
    "columns = ['JobContactPriorities' + str(i) for i in range(1, 6)]\n",
    "for col in columns:\n",
    "    df[col] = df.apply(\n",
    "        lambda row: 0 \n",
    "        if ((pd.isnull(row[col])) \n",
    "            & (row.JobSearchStatus =='I am not interested in new job opportunities') )\n",
    "        else row[col], axis=1)    \n",
    "    print(\"Valores faltantes en '\" + col + \"':\",\n",
    "          str(round(10000*sum(pd.isnull(df[col])) / df.shape[0]) / 100)+\"%\")"
   ]
  },
  {
   "cell_type": "markdown",
   "metadata": {},
   "source": [
    "<hr style=\"border-width: 3px;\">\n",
    "\n",
    "<div style=\"width:100%; overflow:hidden;\">\n",
    "<div style=\"width:15%; float:left; padding-right:5px; color:blue; font-weight: bold;\">\n",
    "Salary:\n",
    "</div>\n",
    "\n",
    "<div style=\"margin-left: 15%; border: 1px solid #cfcfcf; padding: 8px 12px; border-radius:2px; background-color:#f7f7f7;\">\n",
    "La variable 'Salary' tiene varios problemas. El primero de ellos es una gran cantidad de valores faltantes, que, sin embargo, pueden mejorarse tomando en cuentas los valores en las variables 'Hobby' y 'Employment'. El primer análisis es determinar cuantos de los que no respondieron la pregunta es porque no trabajan:\n",
    "</div>\n",
    "</div>"
   ]
  },
  {
   "cell_type": "code",
   "execution_count": null,
   "metadata": {
    "collapsed": false
   },
   "outputs": [],
   "source": [
    "print(\"Valores faltantes en 'Salary':\",\n",
    "     str(round(10000*sum(pd.isnull(df['Salary'])) / df.shape[0]) / 100)+\"%\")\n",
    "\n",
    "df1 = df.loc[(pd.isnull(df.Salary))  & \n",
    "             ((df.Hobby == 'Yes') | (df.Employment == 'Retired')\n",
    "                | (df.Employment == 'Not employed, but looking for work')\n",
    "                | (df.Employment == 'Not employed, and not looking for work')\n",
    "             )]\n",
    "print(\"Valores faltantes para encuestados que no trabajan:\", \n",
    "      str(round(10000*df1.shape[0] / df.shape[0]) / 100)+\"%\")"
   ]
  },
  {
   "cell_type": "markdown",
   "metadata": {},
   "source": [
    "<div style=\"margin-top: 6px; border: 1px solid #cfcfcf; padding: 8px 12px; border-radius:2px; background-color:#f7f7f7;\">\n",
    "En estos casos, imputaremos el valor '0' a los valores faltantes:\n",
    "</div>"
   ]
  },
  {
   "cell_type": "code",
   "execution_count": null,
   "metadata": {
    "collapsed": false
   },
   "outputs": [],
   "source": [
    "df['Salary'] = df.apply(\n",
    "    lambda row: '0' \n",
    "    if ((pd.isnull(row.Salary)) \n",
    "        & ((row.Hobby == 'Yes') | (row.Employment == 'Retired') \n",
    "           | (row.Employment == 'Not employed, but looking for work')\n",
    "           | (row.Employment == 'Not employed, and not looking for work')\n",
    "          )) else row['Salary'], axis=1\n",
    ")\n",
    "\n",
    "print(\"Valores faltantes:\", \n",
    "      sum(pd.isnull(df['Salary'])),\n",
    "     \"(\" + str(round(10000*sum(pd.isnull(df['Salary'])) / df.shape[0]) / 100)+\"%)\")"
   ]
  },
  {
   "cell_type": "markdown",
   "metadata": {},
   "source": [
    "<div style=\"margin-top: 6px; border: 1px solid #cfcfcf; padding: 8px 12px; border-radius:2px; background-color:#f7f7f7;\">\n",
    "Con los registros restantes, no podemos hacer nada por el momento para limpiar los valores faltantes.\n",
    "<br>\n",
    "Otro problema de esta variable, sin embargo, es la presencia de valores atípicos, lo cual ilustramos mostrando las cadenas más largas en los registros:\n",
    "</div>"
   ]
  },
  {
   "cell_type": "code",
   "execution_count": null,
   "metadata": {
    "collapsed": false
   },
   "outputs": [],
   "source": [
    "salary_list = df['Salary'].dropna().value_counts().index.tolist()\n",
    "sorted_list = sorted(salary_list, key = len, reverse=True)\n",
    "print(sorted_list[:20])"
   ]
  },
  {
   "cell_type": "markdown",
   "metadata": {},
   "source": [
    "<div style=\"margin-top: 6px; border: 1px solid #cfcfcf; padding: 8px 12px; border-radius:2px; background-color:#f7f7f7;\">\n",
    "Es evidente que muchos de estos valores no tienen sentido. Al 15 de julio del 2018, la moneda con menor valor (en relación al dólar estadounidense) es el Rial Iraní. \\$1.00 USD equivale a \n",
    "43,297.99 IRR (no hay símbolo internacional). De esta manera, un salario en riales de 10,000,000,000.00 IRR equivaldría a un salario de \\$230,957.60 USD (muy por arriba de los estándares para un desarrollador). De manera que parece seguro eliminar todos los valores que tengan un valor superior a éste. Dado que es de esperar que algunos de estas respuestas sean de personas que no trabajan, volvemos a aplicar el ajuste correspondiente:\n",
    "</div>"
   ]
  },
  {
   "cell_type": "code",
   "execution_count": null,
   "metadata": {
    "collapsed": true
   },
   "outputs": [],
   "source": [
    "def salary_ok (s):\n",
    "    if pd.notnull(s):\n",
    "        s = s.replace(',','')\n",
    "        val = float(s)\n",
    "        if val < 10000000000:\n",
    "            return val\n",
    "        else:\n",
    "            return np.nan\n",
    "    else:\n",
    "        return np.nan"
   ]
  },
  {
   "cell_type": "code",
   "execution_count": null,
   "metadata": {
    "collapsed": false
   },
   "outputs": [],
   "source": [
    "df['Salary'] = df.apply(lambda row: salary_ok(row.Salary), axis=1)\n",
    "\n",
    "print(\"Valores faltantes:\", \n",
    "      sum(pd.isnull(df['Salary'])),\n",
    "     \"(\" + str(round(10000*sum(pd.isnull(df['Salary'])) / df.shape[0]) / 100)+\"%)\")"
   ]
  },
  {
   "cell_type": "code",
   "execution_count": null,
   "metadata": {
    "collapsed": false
   },
   "outputs": [],
   "source": [
    "df['Salary'] = df.apply(\n",
    "    lambda row: '0' \n",
    "    if ((pd.isnull(row.Salary)) \n",
    "        & ((row.Hobby == 'Yes') | (row.Employment == 'Retired') \n",
    "           | (row.Employment == 'Not employed, but looking for work')\n",
    "           | (row.Employment == 'Not employed, and not looking for work')\n",
    "          )) else row['Salary'], axis=1\n",
    ")\n",
    "\n",
    "print(\"Valores faltantes:\", \n",
    "      sum(pd.isnull(df['Salary'])),\n",
    "     \"(\" + str(round(10000*sum(pd.isnull(df['Salary'])) / df.shape[0]) / 100)+\"%)\")"
   ]
  },
  {
   "cell_type": "markdown",
   "metadata": {},
   "source": [
    "<div style=\"margin-top: 6px; border: 1px solid #cfcfcf; padding: 8px 12px; border-radius:2px; background-color:#f7f7f7;\">\n",
    "Con los registros restantes, no hacemos más por el momento para limpiar los valores faltantes.\n",
    "</div>"
   ]
  },
  {
   "cell_type": "markdown",
   "metadata": {},
   "source": [
    "<hr style=\"border-width: 3px;\">\n",
    "\n",
    "<div style=\"width:100%; overflow:hidden;\">\n",
    "<div style=\"width:15%; float:left; padding-right:5px; color:blue; font-weight: bold;\">\n",
    "CheckInCode:\n",
    "</div>\n",
    "\n",
    "<div style=\"margin-left: 15%; border: 1px solid #cfcfcf; padding: 8px 12px; border-radius:2px; background-color:#f7f7f7;\">\n",
    "'CheckInCode' (¿con que frecuencia actualiza el usuario su código en algún controlador de versiones?) es otra variable con un contenido 'alto' de valores faltantes que se anticipa como viable de ser limpiada. Pudiéramos esperar, en particular, que quienes dejaron la respuesta a la pregunta en blanco se correspondan en gran medida con quienes respondieron la pregunta acerca de qué controlador de versión utilizaban ('VersionControl') con las respuestas 'I don't use version control' y 'Zip file back-ups'. Para analizar esta relación, empezamos por explorar la cantidad de valores faltantes en 'CheckInCode' y, posteriormente, analizamos como se distribuyen los valores no nulos de 'VersionControl' entre los registros con valor nulo en 'CheckInCode':\n",
    "</div>\n",
    "</div>"
   ]
  },
  {
   "cell_type": "code",
   "execution_count": null,
   "metadata": {
    "collapsed": false
   },
   "outputs": [],
   "source": [
    "print(\"Valores faltantes en 'CheckInCode':\",\n",
    "     str(round(10000*sum(pd.isnull(df['CheckInCode'])) / df.shape[0]) / 100)+\"%\")"
   ]
  },
  {
   "cell_type": "code",
   "execution_count": null,
   "metadata": {
    "collapsed": false,
    "scrolled": false
   },
   "outputs": [],
   "source": [
    "df1 = df.loc[pd.isnull(df.CheckInCode)]\n",
    "\n",
    "data = get_counters(df1['VersionControl'].dropna(), \"Controlador de versiones\")\n",
    "data['Porcentaje en nulos'] = data.apply (lambda row: percent (row, df1.VersionControl), axis=1)\n",
    "display(HTML(data.to_html()))\n",
    "\n",
    "print(\"\\nValores faltantes en 'CheckInCode' y 'VersionControl':\",\n",
    "     str(round(10000*sum(pd.isnull(df1['VersionControl'])) / df.shape[0]) / 100)+\"%\")"
   ]
  },
  {
   "cell_type": "markdown",
   "metadata": {},
   "source": [
    "<div style=\"margin-top: 6px; border: 1px solid #cfcfcf; padding: 8px 12px; border-radius:2px; background-color:#f7f7f7;\">\n",
    "Observamos que, aunque si hay una fuerte correlación entre quienes dejaron en blanco la variable 'CheckInCode' y quienes respondieron 'I don't use version control' en la variable 'VersionControl', es mucho mayor la coinicidencia de quienes dejaron en blanco ambas preguntas, por lo que la limpieza será reducida. Realizaremos un imputación con el valor 'Never' a todos los registros con  'CheckInCode' en blanco y 'I don't use version control' en la variable 'VersionControl'; a continuación revisaremos nuevamente la distribución de respuestas de 'VersionControl' en registros con 'CheckInCode' nulo:\n",
    "</div>"
   ]
  },
  {
   "cell_type": "code",
   "execution_count": null,
   "metadata": {
    "collapsed": false
   },
   "outputs": [],
   "source": [
    "df['CheckInCode'] = df.apply(\n",
    "    lambda row: 'Never' if ( (pd.isnull(row.CheckInCode))\n",
    "                            & ( (pd.notnull(row.VersionControl)) \n",
    "                               & ( (row.VersionControl == \"I don't use version control\")\n",
    "                                  | (row.VersionControl == \"Zip file back-ups\")) \n",
    "                              )\n",
    "                           ) else row['CheckInCode'], axis=1\n",
    ")\n",
    "\n",
    "print(\"Valores faltantes:\",\n",
    "     str(round(10000*sum(pd.isnull(df['CheckInCode'])) / df.shape[0]) / 100)+\"%\")"
   ]
  },
  {
   "cell_type": "code",
   "execution_count": null,
   "metadata": {
    "collapsed": false,
    "scrolled": true
   },
   "outputs": [],
   "source": [
    "df1 = df.loc[pd.isnull(df.CheckInCode)]\n",
    "\n",
    "data = get_counters(df1['VersionControl'].dropna(), \"Controlador de versiones\")\n",
    "data['Porcentaje en nulos'] = data.apply (\n",
    "    lambda row: percent (row, df1.VersionControl), axis=1)\n",
    "display(HTML(data.to_html()))"
   ]
  },
  {
   "cell_type": "markdown",
   "metadata": {},
   "source": [
    "<div style=\"margin-top: 6px; border: 1px solid #cfcfcf; padding: 8px 12px; border-radius:2px; background-color:#f7f7f7;\">\n",
    "En estos resultados, sorprende que sigan apareciendo registros con la respuesta 'I don't use version control'... después de haber hecho la imputación. Un análisis más fino arroja, por ejemplo, el siguiente resultado:\n",
    "</div>"
   ]
  },
  {
   "cell_type": "code",
   "execution_count": null,
   "metadata": {
    "collapsed": false
   },
   "outputs": [],
   "source": [
    "suma = 0\n",
    "for index, row in df.iterrows():\n",
    "    if pd.isnull(row.CheckInCode) & (row.VersionControl == row.VersionControl):\n",
    "        if((\"I don't\" in row.VersionControl) & (\"Git\" in row.VersionControl)):\n",
    "            suma += 1\n",
    "print(suma)"
   ]
  },
  {
   "cell_type": "markdown",
   "metadata": {},
   "source": [
    "<div style=\"margin-top: 6px; border: 1px solid #cfcfcf; padding: 8px 12px; border-radius:2px; background-color:#f7f7f7;\">\n",
    "De acuerdo a estos resultados, muchos de los que respondieron 'I don't use version control' a la pregunta sobre qué tipo de controlador de versiones utilizaban, agregaron a la respuesta la opción 'Git', lo cual es una contradicción ([*Git is a free and open source distributed version control system...*](https://git-scm.com)). Aunque este resultado no mejora las opciones de limpieza de 'CheckInCode', si descubre una inconsistencia (no obvia) en la variable 'VersionControl': quienes respondieron 'I don't use version control' no pueden agregar ningún controlador de versiones ([*Git*](https://git-scm.com), [*Subversion*](https://subversion.apache.org), [*Team Foundation Version Control*](https://visualstudio.microsoft.com/es/team-services/tfvc/) o [*Mercurial*](https://www.mercurial-scm.org) e incluso tampoco *Copying and pasting files to network shares*). Observemos la ocurrencia de este problema en toda la base de datos (no solo para 'CheckInCode' nulo): \n",
    "</div>"
   ]
  },
  {
   "cell_type": "code",
   "execution_count": null,
   "metadata": {
    "collapsed": false
   },
   "outputs": [],
   "source": [
    "suma = 0\n",
    "for index, row in df.iterrows():\n",
    "    if pd.notnull(row.VersionControl):\n",
    "        if((\"I don't\" in row.VersionControl) \n",
    "           & (row.VersionControl != \"I don't use version control\")):\n",
    "            suma += 1\n",
    "print(suma)"
   ]
  },
  {
   "cell_type": "markdown",
   "metadata": {},
   "source": [
    "<div style=\"margin-top: 6px; border: 1px solid #cfcfcf; padding: 8px 12px; border-radius:2px; background-color:#f7f7f7;\">\n",
    "Este resultado muestra que la confusión sólo ocurre en los registros con 'CheckInCode' nulo. Al ser tan pocos registros, no hay gran riesgo en realizar una imputación para limpiar los datos; la decisión será dejar sólo el valor \"I don't use version control\" en todos los registros en los que aparece esta opción:\n",
    "</div>"
   ]
  },
  {
   "cell_type": "code",
   "execution_count": null,
   "metadata": {
    "collapsed": false
   },
   "outputs": [],
   "source": [
    "def VersionControl_ok(row):\n",
    "    if \"I don't\" in row:\n",
    "        return \"I don't use version control\"\n",
    "    else:\n",
    "        return row\n",
    "\n",
    "df['VersionControl'] = df.apply(lambda row: VersionControl_ok(row.VersionControl)\n",
    "                                if row.VersionControl == row.VersionControl \n",
    "                                else np.nan, axis=1)\n",
    "\n",
    "data = get_counters(df['VersionControl'].dropna(), \"Manejador de versiones\")\n",
    "data['Porcentaje'] = data.apply (lambda row: percent (row, df.VersionControl), axis=1)\n",
    "display(HTML(data.to_html()))\n",
    "\n",
    "print(\"Valores faltantes en 'CheckInCode':\",\n",
    "     str(round(10000*sum(pd.isnull(df['CheckInCode'])) / df.shape[0]) / 100)+\"%\")"
   ]
  },
  {
   "cell_type": "markdown",
   "metadata": {},
   "source": [
    "<hr style=\"border-width: 3px;\">\n",
    "\n",
    "<div style=\"width:100%; overflow:hidden;\">\n",
    "<div style=\"width:20%; float:left; padding-right:5px; color:blue; font-weight: bold;\">\n",
    "Currency\n",
    "<br>CurrencySymbol:\n",
    "</div>\n",
    "\n",
    "<div style=\"margin-left: 20%; border: 1px solid #cfcfcf; padding: 8px 12px; border-radius:2px; background-color:#f7f7f7;\">\n",
    "Las variables 'Currency' y 'CurrencySymbol' muestran varios problemas. El primero de ellos es que son redundantes 'Currency' es el nombre de la divisa y 'CurrencySymbol' su símbolo y debe haber una correspondencia uno-a-uno. Observemos las estadísticas básicas de ambas variables: \n",
    "</div>\n",
    "</div>"
   ]
  },
  {
   "cell_type": "code",
   "execution_count": null,
   "metadata": {
    "collapsed": false
   },
   "outputs": [],
   "source": [
    "print(df[['Currency', 'CurrencySymbol']].describe())"
   ]
  },
  {
   "cell_type": "markdown",
   "metadata": {},
   "source": [
    "<div style=\"margin-top: 6px; border: 1px solid #cfcfcf; padding: 8px 12px; border-radius:2px; background-color:#f7f7f7;\">\n",
    "Como puede apreciarse, hay una inconsistencia entre el número de etiquetas para ambas variables. La forma de las etiquetas de 'Currency' es la siguiente:\n",
    "</div>"
   ]
  },
  {
   "cell_type": "code",
   "execution_count": null,
   "metadata": {
    "collapsed": false,
    "scrolled": true
   },
   "outputs": [],
   "source": [
    "data = get_counters(df['Currency'].dropna(), \"Símbolo de divisa\")\n",
    "display(HTML(data.to_html()))"
   ]
  },
  {
   "cell_type": "markdown",
   "metadata": {},
   "source": [
    "<div style=\"margin-top: 6px; border: 1px solid #cfcfcf; padding: 8px 12px; border-radius:2px; background-color:#f7f7f7;\">\n",
    "Para limpiar estas variables utilizamos una fuente auxiliar; utilizamos un archivo-catálogo de divisas (algunos de los códigos están desactualizados, pero los códigos utilizados son congruentes). Utilizamos este archivo para reemplazar los valores de 'CurrencySymbol' de acuerdo al valor de 'Currency':\n",
    "</div>"
   ]
  },
  {
   "cell_type": "code",
   "execution_count": null,
   "metadata": {
    "collapsed": false,
    "scrolled": false
   },
   "outputs": [],
   "source": [
    "countries_df = pd.read_csv(path + \"countries.csv\", \n",
    "                 names = ['Country', 'CurrencySymbol', 'CurrencySymbolName', 'Currency'])\n",
    "display(HTML(countries_df.to_html()))"
   ]
  },
  {
   "cell_type": "code",
   "execution_count": null,
   "metadata": {
    "collapsed": false
   },
   "outputs": [],
   "source": [
    "symbols = countries_df.CurrencySymbol.tolist()\n",
    "currencies = countries_df.Currency.tolist()\n",
    "dictionary = dict(zip(currencies, symbols))\n",
    "\n",
    "df['CurrencySymbol'] = df.apply(\n",
    "    lambda row: dictionary.get(row.Currency) \n",
    "    if pd.isnull(row.CurrencySymbol) & pd.notnull(row.Currency)\n",
    "    else row['CurrencySymbol'], axis=1\n",
    ")\n",
    "\n",
    "print(df[['Currency', 'CurrencySymbol']].describe())"
   ]
  },
  {
   "cell_type": "markdown",
   "metadata": {},
   "source": [
    "<div style=\"margin-top: 6px; border: 1px solid #cfcfcf; padding: 8px 12px; border-radius:2px; background-color:#f7f7f7;\">\n",
    "Finalmente, dado que ambas variables son redundantes, descartamos la columna 'Currency':\n",
    "</div>"
   ]
  },
  {
   "cell_type": "code",
   "execution_count": null,
   "metadata": {
    "collapsed": true
   },
   "outputs": [],
   "source": [
    "df = df.drop(['Currency'], axis=1)"
   ]
  },
  {
   "cell_type": "markdown",
   "metadata": {},
   "source": [
    "<div style=\"margin-top: 6px; border: 1px solid #cfcfcf; padding: 8px 12px; border-radius:2px; background-color:#f7f7f7;\">\n",
    "Otro problema, ahora en la variable 'CurrencySymbol' que hemos conservado, es la cantidad de valores faltantes. Analicemos su magnitud y la relación obvia con la variable 'Salary' (si el encuestado no reportó salario o reportó un salario de 0, no es necesario especificar la divisa):\n",
    "</div>"
   ]
  },
  {
   "cell_type": "code",
   "execution_count": null,
   "metadata": {
    "collapsed": false
   },
   "outputs": [],
   "source": [
    "print(\"Valores faltantes en 'CurrencySymbol':\", sum(pd.isnull(df['CurrencySymbol'])),\n",
    "     \"(\" + str(round(10000*sum(pd.isnull(df['CurrencySymbol'])) / df.shape[0]) / 100)+\"%)\")\n",
    "\n",
    "df1 = df.loc[pd.isnull(df.CurrencySymbol)  & \n",
    "             (pd.isnull(df.Salary) | (pd.to_numeric(df.Salary) == 0)\n",
    "             )]\n",
    "print(\"Valores faltantes en 'CurrencySymbol' de programadores sin salario:\", \n",
    "      df1.shape[0], \"(\" + str(round(10000*df1.shape[0] / df.shape[0]) / 100)+\"%)\")"
   ]
  },
  {
   "cell_type": "markdown",
   "metadata": {},
   "source": [
    "<div style=\"margin-top: 6px; border: 1px solid #cfcfcf; padding: 8px 12px; border-radius:2px; background-color:#f7f7f7;\">\n",
    "Hagamos una imputación al valor 'None' para estos registros:\n",
    "</div>"
   ]
  },
  {
   "cell_type": "code",
   "execution_count": null,
   "metadata": {
    "collapsed": false
   },
   "outputs": [],
   "source": [
    "df['CurrencySymbol'] = df.apply(lambda row: 'None'\n",
    "                                if pd.isnull(row.CurrencySymbol) \n",
    "                                & (pd.isnull(row.Salary) | (pd.to_numeric(row.Salary) == 0)) \n",
    "                                else row['CurrencySymbol'], axis=1)\n",
    "print(\"Valores faltantes en 'CurrencySymbol':\", sum(pd.isnull(df['CurrencySymbol'])),\n",
    "     \"(\" + str(round(10000*sum(pd.isnull(df['CurrencySymbol'])) / df.shape[0]) / 100)+\"%)\")"
   ]
  },
  {
   "cell_type": "markdown",
   "metadata": {},
   "source": [
    "<div style=\"margin-top: 6px; border: 1px solid #cfcfcf; padding: 8px 12px; border-radius:2px; background-color:#f7f7f7;\">\n",
    "Los valores faltantes restantes son despreciables, podemos imputarles el valor 'USD' (el más común y con una tasa de cambio muy cercana al segundo valor más común 'EUR'):\n",
    "</div>"
   ]
  },
  {
   "cell_type": "code",
   "execution_count": null,
   "metadata": {
    "collapsed": false
   },
   "outputs": [],
   "source": [
    "df['CurrencySymbol'] = df.apply(lambda row: 'USD'\n",
    "                                if pd.isnull(row.CurrencySymbol) \n",
    "                                else row['CurrencySymbol'], axis=1)\n",
    "print(\"Valores faltantes en 'CurrencySymbol':\", sum(pd.isnull(df['CurrencySymbol'])),\n",
    "     \"(\" + str(round(10000*sum(pd.isnull(df['CurrencySymbol'])) / df.shape[0]) / 100)+\"%)\")"
   ]
  },
  {
   "cell_type": "markdown",
   "metadata": {},
   "source": [
    "<hr style=\"border-width: 3px;\">\n",
    "\n",
    "<div style=\"width:100%; overflow:hidden;\">\n",
    "<div style=\"width:15%; float:left; padding-right:5px; color:blue; font-weight: bold;\">\n",
    "SalaryType:\n",
    "</div>\n",
    "\n",
    "<div style=\"margin-left: 15%; border: 1px solid #cfcfcf; padding: 8px 12px; border-radius:2px; background-color:#f7f7f7;\">\n",
    "La variable 'SalaryType' tiene sentido sólo si el encuestado reportó un salario mayor que cero. Analicemos esta variable y la relación con 'Salary': \n",
    "</div>\n",
    "</div>"
   ]
  },
  {
   "cell_type": "code",
   "execution_count": null,
   "metadata": {
    "collapsed": false
   },
   "outputs": [],
   "source": [
    "print(\"Valores faltantes en 'SalaryType':\", sum(pd.isnull(df['SalaryType'])),\n",
    "     \"(\" + str(round(10000*sum(pd.isnull(df['SalaryType'])) / df.shape[0]) / 100)+\"%)\")\n",
    "\n",
    "df1 = df.loc[pd.isnull(df.SalaryType)  & \n",
    "             (pd.isnull(df.Salary) | (pd.to_numeric(df.Salary) == 0)\n",
    "             )]\n",
    "print(\"Valores faltantes en 'SalaryType' para encuestados sin salario:\", \n",
    "      df1.shape[0], \"(\" + str(round(10000*df1.shape[0] / df.shape[0]) / 100)+\"%)\")"
   ]
  },
  {
   "cell_type": "markdown",
   "metadata": {},
   "source": [
    "<div style=\"margin-top: 6px; border: 1px solid #cfcfcf; padding: 8px 12px; border-radius:2px; background-color:#f7f7f7;\">\n",
    "Hagamos una imputación al valor 'None' para estos registros:\n",
    "</div>"
   ]
  },
  {
   "cell_type": "code",
   "execution_count": null,
   "metadata": {
    "collapsed": false
   },
   "outputs": [],
   "source": [
    "df['SalaryType'] = df.apply(lambda row: 'None'\n",
    "                             if pd.isnull(row.SalaryType) \n",
    "                             & (pd.isnull(row.Salary) | (pd.to_numeric(row.Salary) == 0))\n",
    "                             else row['SalaryType'], axis=1)\n",
    "\n",
    "print(\"Valores faltantes en 'SalaryType':\", sum(pd.isnull(df['SalaryType'])),\n",
    "     \"(\" + str(round(10000*sum(pd.isnull(df['SalaryType'])) / df.shape[0]) / 100)+\"%)\")\n",
    "\n",
    "data = get_counters(df['SalaryType'].dropna(), \"Tipo de salario\")\n",
    "data['Porcentaje'] = data.apply (lambda row: percent (row, df.CompanySize), axis=1)\n",
    "display(HTML(data.to_html()))"
   ]
  },
  {
   "cell_type": "markdown",
   "metadata": {},
   "source": [
    "<hr style=\"border-width: 3px;\">\n",
    "\n",
    "<div style=\"width:100%; overflow:hidden;\">\n",
    "<div style=\"width:20%; float:left; padding-right:5px; color:blue; font-weight: bold;\">\n",
    "ConvertedSalary:\n",
    "</div>\n",
    "\n",
    "<div style=\"margin-left: 20%; border: 1px solid #cfcfcf; padding: 8px 12px; border-radius:2px; background-color:#f7f7f7;\">\n",
    "La variable 'ConvertedSalary' (Salary converted to annual USD salaries using the exchange rate on 2018-01-18, assuming 12 working months and 50 working weeks) tiene sentido sólo si el encuestado reportó un salario mayor que cero; si el salario es cero, el valor convertido también sería cero. Analicemos esta variable y la relación con 'Salary': \n",
    "</div>\n",
    "</div>"
   ]
  },
  {
   "cell_type": "code",
   "execution_count": null,
   "metadata": {
    "collapsed": false
   },
   "outputs": [],
   "source": [
    "print(\"Valores faltantes en 'ConvertedSalary':\", sum(pd.isnull(df['ConvertedSalary'])),\n",
    "     \"(\" + str(round(10000*sum(pd.isnull(df['ConvertedSalary'])) / df.shape[0]) / 100)+\"%)\")\n",
    "\n",
    "df1 = df.loc[pd.isnull(df.ConvertedSalary) & (pd.to_numeric(df.Salary) == 0)]\n",
    "print(\"Valores faltantes en 'ConvertedSalary' para encuestados con salario cero:\", \n",
    "      df1.shape[0], \"(\" + str(round(10000*df1.shape[0] / df.shape[0]) / 100)+\"%)\")"
   ]
  },
  {
   "cell_type": "markdown",
   "metadata": {},
   "source": [
    "<div style=\"margin-top: 6px; border: 1px solid #cfcfcf; padding: 8px 12px; border-radius:2px; background-color:#f7f7f7;\">\n",
    "Para todos estos registros, el valor de conversión es cero:\n",
    "</div>"
   ]
  },
  {
   "cell_type": "code",
   "execution_count": null,
   "metadata": {
    "collapsed": false
   },
   "outputs": [],
   "source": [
    "df['ConvertedSalary'] = df.apply(lambda row: 0\n",
    "                                 if pd.isnull(row.ConvertedSalary) \n",
    "                                 & (pd.to_numeric(row.Salary) == 0)\n",
    "                                 else row['ConvertedSalary'], axis=1)\n",
    "\n",
    "print(\"Valores faltantes en 'ConvertedSalary':\", sum(pd.isnull(df['ConvertedSalary'])),\n",
    "     \"(\" + str(round(10000*sum(pd.isnull(df['ConvertedSalary'])) / df.shape[0]) / 100)+\"%)\")"
   ]
  },
  {
   "cell_type": "markdown",
   "metadata": {},
   "source": [
    "<div style=\"margin-top: 6px; border: 1px solid #cfcfcf; padding: 8px 12px; border-radius:2px; background-color:#f7f7f7;\">\n",
    "Otros registros simples de corregir son los que tienen salario diferente de cero, divisa 'USD' y 'SalaryType' no nulo:\n",
    "</div>"
   ]
  },
  {
   "cell_type": "code",
   "execution_count": null,
   "metadata": {
    "collapsed": false,
    "scrolled": false
   },
   "outputs": [],
   "source": [
    "df1 = df.loc[pd.isnull(df.ConvertedSalary) & pd.notnull(df.Salary) ]\n",
    "\n",
    "data = get_counters(df1['CurrencySymbol'].dropna(), \"Símbolo de divisa\")\n",
    "data['Porcentaje'] = data.apply (lambda row: percent (row, df.CurrencySymbol), axis=1)\n",
    "display(HTML(data.to_html()))"
   ]
  },
  {
   "cell_type": "markdown",
   "metadata": {},
   "source": [
    "<div style=\"margin-top: 6px; border: 1px solid #cfcfcf; padding: 8px 12px; border-radius:2px; background-color:#f7f7f7;\">\n",
    "Si el encuestado especificó su divisa y frecuencia de pago ('SalaryType'), podemos calcular el valor de 'ConvertedSalary':\n",
    "</div>"
   ]
  },
  {
   "cell_type": "code",
   "execution_count": null,
   "metadata": {
    "collapsed": false
   },
   "outputs": [],
   "source": [
    "dict_salary_type = {'Yearly': 1, 'Monthly': 12, 'Weekly': 50}\n",
    "# Tasas de cambio en https://www.x-rates.com/... la mayoría\n",
    "dict_change_rate = {'USD': 1.0, 'EUR': 1.223993, 'BRL': 0.310852, 'INR': 0.015654,\n",
    "                   'PLN': 0.293886, 'RUB': 0.017721, 'MXN': 0.053591, 'SEK': 0.124758,\n",
    "                   'CZK': 0.048258, 'ILS': 0.292687, 'ARS': 0.053028, 'IRR': 0.000027,\n",
    "                   'CAD': 0.803523, 'UAH': 0.03472, 'PKR': 0.009037, 'TRY': 0.265154,\n",
    "                   'EGP': 0.056433, 'CLP': 0.001652}\n",
    "\n",
    "def convert_salary(row):\n",
    "    if pd.isnull(row.Salary):\n",
    "        return np.nan\n",
    "    elif pd.to_numeric(row.Salary) == 0:\n",
    "        return 0\n",
    "    else:\n",
    "        converted_salary = pd.to_numeric(row.Salary)\n",
    "    \n",
    "    if row.CurrencySymbol in dict_change_rate:\n",
    "        converted_salary *= dict_change_rate.get(row.CurrencySymbol)\n",
    "        if row.SalaryType in dict_salary_type:\n",
    "            return converted_salary * dict_salary_type.get(row.SalaryType)\n",
    "        else:\n",
    "            return np.nan\n",
    "    else:\n",
    "        return np.nan\n",
    "\n",
    "df['ConvertedSalary'] = df.apply(lambda row: convert_salary(row) \n",
    "                                 if pd.isnull(row.ConvertedSalary)\n",
    "                                 else row['ConvertedSalary'], axis=1)\n",
    "\n",
    "print(df['ConvertedSalary'].describe(),\n",
    "    \"\\n\\nValores faltantes en 'ConvertedSalary':\", sum(pd.isnull(df['ConvertedSalary'])),\n",
    "     \"(\" + str(round(10000*sum(pd.isnull(df['ConvertedSalary'])) / df.shape[0]) / 100)+\"%)\")"
   ]
  },
  {
   "cell_type": "markdown",
   "metadata": {},
   "source": [
    "<div style=\"margin-top: 6px; border: 1px solid #cfcfcf; padding: 8px 12px; border-radius:2px; background-color:#f7f7f7;\">\n",
    "Obsérvese que el valor máximo es de \\$744,000,000 USD anual. Si tomamos en cuenta que los salarios promedio más altos en USA no rebasan los \\$200,000 USD, es obvio que estos valores son falsos, lo cual se evidencia del percentil 75 (el 75% de los encuestados asalariados ganan menos de \\$61,000 USD). Hagamos una identificación de valores atípicos:\n",
    "</div>"
   ]
  },
  {
   "cell_type": "code",
   "execution_count": null,
   "metadata": {
    "collapsed": false,
    "scrolled": false
   },
   "outputs": [],
   "source": [
    "import matplotlib\n",
    "import matplotlib.pyplot as plt\n",
    "%matplotlib inline  \n",
    "\n",
    "fig, axarr = plt.subplots(1, 2, figsize=(12, 6))\n",
    "\n",
    "ax1 = df.boxplot(column='ConvertedSalary', ax=axarr[0])\n",
    "\n",
    "ax2, bp  = df.boxplot(column='ConvertedSalary', return_type='both', ax=axarr[1])\n",
    "ax2.set_ylim(-10000, 2.5e5)\n",
    "\n",
    "plt.show()\n",
    "\n",
    "outliers = [flier.get_ydata() for flier in bp[\"fliers\"]]\n",
    "first_outlier = sorted(outliers[0])[0]\n",
    "print(\"Cantidad de valores atípicos: {}.\".format(len(outliers[0])), \n",
    "      \"Inicio de los valores atípicos:\", first_outlier)"
   ]
  },
  {
   "cell_type": "markdown",
   "metadata": {},
   "source": [
    "<div style=\"margin-top: 6px; border: 1px solid #cfcfcf; padding: 8px 12px; border-radius:2px; background-color:#f7f7f7;\">\n",
    "En la gráfica de la izquierda puede apreciarse una gran cantidad de valores atípicos, al grado de ocultar por completo la caja. Una sospecha natural es que estos valores sean una broma del encuestado. Analicemos la relación entre los valores atípicos y la variable 'Hobby':\n",
    "</div>"
   ]
  },
  {
   "cell_type": "code",
   "execution_count": null,
   "metadata": {
    "collapsed": false
   },
   "outputs": [],
   "source": [
    "df1 = df.loc[(df.ConvertedSalary >= first_outlier) & (df.Hobby == 'Yes')]\n",
    "print(\"Valores atípicos en 'ConvertedSalary' para programadores por hobby:\", \n",
    "      df1.shape[0], \"(\" + str(round(10000*df1.shape[0] / df.shape[0]) / 100)+\"%)\")"
   ]
  },
  {
   "cell_type": "markdown",
   "metadata": {},
   "source": [
    "<div style=\"margin-top: 6px; border: 1px solid #cfcfcf; padding: 8px 12px; border-radius:2px; background-color:#f7f7f7;\">\n",
    "Como puede apreciarse, una gran parte de los valores atípicos corresponden a registros con 'Hobby' = 'Yes'. Incluso el valor mínimo de la variable en este conjunto de datos está muy por arriba del salario anual promedio. Realizamos una imputación a cero para estos valores:\n",
    "</div>"
   ]
  },
  {
   "cell_type": "code",
   "execution_count": null,
   "metadata": {
    "collapsed": false
   },
   "outputs": [],
   "source": [
    "df['ConvertedSalary'] = df.apply(lambda row: 0 \n",
    "                                 if (row.ConvertedSalary >= first_outlier) \n",
    "                                 & (row.Hobby == 'Yes')\n",
    "                                 else row['ConvertedSalary'], axis=1)\n",
    "\n",
    "fig, axarr = plt.subplots(1, 2, figsize=(12, 6))\n",
    "\n",
    "ax1 = df.boxplot(column='ConvertedSalary', ax=axarr[0])\n",
    "\n",
    "ax2, bp  = df.boxplot(column='ConvertedSalary', return_type='both', ax=axarr[1])\n",
    "ax2.set_ylim(-10000, 2.5e5)\n",
    "\n",
    "plt.show()\n",
    "\n",
    "outliers = [flier.get_ydata() for flier in bp[\"fliers\"]]\n",
    "first_outlier = sorted(outliers[0])[0]\n",
    "print(\"Cantidad de valores atípicos: {}.\".format(len(outliers[0])), \n",
    "      \"Inicio de los valores atípicos:\", first_outlier)"
   ]
  },
  {
   "cell_type": "markdown",
   "metadata": {},
   "source": [
    "<div style=\"margin-top: 6px; border: 1px solid #cfcfcf; padding: 8px 12px; border-radius:2px; background-color:#f7f7f7;\">\n",
    "Después de la limpieza anterior, aún sigue habiendo datos claramente defectuosos. No es seguro eliminar todos los valores atípicos restantes, modificados ahora por la nueva distribución, ya que pueden ser reales, pero si se puede tomar la decisión de eliminar todos los valores por arriba de \\$200,000.00 USD anuales:\n",
    "</div>"
   ]
  },
  {
   "cell_type": "code",
   "execution_count": null,
   "metadata": {
    "collapsed": false
   },
   "outputs": [],
   "source": [
    "df['ConvertedSalary'] = df.apply(lambda row: 0 \n",
    "                                 if (row.ConvertedSalary >= 2e5) \n",
    "                                 | ((row.ConvertedSalary >= 1.e5) & (row.Hobby == 'Yes'))\n",
    "                                 else row['ConvertedSalary'], axis=1)\n",
    "\n",
    "_, bp  = df.boxplot(column='ConvertedSalary', return_type='both')\n",
    "plt.show()\n",
    "\n",
    "outliers = [flier.get_ydata() for flier in bp[\"fliers\"]]\n",
    "first_outlier = sorted(outliers[0])[0]\n",
    "print(\"Cantidad de valores atípicos: {}.\".format(len(outliers[0])), \n",
    "      \"Inicio de los valores atípicos:\", first_outlier)"
   ]
  },
  {
   "cell_type": "markdown",
   "metadata": {},
   "source": [
    "<div style=\"margin-top: 6px; border: 1px solid #cfcfcf; padding: 8px 12px; border-radius:2px; background-color:#f7f7f7;\">\n",
    "Finalmnete, una vez agotado el tratamiento de la variable 'ConvertedSalary', las variables relacionadas, 'Salary', 'SalaryType' y 'CurrencySymbol' carecen de valor real (para los objetivos del negocio), por lo que podemos descartarlas.\n",
    "</div>"
   ]
  },
  {
   "cell_type": "code",
   "execution_count": null,
   "metadata": {
    "collapsed": false
   },
   "outputs": [],
   "source": [
    "df = df.drop([ 'Salary', 'SalaryType', 'CurrencySymbol'], axis=1)"
   ]
  },
  {
   "cell_type": "markdown",
   "metadata": {},
   "source": [
    "<hr style=\"border-width: 3px;\">\n",
    "\n",
    "<div style=\"width:100%; overflow:hidden;\">\n",
    "<div style=\"width:20%; float:left; padding-right:5px; color:blue; font-weight: bold;\">\n",
    "CompanySize:\n",
    "</div>\n",
    "\n",
    "<div style=\"margin-left: 20%; border: 1px solid #cfcfcf; padding: 8px 12px; border-radius:2px; background-color:#f7f7f7;\">\n",
    "La variable 'CompanySize' tiene sentido sólo si el encuestado está empleado, por lo que es de esperar una relación importante entre los valores faltantes en esta variable y las variables 'Hobby', 'Student' y 'Employment': \n",
    "</div>\n",
    "</div>"
   ]
  },
  {
   "cell_type": "code",
   "execution_count": null,
   "metadata": {
    "collapsed": false
   },
   "outputs": [],
   "source": [
    "print(\"Valores faltantes en 'CompanySize':\", sum(pd.isnull(df['CompanySize'])),\n",
    "     \"(\" + str(round(10000*sum(pd.isnull(df['CompanySize'])) / df.shape[0]) / 100)+\"%)\")\n",
    "\n",
    "df1 = df.loc[(pd.isnull(df.CompanySize)) \n",
    "             & ((df.Hobby == 'Yes') \n",
    "                | (df.Student == 'Yes, full-time')\n",
    "                | (df.Employment == 'Retired')\n",
    "                | (df.Employment == 'Not employed, but looking for work')\n",
    "                | (df.Employment == 'Not employed, and not looking for work'))]\n",
    "print(\"Valores faltantes en 'CompanySize' para no empleados:\", \n",
    "      df1.shape[0], \"(\" + str(round(10000*df1.shape[0] / df.shape[0]) / 100)+\"%)\")"
   ]
  },
  {
   "cell_type": "markdown",
   "metadata": {},
   "source": [
    "<div style=\"margin-top: 6px; border: 1px solid #cfcfcf; padding: 8px 12px; border-radius:2px; background-color:#f7f7f7;\">\n",
    "Hagamos una imputación al valor 'None' para estos registros:\n",
    "</div>"
   ]
  },
  {
   "cell_type": "code",
   "execution_count": null,
   "metadata": {
    "collapsed": false
   },
   "outputs": [],
   "source": [
    "df['CompanySize'] = df.apply(lambda row: 'None'\n",
    "                             if pd.isnull(row.CompanySize) \n",
    "                             & ((row.Hobby == 'Yes') \n",
    "                                | (row.Student == 'Yes, full-time')\n",
    "                                | (row.Employment == 'Retired')\n",
    "                                | (row.Employment == 'Not employed, but looking for work')\n",
    "                                | (row.Employment == 'Not employed, and not looking for work'))\n",
    "                             else row['CompanySize'], axis=1)\n",
    "\n",
    "print(\"Valores faltantes en 'CompanySize':\", sum(pd.isnull(df['CompanySize'])),\n",
    "     \"(\" + str(round(10000*sum(pd.isnull(df['CompanySize'])) / df.shape[0]) / 100)+\"%)\")\n",
    "\n",
    "data = get_counters(df['CompanySize'].dropna(), \"Tamaño de la compañía\")\n",
    "data['Porcentaje'] = data.apply (lambda row: percent (row, df.CompanySize), axis=1)\n",
    "display(HTML(data.to_html()))"
   ]
  },
  {
   "cell_type": "markdown",
   "metadata": {},
   "source": [
    "<div style=\"margin-top: 6px; border: 1px solid #cfcfcf; padding: 8px 12px; border-radius:2px; background-color:#f7f7f7;\">\n",
    "Puesto que ahora, los valores faltantes es muy inferior a 5%, podemos hacer una imputación simple; hagamos una imputación al valor 'None' (la moda y valor mínimo) para estos registros:\n",
    "</div>"
   ]
  },
  {
   "cell_type": "code",
   "execution_count": null,
   "metadata": {
    "collapsed": false
   },
   "outputs": [],
   "source": [
    "df['CompanySize'] = df.apply(lambda row: 'None'\n",
    "                             if pd.isnull(row.CompanySize) \n",
    "                             else row['CompanySize'], axis=1)\n",
    "\n",
    "print(\"Valores faltantes en 'CompanySize':\", sum(pd.isnull(df['CompanySize'])),\n",
    "     \"(\" + str(round(10000*sum(pd.isnull(df['CompanySize'])) / df.shape[0]) / 100)+\"%)\")"
   ]
  },
  {
   "cell_type": "markdown",
   "metadata": {},
   "source": [
    "<div style=\"margin-top: 6px; border: 1px solid #cfcfcf; padding: 8px 12px; border-radius:2px; background-color:#f7f7f7;\">\n",
    "Para el resto de registros no tenemos elementos suficientes para una imputación.\n",
    "</div>"
   ]
  },
  {
   "cell_type": "markdown",
   "metadata": {},
   "source": [
    "<hr style=\"border-width: 3px;\">\n",
    "\n",
    "<div style=\"width:100%; overflow:hidden;\">\n",
    "<div style=\"width:30%; float:left; padding-right:5px; color:blue; font-weight: bold;\">\n",
    "AdBlocker<br>\n",
    "AdBlockerDisable<br>\n",
    "AdBlockerReasons<br>\n",
    "AdsAgreeDisagree1-3<br>\n",
    "AdsActions<br>\n",
    "AdsPriorities1-7<br>\n",
    "</div>\n",
    "\n",
    "<div style=\"margin-left: 30%; border: 1px solid #cfcfcf; padding: 8px 12px; border-radius:2px; background-color:#f7f7f7;\">\n",
    "Estas variables tienen grandes cantidades de valores faltantes y es uno de los intereses importantes para la empresa. Sin embargo, no hay muchos elementos para limpiar estas variables.\n",
    "<br>Analicemos su distribución:\n",
    "</div>\n",
    "</div>"
   ]
  },
  {
   "cell_type": "code",
   "execution_count": null,
   "metadata": {
    "collapsed": false,
    "scrolled": true
   },
   "outputs": [],
   "source": [
    "print(df[['AdBlocker', 'AdBlockerDisable', 'AdBlockerReasons', 'AdsAgreeDisagree1', \n",
    "          'AdsAgreeDisagree2', 'AdsAgreeDisagree3', 'AdsActions', 'AdsPriorities1',\n",
    "         'AdsPriorities2', 'AdsPriorities3', 'AdsPriorities4', 'AdsPriorities5',\n",
    "         'AdsPriorities6', 'AdsPriorities7']].info())"
   ]
  },
  {
   "cell_type": "markdown",
   "metadata": {},
   "source": [
    "<div style=\"margin-top: 6px; border: 1px solid #cfcfcf; padding: 8px 12px; border-radius:2px; background-color:#f7f7f7;\">\n",
    "Analicemos la relación entre 'AdBlocker' y 'AdBlockerDisable':\n",
    "</div>"
   ]
  },
  {
   "cell_type": "code",
   "execution_count": null,
   "metadata": {
    "collapsed": false
   },
   "outputs": [],
   "source": [
    "df1 = df.loc[pd.isnull(df.AdBlockerDisable)\n",
    "             & pd.notnull(df.AdBlocker) & (df.AdBlocker == 'No') ]\n",
    "print(\"Valores faltantes en 'AdBlockerDisable' para 'AdBlocker' negativo:\", \n",
    "      df1.shape[0], \"(\" + str(round(10000*df1.shape[0] / df.shape[0]) / 100)+\"%)\")"
   ]
  },
  {
   "cell_type": "markdown",
   "metadata": {},
   "source": [
    "<div style=\"margin-top: 6px; border: 1px solid #cfcfcf; padding: 8px 12px; border-radius:2px; background-color:#f7f7f7;\">\n",
    "Observemos que muchos de los valores nulos de 'AdBlockerDisable' (In the past month, have you disabled your ad blocker for any reason, even temporarily or for a specific website?) corresponden a quienes respondieron no tener habilitado un bloqueador, 'AdBlocker' Hagamos una imputación por un nuevo valor 'AdBlocker not activated':\n",
    "</div>"
   ]
  },
  {
   "cell_type": "code",
   "execution_count": null,
   "metadata": {
    "collapsed": false
   },
   "outputs": [],
   "source": [
    "df['AdBlockerDisable'] = df.apply(lambda row: 'AdBlocker not activated'\n",
    "                             if pd.isnull(row.AdBlockerDisable) \n",
    "                                  & pd.notnull(row.AdBlocker) & (row.AdBlocker == 'No') \n",
    "                             else row['AdBlockerDisable'], axis=1)\n",
    "\n",
    "print(\"Valores faltantes en 'AdBlockerDisable':\", sum(pd.isnull(df['AdBlockerDisable'])),\n",
    "     \"(\" + str(round(10000*sum(pd.isnull(df['AdBlockerDisable'])) / df.shape[0]) / 100)+\"%)\")"
   ]
  },
  {
   "cell_type": "markdown",
   "metadata": {},
   "source": [
    "<div style=\"margin-top: 6px; border: 1px solid #cfcfcf; padding: 8px 12px; border-radius:2px; background-color:#f7f7f7;\">\n",
    "La variable 'AdBlockerReasons' (What are the reasons that you have disabled your ad blocker in the past month?) tiene también una gran cantidad de valores faltantes. Es de esperar que muchos de estos valores se deban a que el encuestado no tiene habilitado una bloqueador o porque no lo ha deshabilitado. Analicemos la relación entre 'AdBlockerReasons' y las variables 'AdBlocker' y 'AdBlockerDisable':\n",
    "</div>"
   ]
  },
  {
   "cell_type": "code",
   "execution_count": null,
   "metadata": {
    "collapsed": false
   },
   "outputs": [],
   "source": [
    "df1 = df.loc[pd.isnull(df.AdBlockerReasons)\n",
    "             & ((pd.notnull(df.AdBlocker) & (df.AdBlocker == 'No')) \n",
    "                 | (pd.notnull(df.AdBlockerDisable) & (df.AdBlockerDisable == 'No')))]\n",
    "print(\"Valores faltantes en 'AdBlockerReasons' con 'AdBlockerDisable' o 'AdBlocker' \\\n",
    "negativos:\", df1.shape[0], \"(\" + str(round(10000*df1.shape[0] / df.shape[0]) / 100)+\"%)\")"
   ]
  },
  {
   "cell_type": "markdown",
   "metadata": {},
   "source": [
    "<div style=\"margin-top: 6px; border: 1px solid #cfcfcf; padding: 8px 12px; border-radius:2px; background-color:#f7f7f7;\">\n",
    "El resultado previo confirma la hipótesis; hagamos una imputación a la etiquetas 'AdBlocker not activated' y 'AdBlocker not disabled', según sea el caso:\n",
    "</div>"
   ]
  },
  {
   "cell_type": "code",
   "execution_count": null,
   "metadata": {
    "collapsed": false
   },
   "outputs": [],
   "source": [
    "def clean_adblocker(row):\n",
    "    if pd.notnull(row.AdBlocker) & (row.AdBlocker == 'No'):\n",
    "        return 'AdBlocker not activated'\n",
    "    elif pd.notnull(row.AdBlockerDisable) & (row.AdBlockerDisable == 'No'):\n",
    "        return 'AdBlocker not disabled'\n",
    "    else:\n",
    "        return np.nan\n",
    "\n",
    "df['AdBlockerReasons'] = df.apply(lambda row: clean_adblocker(row) \n",
    "                                 if pd.isnull(row.AdBlockerReasons)\n",
    "                                 else row['AdBlockerReasons'], axis=1)\n",
    "\n",
    "print(\"Valores faltantes en 'AdBlockerDisable':\", sum(pd.isnull(df['AdBlockerDisable'])),\n",
    "     \"(\" + str(round(10000*sum(pd.isnull(df['AdBlockerDisable'])) / df.shape[0]) / 100)+\"%)\")"
   ]
  },
  {
   "cell_type": "code",
   "execution_count": null,
   "metadata": {
    "collapsed": false,
    "scrolled": true
   },
   "outputs": [],
   "source": [
    "print(df[['AdBlocker', 'AdBlockerDisable', 'AdBlockerReasons', 'AdsAgreeDisagree1', \n",
    "          'AdsAgreeDisagree2', 'AdsAgreeDisagree3', 'AdsActions', 'AdsPriorities1',\n",
    "         'AdsPriorities2', 'AdsPriorities3', 'AdsPriorities4', 'AdsPriorities5',\n",
    "         'AdsPriorities6', 'AdsPriorities7']].info())"
   ]
  },
  {
   "cell_type": "markdown",
   "metadata": {},
   "source": [
    "<div style=\"margin-top: 6px; border: 1px solid #cfcfcf; padding: 8px 12px; border-radius:2px; background-color:#f7f7f7;\">\n",
    "No parece que se puedan reducir los valores faltantes restantes en estas variables, sin tomar riesgos excesivos.\n",
    "</div>"
   ]
  },
  {
   "cell_type": "markdown",
   "metadata": {},
   "source": [
    "<hr style=\"border-width: 3px;\">\n",
    "\n",
    "<div style=\"width:100%; overflow:hidden;\">\n",
    "<div style=\"width:20%; float:left; padding-right:5px; color:blue; font-weight: bold;\">\n",
    "JobSatisfaction:\n",
    "</div>\n",
    "\n",
    "<div style=\"margin-left: 20%; border: 1px solid #cfcfcf; padding: 8px 12px; border-radius:2px; background-color:#f7f7f7;\">\n",
    "La variable 'JobSatisfaction' tiene sentido sólo si el encuestado está empleado, por lo que es de esperar una relación importante entre los valores faltantes en esta variable y las variables 'Hobby' y 'Student': \n",
    "</div>\n",
    "</div>"
   ]
  },
  {
   "cell_type": "code",
   "execution_count": null,
   "metadata": {
    "collapsed": false
   },
   "outputs": [],
   "source": [
    "print(\"Valores faltantes en 'JobSatisfaction':\", sum(pd.isnull(df['JobSatisfaction'])),\n",
    "     \"(\" + str(round(10000*sum(pd.isnull(df['JobSatisfaction'])) / df.shape[0]) / 100)+\"%)\")\n",
    "\n",
    "df1 = df.loc[(pd.isnull(df.JobSatisfaction)) \n",
    "             & ((df.Hobby == 'Yes') \n",
    "                | (df.Student == 'Yes, full-time'))]\n",
    "print(\"Valores faltantes en 'JobSatisfaction' para no profesionales:\", \n",
    "      df1.shape[0], \"(\" + str(round(10000*df1.shape[0] / df.shape[0]) / 100)+\"%)\")"
   ]
  },
  {
   "cell_type": "markdown",
   "metadata": {},
   "source": [
    "<div style=\"margin-top: 6px; border: 1px solid #cfcfcf; padding: 8px 12px; border-radius:2px; background-color:#f7f7f7;\">\n",
    "Como puede apreciarse, gran parte de los registros nulos en 'JobSatisfaction' coinciden con quienes contestaron programar por hobby o que son estudiantes. La respuesta más adecuada pudiera ser 'Neither satisfied nor dissatisfied', ya que es un valor neutral, sin embargo no es la intención del encuestador. Hagamos una imputación a la nueva etiqueta 'Not a professional developer':\n",
    "</div>"
   ]
  },
  {
   "cell_type": "code",
   "execution_count": null,
   "metadata": {
    "collapsed": false
   },
   "outputs": [],
   "source": [
    "df['JobSatisfaction'] = df.apply(lambda row: 'Not a professional developer'\n",
    "                             if pd.isnull(row.JobSatisfaction) \n",
    "                             & ((row.Hobby == 'Yes') \n",
    "                                | (row.Student == 'Yes, full-time'))\n",
    "                             else row['JobSatisfaction'], axis=1)\n",
    "\n",
    "print(\"Valores faltantes en 'JobSatisfaction':\", sum(pd.isnull(df['JobSatisfaction'])),\n",
    "     \"(\" + str(round(10000*sum(pd.isnull(df['JobSatisfaction'])) / df.shape[0]) / 100)+\"%)\")\n",
    "\n",
    "data = get_counters(df['JobSatisfaction'].dropna(), \"Satisfacción en el empleo\")\n",
    "data['Porcentaje'] = data.apply (lambda row: percent (row, df.CompanySize), axis=1)\n",
    "display(HTML(data.to_html()))"
   ]
  },
  {
   "cell_type": "markdown",
   "metadata": {},
   "source": [
    "<div style=\"margin-top: 6px; border: 1px solid #cfcfcf; padding: 8px 12px; border-radius:2px; background-color:#f7f7f7;\">\n",
    "Los valores faltantes restantes están por abajo del 5%, por lo que podemos hacer una imputación simple. Utilizamos el valor 'Neither satisfied nor dissatisfied' que, como ya argumentamos, es un valor neutral:\n",
    "</div>"
   ]
  },
  {
   "cell_type": "code",
   "execution_count": null,
   "metadata": {
    "collapsed": false
   },
   "outputs": [],
   "source": [
    "df['JobSatisfaction'] = df.apply(lambda row: 'Neither satisfied nor dissatisfied'\n",
    "                             if pd.isnull(row.JobSatisfaction) \n",
    "                             else row['JobSatisfaction'], axis=1)\n",
    "\n",
    "print(\"Valores faltantes en 'JobSatisfaction':\", sum(pd.isnull(df['JobSatisfaction'])),\n",
    "     \"(\" + str(round(10000*sum(pd.isnull(df['JobSatisfaction'])) / df.shape[0]) / 100)+\"%)\")"
   ]
  },
  {
   "cell_type": "markdown",
   "metadata": {},
   "source": [
    "<hr style=\"border-width: 3px;\">\n",
    "\n",
    "<div style=\"width:100%; overflow:hidden;\">\n",
    "<div style=\"width:20%; float:left; padding-right:5px; color:blue; font-weight: bold;\">\n",
    "CareerSatisfaction:\n",
    "</div>\n",
    "\n",
    "<div style=\"margin-left: 20%; border: 1px solid #cfcfcf; padding: 8px 12px; border-radius:2px; background-color:#f7f7f7;\">\n",
    "La variable 'CareerSatisfaction' tiene una naturaleza similar a 'JobSatisfaction'; hagamos el mismo tratamiento: \n",
    "</div>\n",
    "</div>"
   ]
  },
  {
   "cell_type": "code",
   "execution_count": null,
   "metadata": {
    "collapsed": false
   },
   "outputs": [],
   "source": [
    "print(\"Valores faltantes en 'CareerSatisfaction':\", sum(pd.isnull(df['CareerSatisfaction'])),\n",
    "     \"(\" + str(round(10000*sum(pd.isnull(df['CareerSatisfaction'])) / df.shape[0]) / 100)+\"%)\")\n",
    "\n",
    "df1 = df.loc[(pd.isnull(df.CareerSatisfaction)) \n",
    "             & ((df.Hobby == 'Yes') \n",
    "                | (df.Student == 'Yes, full-time'))]\n",
    "print(\"Valores faltantes en 'CareerSatisfaction' para no profesionales:\", \n",
    "      df1.shape[0], \"(\" + str(round(10000*df1.shape[0] / df.shape[0]) / 100)+\"%)\")"
   ]
  },
  {
   "cell_type": "code",
   "execution_count": null,
   "metadata": {
    "collapsed": false
   },
   "outputs": [],
   "source": [
    "df['CareerSatisfaction'] = df.apply(lambda row: 'Not a professional developer'\n",
    "                             if pd.isnull(row.CareerSatisfaction) \n",
    "                             & ((row.Hobby == 'Yes') \n",
    "                                | (row.Student == 'Yes, full-time'))\n",
    "                             else row['CareerSatisfaction'], axis=1)\n",
    "\n",
    "print(\"Valores faltantes en 'CareerSatisfaction':\", sum(pd.isnull(df['CareerSatisfaction'])),\n",
    "     \"(\" + str(round(10000*sum(pd.isnull(df['CareerSatisfaction'])) / df.shape[0]) \n",
    "               / 100)+\"%)\")\n",
    "\n",
    "data = get_counters(df['CareerSatisfaction'].dropna(), \"Satisfacción en el empleo\")\n",
    "data['Porcentaje'] = data.apply (lambda row: percent (row, df.CompanySize), axis=1)\n",
    "display(HTML(data.to_html()))"
   ]
  },
  {
   "cell_type": "code",
   "execution_count": null,
   "metadata": {
    "collapsed": false
   },
   "outputs": [],
   "source": [
    "df['CareerSatisfaction'] = df.apply(lambda row: 'Neither satisfied nor dissatisfied'\n",
    "                             if pd.isnull(row.CareerSatisfaction) \n",
    "                             else row['CareerSatisfaction'], axis=1)\n",
    "\n",
    "print(\"Valores faltantes en 'CareerSatisfaction':\", \n",
    "      sum(pd.isnull(df['CareerSatisfaction'])),\n",
    "     \"(\" + str(round(10000*sum(pd.isnull(df['CareerSatisfaction'])) \n",
    "                     / df.shape[0]) / 100)+\"%)\")"
   ]
  },
  {
   "cell_type": "markdown",
   "metadata": {},
   "source": [
    "<hr style=\"border-width: 3px;\">\n",
    "\n",
    "<div style=\"width:100%; overflow:hidden;\">\n",
    "<div style=\"width:20%; float:left; padding-right:5px; color:blue; font-weight: bold;\">\n",
    "Valores faltantes restantes:\n",
    "</div>\n",
    "\n",
    "<div style=\"margin-left: 20%; border: 1px solid #cfcfcf; padding: 8px 12px; border-radius:2px; background-color:#f7f7f7;\">\n",
    "Para el caso de los valores faltantes restantes, no parece haber elementos suficientes para realizar una mayor limpieza, por lo que los conservaremos como están. Podemos, también, imputar el valor 'Non-responded' a estos valores. \n",
    "</div>\n",
    "</div>"
   ]
  },
  {
   "cell_type": "markdown",
   "metadata": {},
   "source": [
    "<div style=\"margin-top: 6px; border: 1px solid #cfcfcf; padding: 8px 12px; border-radius:2px; background-color:#f7f7f7;\">\n",
    "Después del tratamiento realizado, hagamos un último análisis de la calidad de los datos:\n",
    "</div>"
   ]
  },
  {
   "cell_type": "code",
   "execution_count": null,
   "metadata": {
    "collapsed": false,
    "scrolled": true
   },
   "outputs": [],
   "source": [
    "print(df.dropna().info())"
   ]
  },
  {
   "cell_type": "code",
   "execution_count": null,
   "metadata": {
    "collapsed": false,
    "scrolled": false
   },
   "outputs": [],
   "source": [
    "print(df.dropna(thresh=63).info())"
   ]
  },
  {
   "cell_type": "code",
   "execution_count": null,
   "metadata": {
    "collapsed": false,
    "scrolled": false
   },
   "outputs": [],
   "source": [
    "missing = {}\n",
    "for col in df.describe(include='all'):\n",
    "    missing[col] = 100*sum(pd.isnull(df[col])) / df.shape[0]\n",
    "table = sorted(missing.items(), key=itemgetter(1))\n",
    "\n",
    "data = pd.DataFrame(table, columns=[\"Columna\", \"Valores Faltantes (%)\"])\n",
    "display(HTML(data.to_html()))"
   ]
  },
  {
   "cell_type": "markdown",
   "metadata": {},
   "source": [
    "<br>\n",
    "\n",
    "<span style=\"color:blue; font-weight: bold;\">\n",
    "Conclusiones:\n",
    "</span>\n",
    "\n",
    "<div style=\"border: 1px solid #cfcfcf; padding: 8px 12px; border-radius:2px; background-color:#f7f7f7;\">\n",
    "Al momento hemos eliminado gran parte de los valores faltantes y corregido también gran parte de las inconsistencias. Sin embargo, dado el carácter de los datos y la escasa estructura que presentan, es arriesgado tratar de llevar adelante más actividades de limpieza.\n",
    "</div>"
   ]
  },
  {
   "cell_type": "markdown",
   "metadata": {},
   "source": [
    "###### <a name=\"tarea_7\">Tarea 7</a>\n",
    "\n",
    "Presente el reporte de limpieza de los datos para su caso de estudio.\n",
    "\n",
    "**Fecha de entrega**: ... agosto."
   ]
  },
  {
   "cell_type": "code",
   "execution_count": null,
   "metadata": {
    "collapsed": true
   },
   "outputs": [],
   "source": []
  }
 ],
 "metadata": {
  "celltoolbar": "Raw Cell Format",
  "kernelspec": {
   "display_name": "Python 3",
   "language": "python",
   "name": "python3"
  },
  "language_info": {
   "codemirror_mode": {
    "name": "ipython",
    "version": 3
   },
   "file_extension": ".py",
   "mimetype": "text/x-python",
   "name": "python",
   "nbconvert_exporter": "python",
   "pygments_lexer": "ipython3",
   "version": "3.6.0"
  }
 },
 "nbformat": 4,
 "nbformat_minor": 0
}
