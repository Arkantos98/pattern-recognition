{
 "cells": [
  {
   "cell_type": "markdown",
   "metadata": {},
   "source": [
    "# Reconocimiento de patrones: Contexto\n",
    "### Ramón Soto C. [(rsotoc@moviquest.com)](mailto:rsotoc@moviquest.com/)\n",
    "![ ](images/blank.png)\n",
    "![agents](images/binary_data_under_a_magnifying.jpg)\n",
    "[ver en nbviewer](http://nbviewer.ipython.org/github/rsotoc/pattern-recognition/blob/master/Intro%201.%20Bases%20cognitivas.ipynb)"
   ]
  },
  {
   "cell_type": "markdown",
   "metadata": {},
   "source": [
    "![ ](images/blank.png)\n",
    "## Relación del RP con otras disciplinas\n",
    "\n",
    "El **Reconocimiento de patrones** (**RP**) es una de las disciplinas en Ciencias de la Computación relacionadas con el análisis inteligente de datos.\n",
    "\n",
    "![](images/rp_y_otros.png)\n",
    "\n",
    "\n",
    "Los límites específicos de estas disciplinas no están bien definidos, como puede apreciarse de los siguientes esquemas, encontrados en la Web:\n",
    "\n",
    "[![](images/ai-infographic.gif)](http://www.firstalign.com/services/artificial-intelligence.html)\n",
    "\n",
    "[![](images/main-qimg.png)](https://www.quora.com/What-is-machine-learning-and-how-it-is-linked-to-Big-Data-Data-Mining)\n",
    "\n",
    "[![](images/ds-disciplines.png)](https://www.altexsoft.com/whitepapers/machine-learning-bridging-between-business-and-data-science/)\n",
    "\n",
    "\n",
    "## Industria 4.0 y la popularización de la IA\n",
    "\n",
    "La inteligencia artificial y otras áreas relacionadas, particularmente bajo las etiquetas de \"*Machine Learning*\", \"*Data Mining*\" y \"*Data Science*\", está viviendo una nueva etapa de popularidad, que en esta ocasión viene acompañada de un gran interés por parte de la industria. Este \"resurgimiento\" del área está fuertemente vinculada a la llamada \"economía de la información\" y a la creciente **Industria 4.0**. \n",
    "\n",
    "[![](images/Industry_4.0.png)](https://en.wikipedia.org/wiki/Industry_4.0)\n",
    "\n",
    "La adopción de las técnicas de inteligencia artificial se ha realizado en todos los ámbitos de la industria y con la participación de las empresas más importantes:\n",
    "\n",
    "[![](images/ia_landscape.png)](https://www.techemergence.com/artificial-intelligence-industry-an-overview-by-segment/)\n",
    "\n",
    "<br><br>En la siguiente gráfica se presenta un panorama sobre tendencias del uso de la IA en la industria para los próximos años:\n",
    "\n",
    "[![](images/te_research.png)](https://www.techemergence.com/ai-founders-and-executives-predict-5-year-trends-on-consumer-tech/)\n",
    "\n",
    "<br><br>Por otra parte, el interés de la insudtria en la IA se evidencia a través de las adquisiciones de empresas de AI realizadas por los gigantes tecnológicos:\n",
    "\n",
    "[![](images/ai_buys_giants.jpg)](https://twitter.com/MrJoseHernandez/status/939235139355398149)"
   ]
  },
  {
   "cell_type": "markdown",
   "metadata": {},
   "source": [
    "## CRISP-DM\n",
    "\n",
    "El crecimiento del interés de la industria en las metodologías de inteligencia artificial, particularmente para el caso de análisis de datos, ha venido acompañado de una formalización del proceso de desarrollo de soluciones. \n",
    "\n",
    "El modelo más conocido y utilizado en la industria para el desarrollo de proyectos de innovación para el análisis inteligente de datos es **CRISP-DM** (*Cross-Industry Standard Process for Data Mining*). Aunque este modelo ha sido criticado debido a diversas limitantes y ha venido siendo reemplazado por otras metodologías (principalmente [TDSP](https://azure.microsoft.com/en-gb/documentation/learning-paths/data-science-process/),pero también otras como [KDD](https://decisionstats.com/2009/08/13/interview-gregory-piatetsky-kdnuggets-com/) o [SEMMA](https://en.wikipedia.org/wiki/SEMMA)), el modelo más reconocido, suficientemente simple y suficientemente poderoso y general para fines de este curso, sigue siendo CRISP-DM.\n",
    "\n",
    "**CRISP-DM** es un marco de referencia que permite planificar el desarrollo de un proyecto de minería de datos (y asociados) a partir de 6 fases: 1) *Comprensión del negocio*, 2) *Comprensión de los datos*, 3) *Preparación de los datos*, 4) *Modelado*, 5) *Evaluación* y 6) *Despliegue* (implementación/puesta en marcha).\n",
    "\n",
    "[![](images/crisp_dm_diagram.png)](https://www.datasciencecentral.com/profiles/blogs/crisp-dm-a-standard-methodology-to-ensure-a-good-outcome) <br><br>\n",
    "\n",
    "* **Comprensión del negocio**<br>\n",
    "La fase inicial de un proyecto de minería de datos (y similares) se enfoca en entender los objetivos y requerimientos del proyecto, desde la perspectiva del *negocio*: *a*) identificar las características del problema que se quiere resolver, *b*) identificar cuáles son las necesidades prioritarias que el *cliente* quiere satisfacer y *c*) cuáles son los costos que el cliente está dispuesto a *pagar*. El resultado de esta fase debe ser la definición de un problema en términos técnicos (un problema de minería de datos, por ejemplo) y un plan preliminar de como alcanzar los objetivos.<br><br>Las actividades en esta fase con sus respectivos resultados esperados son:\n",
    "    * Establecimiento de los objetivos del negocio. El objetivo de este conjunto de actividades es conocer las características del cliente: ¿Cuáles son sus antecedentes?, ¿Cuales son sus objetivos de negocio?, ¿Cuáles son los criterios de éxito del negocio?\n",
    "    * Evaluación de la situación. Con estas actividades se busca conocer la situación de la empresa para determinar su capacidad para explotar los datos con que cuenta. Entre las preguntas que hay que responder se encuentran las siguientes: ¿Cuáles son los términos más importantes para describir el negocio?, ¿Con qué recursos humanos y materiales cuenta la empresa para completar el proyecto?, ¿Qué tipos de datos están disponibles para el proyecto?, ¿Cuáles son los principales factores de riesgo?, ¿Cuáles son los planes de contingencia para cada factor de riesgo?, ¿Cuáles son los potenciales costos y beneficios del proyecto?\n",
    "    * Establecimiento de los objetivos de la minería de datos. Aquí se busca determinar los objetivos del proyecto de minería de datos (¿qué se espera obtener con el proyecto?: ¿Una nueva herramienta o servicio? ¿Información para planificación estratégica?) y los criterios que permiten evaluar el éxito del proyecto.\n",
    "    * Generación del plan del proyecto. La fase de comprensión del negocio debe concretarse en una determinación de intervención (hasta este punto, ¿se considera viable la realización del proyecto?) y en caso de ser positiva, en un plan de como realizar las siguientes fases de intervención (recursos a utilizar, compromisos, indicadores de avances, etc.).\n",
    "\n",
    "![](images/crisp_dm_flow01.png)<br><br>"
   ]
  },
  {
   "cell_type": "markdown",
   "metadata": {},
   "source": [
    "* **Comprensión de los datos**<br>\n",
    "\n",
    "![](images/crisp_dm_flow02.png)"
   ]
  },
  {
   "cell_type": "markdown",
   "metadata": {},
   "source": [
    "* **Preparación de los datos**<br>\n",
    "The data preparation phase covers all activities needed to construct the final dataset [data that will be fed into the\n",
    "modeling tool(s)] from the initial raw data. Data preparation tasks are likely to be performed multiple times and not\n",
    "in any prescribed order. Tasks include table, record, and attribute selection, as well as transformation and cleaning\n",
    "of data for modeling tools.\n",
    "\n",
    "![](images/crisp_dm_flow03.png)<br><br>\n",
    "\n",
    "* **Modelado**<br>\n",
    "In this phase, various modeling techniques are selected and applied, and their parameters are calibrated to optimal\n",
    "values. Typically, there are several techniques for the same data mining problem type. Some techniques have specific\n",
    "requirements on the form of data. Therefore, going back to the data preparation phase is often necessary.\n",
    "\n",
    "![](images/crisp_dm_flow04.png)<br><br>\n",
    "\n",
    "* **Evaluación**<br>\n",
    "At this stage in the project, you have built a model (or models) that appears to have high quality from a data analysis\n",
    "perspective. Before proceeding to final deployment of the model, it is important to thoroughly evaluate it and review\n",
    "the steps executed to create it, to be certain the model properly achieves the business objectives. A key objective is\n",
    "to determine if there is some important business issue that has not been sufficiently considered. At the end of this\n",
    "phase, a decision on the use of the data mining results should be reached.\n",
    "\n",
    "![](images/crisp_dm_flow05.png)<br><br>\n",
    "\n",
    "* **Despliegue**<br>\n",
    "Creation of the model is generally not the end of the project. Even if the purpose of the model is to increase knowledge\n",
    "of the data, the knowledge gained will need to be organized and presented in a way that the customer can use it. It\n",
    "often involves applying “live” models within an organization’s decision making processes—for example, real-time\n",
    "personalization of Web pages or repeated scoring of marketing databases. Depending on the requirements, the\n",
    "deployment phase can be as simple as generating a report or as complex as implementing a repeatable data mining\n",
    "process across the enterprise. In many cases, it is the customer, not the data analyst, who carries out the deployment\n",
    "steps. However, even if the analyst will carry out the deployment effort, it is important for the customer to understand\n",
    "up front what actions need to be carried out in order to actually make use of the created models.\n",
    "\n",
    "![](images/crisp_dm_flow06.png)<br><br>"
   ]
  },
  {
   "cell_type": "markdown",
   "metadata": {},
   "source": [
    "![](images/crisp_dm_diagram_notes.png)"
   ]
  },
  {
   "cell_type": "markdown",
   "metadata": {},
   "source": [
    "<hr style=\"border-width: 3px;\">\n",
    "\n",
    "### Tarea 1\n",
    "\n",
    "Describa un problema de reconocimiento de patrones de su interés y explique por qué un modelo tradicional sería inapropiado para resolverlo (utilice la celda siguiente, en esta libreta, para presentar su problema seleccionado).\n",
    "\n",
    "**Fecha de entrega**: Viernes 18 de agosto."
   ]
  },
  {
   "cell_type": "markdown",
   "metadata": {},
   "source": [
    "<hr style=\"border-width: 3px;\">\n",
    "\n",
    "### Problema: xxxxx\n",
    "#### Autor: xxxxx\n",
    "\n",
    "..."
   ]
  }
 ],
 "metadata": {
  "celltoolbar": "Raw Cell Format",
  "kernelspec": {
   "display_name": "Python 3",
   "language": "python",
   "name": "python3"
  },
  "language_info": {
   "codemirror_mode": {
    "name": "ipython",
    "version": 3
   },
   "file_extension": ".py",
   "mimetype": "text/x-python",
   "name": "python",
   "nbconvert_exporter": "python",
   "pygments_lexer": "ipython3",
   "version": "3.6.0"
  }
 },
 "nbformat": 4,
 "nbformat_minor": 0
}
