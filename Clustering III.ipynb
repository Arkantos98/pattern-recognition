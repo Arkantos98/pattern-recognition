{
 "cells": [
  {
   "cell_type": "markdown",
   "metadata": {},
   "source": [
    "# Reconocimiento de patrones: Identificación de grupos o Clustering\n",
    "### Ramón Soto C. [(rsotoc@moviquest.com)](mailto:rsotoc@moviquest.com/)\n",
    "![ ](images/blank.png)\n",
    "![agents](images/binary_data_under_a_magnifying.jpg)\n",
    "[ver en nbviewer](http://nbviewer.ipython.org/github/rsotoc/pattern-recognition/blob/master/Clustering%20II.ipynb)"
   ]
  },
  {
   "cell_type": "markdown",
   "metadata": {},
   "source": [
    "## Técnicas de clustering: *K-Means*\n",
    "\n",
    "La técnica de *k-medias* (o *k-means*) es una de las técnicas de clustering más simples y más utilizadas. Es una técnica de *clasificación no supervisada* o más formalmente, de *aprendizaje no supervisado*: la técnica debe clasificar objetos desconocidos a un conjunto de clases de las que apenas se conocen algunos parámetros y no las características de cada clase. En el caso de *k*-medias, lo único que se conoce es el número de grupos.\n",
    "\n",
    "El objetivo del algoritmo de *k*-medias es particionar un conjunto de *n* datos ejemplo en *k* grupos, asociando objetos cercanos y distinguiendo objetos diferentes. El resultado al final del procedimiento es la generación de un \"*prototipo de clase*\".\n",
    "\n",
    "En la imagen a continuación, se presentan 30 datos (puntos azules) que han sido agrupados en 4 clusters. Las líneas rojas representan fronteras (posibles) entre clase y las estrellas rojas representan prototipos de clase.\n",
    "\n",
    "![ ](images/k-means0.png)\n",
    "\n",
    "La clase es una generalización del cluster; una descripción conceptual del grupo representado por el conjunto de datos. La delimitación de una clase, construida de forma inductiva (a partir de ejemplos), suele no ser precisa: está limitada a los datos de que disponemos para modelarla, como se ilustra en la imagen siguiente. \n",
    "\n",
    "![ ](images/cluster-class.png)\n",
    "\n",
    "En esta imagen, los datos (ficticios) conocidos nos han permitido generar un modelo de clase (area en azul). Sin embargo, la clase real es diferente, sólo que al crear la clase no conocíamos suficientes datos para modelarla fielmente (como los datos señalados como puntos rojos). Considérese, por ejemplo, el siguiente conjunto de bicicletas:\n",
    "\n",
    "![ ](images/bicycles.png)\n",
    "\n",
    "A partir de los datos disponibles podemos concluir, por ejemplo, que todas las bicicletas tienen un asiento y pedales... sin embargo, esta definción de la clase bicicleta no incluye los siguientes ejemplares:\n",
    "\n",
    "[![ ](images/bicycles-2.png)](https://www.youtube.com/watch?v=KewMZ8sM0Uo)\n",
    "\n",
    "\n",
    "### Algoritmo\n",
    "\n",
    "El algoritmo k-means sigue los siguientes pasos:\n",
    "\n",
    "1. Seleccionar de manera arbitraria *k* puntos en el espacio de características como centros iniciales de  los clusters (centroides o centros de masa).\n",
    "![ ](images/k-means1.png)\n",
    "![ ](images/blank.png)\n",
    " \n",
    "2. Asignar cada punto del conjunto de datos al cluster donde la distancia del punto al centroide es menor.\n",
    "![ ](images/k-means2.png)\n",
    "![ ](images/blank.png)\n",
    "\n",
    "3. Calcular los centroides a partir de los puntos en cada cluster. \n",
    "![ ](images/k-means3.png)\n",
    "![ ](images/blank.png)\n",
    "  \n",
    "4. Repetir los pasos 2 y 3 hasta que no haya cambios en los clusters.\n",
    "![ ](images/k-means4.png)\n",
    "![ ](images/blank.png)\n",
    " "
   ]
  },
  {
   "cell_type": "markdown",
   "metadata": {},
   "source": [
    "<hr style=\"border-width: 3px;\">\n",
    "\n",
    "### Tarea 5\n",
    "\n",
    "* ... \n",
    "\n",
    "**Fecha de entrega**: Martes 20 de septiembre."
   ]
  },
  {
   "cell_type": "code",
   "execution_count": null,
   "metadata": {
    "collapsed": true
   },
   "outputs": [],
   "source": []
  }
 ],
 "metadata": {
  "celltoolbar": "Raw Cell Format",
  "kernelspec": {
   "display_name": "Python 3",
   "language": "python",
   "name": "python3"
  },
  "language_info": {
   "codemirror_mode": {
    "name": "ipython",
    "version": 3
   },
   "file_extension": ".py",
   "mimetype": "text/x-python",
   "name": "python",
   "nbconvert_exporter": "python",
   "pygments_lexer": "ipython3",
   "version": "3.5.2"
  }
 },
 "nbformat": 4,
 "nbformat_minor": 0
}
